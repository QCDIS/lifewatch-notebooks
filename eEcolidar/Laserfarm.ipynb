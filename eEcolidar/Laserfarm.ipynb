{
 "cells": [
  {
   "cell_type": "code",
   "execution_count": 3,
   "id": "854c645f-a14b-49ca-a9f5-cb49de30006a",
   "metadata": {},
   "outputs": [],
   "source": [
    "import fnmatch\n",
    "import json\n",
    "import getpass\n",
    "import os\n",
    "import pathlib\n",
    "import datetime\n",
    "import laspy\n",
    "\n",
    "\n",
    "import time\n",
    "import requests\n",
    "                    \n",
    "from dask.distributed import LocalCluster, SSHCluster \n",
    "from laserfarm import Retiler, DataProcessing, GeotiffWriter, MacroPipeline\n",
    "from laserfarm.remote_utils import get_wdclient, get_info_remote, list_remote"
   ]
  },
  {
   "cell_type": "markdown",
   "id": "3b32a2c7-6bc3-4a23-a7f3-be6163358654",
   "metadata": {},
   "source": [
    "## Global Configuration"
   ]
  },
  {
   "cell_type": "code",
   "execution_count": 4,
   "id": "efe9bea7-2750-4882-9dc5-5e4b4adbf273",
   "metadata": {},
   "outputs": [
    {
     "name": "stdout",
     "output_type": "stream",
     "text": [
      "<class 'str'>\n"
     ]
    }
   ],
   "source": [
    "import fnmatch\n",
    "import json\n",
    "import getpass\n",
    "import os\n",
    "import pathlib\n",
    "import datetime\n",
    "\n",
    "from dask.distributed import LocalCluster, SSHCluster \n",
    "from laserfarm import Retiler, DataProcessing, GeotiffWriter, MacroPipeline\n",
    "from laserfarm.remote_utils import get_wdclient, get_info_remote, list_remote\n",
    "\n",
    "conf_username = 'myname'\n",
    "if 'JUPYTERHUB_USER' in os.environ:\n",
    "    conf_username = os.environ['JUPYTERHUB_USER']\n",
    "    \n",
    "conf_remote_path_root = '/webdav/LAZ'\n",
    "conf_remote_path_split = pathlib.Path(conf_remote_path_root + '/split_'+conf_username)\n",
    "conf_remote_path_retiled = pathlib.Path(conf_remote_path_root + '/retiled_'+conf_username)\n",
    "conf_remote_path_norm = pathlib.Path(conf_remote_path_root + '/norm_'+conf_username)\n",
    "conf_remote_path_targets = pathlib.Path(conf_remote_path_root + '/targets_'+conf_username)\n",
    "conf_local_tmp = pathlib.Path('/tmp')\n",
    "conf_remote_path_ahn = conf_remote_path_root\n",
    "\n",
    "\n",
    "param_hostname = ''\n",
    "param_login = ''\n",
    "param_password = ''\n",
    "\n",
    "conf_feature_name = 'perc_95_normalized_height'\n",
    "conf_validate_precision = '0.001'\n",
    "conf_tile_mesh_size = '10.'\n",
    "conf_filter_type= 'select_equal'\n",
    "conf_attribute = 'raw_classification'\n",
    "conf_min_x = '-113107.81'\n",
    "conf_max_x = '398892.19'\n",
    "conf_min_y = '214783.87'\n",
    "conf_max_y = '726783.87'\n",
    "conf_n_tiles_side = '512'\n",
    "conf_apply_filter_value = '1'\n",
    "conf_laz_compression_factor = '7'\n",
    "conf_max_filesize = '262144000'  # desired max file size (in bytes)"
   ]
  },
  {
   "cell_type": "markdown",
   "id": "70913967-81e0-4b22-8b4d-aa1b3f5f2707",
   "metadata": {},
   "source": [
    "## Fetching Laz Files from remote WebDAV"
   ]
  },
  {
   "cell_type": "code",
   "execution_count": 5,
   "id": "30c8f77b-e28a-4b3b-aa29-5b18619251a5",
   "metadata": {},
   "outputs": [],
   "source": [
    "# Fetch Laz Files\n",
    "conf_wd_opts = { 'webdav_hostname': param_hostname, 'webdav_login': param_login, 'webdav_password': param_password}\n",
    "laz_files = [f for f in list_remote(get_wdclient(conf_wd_opts), pathlib.Path(conf_remote_path_ahn).as_posix())\n",
    "             if f.lower().endswith('.laz')]\n"
   ]
  },
  {
   "cell_type": "markdown",
   "id": "bbd4844f-d9f7-4a11-bb7a-69b40d9f0a3f",
   "metadata": {},
   "source": [
    "## Splitting big files into smaller files before retiling\n",
    "This step can be added if the original files are too large for normal VMs to process"
   ]
  },
  {
   "cell_type": "code",
   "execution_count": 4,
   "id": "eb212655-cb47-4f3d-a6b7-45ad1aa105cf",
   "metadata": {},
   "outputs": [
    {
     "name": "stdout",
     "output_type": "stream",
     "text": [
      "Splitting: C_01GZ2.LAZ\n",
      "Splitting: C_02CZ1.LAZ\n",
      "Splitting: C_01GN1.LAZ\n",
      "Splitting: C_01GN2.LAZ\n"
     ]
    }
   ],
   "source": [
    "# split big files dbg\n",
    "\n",
    "for file in laz_files:\n",
    "    print('Splitting: '+file )"
   ]
  },
  {
   "cell_type": "code",
   "execution_count": 5,
   "id": "9c935cbc-02b1-4f0a-a616-c2258a19931d",
   "metadata": {},
   "outputs": [
    {
     "name": "stdout",
     "output_type": "stream",
     "text": [
      "Splitting: C_01GZ2.LAZ\n",
      "Splitting: C_02CZ1.LAZ\n",
      "Splitting: C_01GN1.LAZ\n",
      "Splitting: C_01GN2.LAZ\n"
     ]
    }
   ],
   "source": [
    "# split big files\n",
    "import numpy as np\n",
    "\n",
    "def save_chunk_to_laz_file(in_filename, \n",
    "                           out_filename, \n",
    "                           offset, \n",
    "                           n_points):\n",
    "    \"\"\"Read points from a LAS/LAZ file and write them to a new file.\"\"\"\n",
    "    \n",
    "    points = np.array([])\n",
    "    \n",
    "    with laspy.open(in_filename) as in_file:\n",
    "        with laspy.open(out_filename, \n",
    "                        mode=\"w\", \n",
    "                        header=in_file.header) as out_file:\n",
    "            in_file.seek(offset)\n",
    "            points = in_file.read_points(n_points)\n",
    "            out_file.write_points(points)\n",
    "    return len(points)\n",
    "\n",
    "def split_strategy(filename, max_filesize):\n",
    "    \"\"\"Set up splitting strategy for a LAS/LAZ file.\"\"\"\n",
    "    with laspy.open(filename) as f:\n",
    "        bytes_per_point = (\n",
    "            f.header.point_format.num_standard_bytes +\n",
    "            f.header.point_format.num_extra_bytes\n",
    "        )\n",
    "        n_points = f.header.point_count\n",
    "    n_points_target = int(\n",
    "        max_filesize * int(conf_laz_compression_factor) / bytes_per_point\n",
    "    )\n",
    "    stem, ext = os.path.splitext(filename)\n",
    "    return [\n",
    "        (filename, f\"{stem}-{n}{ext}\", offset, n_points_target)\n",
    "        for n, offset in enumerate(range(0, n_points, n_points_target))\n",
    "    ]\n",
    "\n",
    "from webdav3.client import Client\n",
    "\n",
    "client = Client(conf_wd_opts)\n",
    "client.mkdir(conf_remote_path_split.as_posix())\n",
    "\n",
    "\n",
    "remote_path_split = conf_remote_path_split\n",
    "\n",
    "for file in laz_files:\n",
    "    print('Splitting: '+file)\n",
    "    client.download_sync(remote_path=os.path.join(conf_remote_path_ahn,file), local_path=file)\n",
    "    inps = split_strategy(file, int(conf_max_filesize))\n",
    "    for inp in inps:\n",
    "        save_chunk_to_laz_file(*inp)\n",
    "    client.upload_sync(remote_path=os.path.join(conf_remote_path_split,file), local_path=file)\n",
    "\n",
    "    for f in os.listdir('.'):\n",
    "        if not f.endswith('.LAZ'):\n",
    "            continue\n",
    "        os.remove(os.path.join('.', f))\n",
    "        \n",
    "remote_path_retiled = str(conf_remote_path_retiled)"
   ]
  },
  {
   "cell_type": "code",
   "execution_count": 6,
   "id": "204919df-7caf-4c7b-8cee-02ff7201ca1c",
   "metadata": {},
   "outputs": [],
   "source": [
    "# Fetch split Laz Files\n",
    "remote_path_retiled\n",
    "\n",
    "split_laz_files = [f for f in list_remote(get_wdclient(conf_wd_opts), pathlib.Path(conf_remote_path_ahn).as_posix())\n",
    "             if f.lower().endswith('.laz')]"
   ]
  },
  {
   "cell_type": "markdown",
   "id": "caad5d0f-2cbb-4889-ae63-3972626db753",
   "metadata": {},
   "source": [
    "## Retiling of big files into smaller tiles"
   ]
  },
  {
   "cell_type": "code",
   "execution_count": 1,
   "id": "034685db-0dda-48f9-98f3-fd38ae2525ca",
   "metadata": {},
   "outputs": [
    {
     "ename": "NameError",
     "evalue": "name 'conf_min_x' is not defined",
     "output_type": "error",
     "traceback": [
      "\u001b[0;31m---------------------------------------------------------------------------\u001b[0m",
      "\u001b[0;31mNameError\u001b[0m                                 Traceback (most recent call last)",
      "Cell \u001b[0;32mIn[1], line 4\u001b[0m\n\u001b[1;32m      1\u001b[0m \u001b[38;5;66;03m# Retiling\u001b[39;00m\n\u001b[1;32m      3\u001b[0m grid_retile \u001b[38;5;241m=\u001b[39m {\n\u001b[0;32m----> 4\u001b[0m     \u001b[38;5;124m'\u001b[39m\u001b[38;5;124mmin_x\u001b[39m\u001b[38;5;124m'\u001b[39m: \u001b[38;5;28mfloat\u001b[39m(\u001b[43mconf_min_x\u001b[49m),\n\u001b[1;32m      5\u001b[0m     \u001b[38;5;124m'\u001b[39m\u001b[38;5;124mmax_x\u001b[39m\u001b[38;5;124m'\u001b[39m: \u001b[38;5;28mfloat\u001b[39m(conf_max_x),\n\u001b[1;32m      6\u001b[0m     \u001b[38;5;124m'\u001b[39m\u001b[38;5;124mmin_y\u001b[39m\u001b[38;5;124m'\u001b[39m: \u001b[38;5;28mfloat\u001b[39m(conf_min_y),\n\u001b[1;32m      7\u001b[0m     \u001b[38;5;124m'\u001b[39m\u001b[38;5;124mmax_y\u001b[39m\u001b[38;5;124m'\u001b[39m: \u001b[38;5;28mfloat\u001b[39m(conf_max_y),\n\u001b[1;32m      8\u001b[0m     \u001b[38;5;124m'\u001b[39m\u001b[38;5;124mn_tiles_side\u001b[39m\u001b[38;5;124m'\u001b[39m: \u001b[38;5;28mint\u001b[39m(conf_n_tiles_side)\n\u001b[1;32m      9\u001b[0m }\n\u001b[1;32m     11\u001b[0m retiling_input \u001b[38;5;241m=\u001b[39m {\n\u001b[1;32m     12\u001b[0m     \u001b[38;5;124m'\u001b[39m\u001b[38;5;124msetup_local_fs\u001b[39m\u001b[38;5;124m'\u001b[39m: {\u001b[38;5;124m'\u001b[39m\u001b[38;5;124mtmp_folder\u001b[39m\u001b[38;5;124m'\u001b[39m: conf_local_tmp\u001b[38;5;241m.\u001b[39mas_posix()},\n\u001b[1;32m     13\u001b[0m     \u001b[38;5;124m'\u001b[39m\u001b[38;5;124mpullremote\u001b[39m\u001b[38;5;124m'\u001b[39m: conf_remote_path_split\u001b[38;5;241m.\u001b[39mas_posix(),\n\u001b[0;32m   (...)\u001b[0m\n\u001b[1;32m     18\u001b[0m     \u001b[38;5;124m'\u001b[39m\u001b[38;5;124mcleanlocalfs\u001b[39m\u001b[38;5;124m'\u001b[39m: {}\n\u001b[1;32m     19\u001b[0m }\n\u001b[1;32m     21\u001b[0m \u001b[38;5;28;01mfor\u001b[39;00m file \u001b[38;5;129;01min\u001b[39;00m split_laz_files:\n",
      "\u001b[0;31mNameError\u001b[0m: name 'conf_min_x' is not defined"
     ]
    }
   ],
   "source": [
    "# Retiling\n",
    "\n",
    "grid_retile = {\n",
    "    'min_x': float(conf_min_x),\n",
    "    'max_x': float(conf_max_x),\n",
    "    'min_y': float(conf_min_y),\n",
    "    'max_y': float(conf_max_y),\n",
    "    'n_tiles_side': int(conf_n_tiles_side)\n",
    "}\n",
    "\n",
    "retiling_input = {\n",
    "    'setup_local_fs': {'tmp_folder': conf_local_tmp.as_posix()},\n",
    "    'pullremote': conf_remote_path_split.as_posix(),\n",
    "    'set_grid': grid_retile,\n",
    "    'split_and_redistribute': {},\n",
    "    'validate': {},\n",
    "    'pushremote': conf_remote_path_retiled.as_posix(),\n",
    "    'cleanlocalfs': {}\n",
    "}\n",
    "\n",
    "for file in split_laz_files:\n",
    "    print('Retiling: '+file)\n",
    "    retiler = Retiler(file.replace('\"',''),label=file).config(retiling_input).setup_webdav_client(conf_wd_opts)\n",
    "    retiler_output = retiler.run()\n",
    "    \n",
    "    \n",
    "remote_path_retiled = conf_remote_path_retiled.as_posix()\n",
    "print(type(remote_path_retiled))"
   ]
  },
  {
   "cell_type": "code",
   "execution_count": 8,
   "id": "c42e0dbb-1535-4527-8f29-4ad988848201",
   "metadata": {},
   "outputs": [
    {
     "name": "stdout",
     "output_type": "stream",
     "text": [
      "None\n"
     ]
    }
   ],
   "source": [
    "print(retiler_output)"
   ]
  },
  {
   "cell_type": "code",
   "execution_count": 9,
   "id": "f124b676-682d-4aae-a156-72e61c0ce66b",
   "metadata": {},
   "outputs": [],
   "source": [
    "# Fetch Tiles\n",
    "remote_path_retiled\n",
    "\n",
    "tiles = [t.strip('/') for t in list_remote(get_wdclient(conf_wd_opts), conf_remote_path_retiled.as_posix())\n",
    "         if fnmatch.fnmatch(t, 'tile_*_*/')]"
   ]
  },
  {
   "cell_type": "code",
   "execution_count": null,
   "id": "98f5a38d-a125-4218-8657-42322b50f842",
   "metadata": {},
   "outputs": [
    {
     "name": "stderr",
     "output_type": "stream",
     "text": [
      "2023-01-11 03:09:33,382 -           laserfarm.pipeline_remote_data -       INFO - Input dir set to /tmp/tile_278_391_input\n",
      "2023-01-11 03:09:33,382 -           laserfarm.pipeline_remote_data -       INFO - Output dir set to /tmp/tile_278_391_output\n",
      "2023-01-11 03:09:33,384 -           laserfarm.pipeline_remote_data -       INFO - Pulling from WebDAV /webdav/LAZ/retiled_skoulouzis/tile_278_391 ...\n",
      "2023-01-11 03:09:40,344 -           laserfarm.pipeline_remote_data -       INFO - ... pulling completed.\n",
      "2023-01-11 03:09:40,346 -                laserfarm.data_processing -       INFO - Loading point cloud data ...\n",
      "2023-01-11 03:09:40,348 -                laserfarm.data_processing -       INFO - ... loading /tmp/tile_278_391_input/tile_278_391/C_01GN1_9.LAZ\n",
      "2023-01-11 03:09:40,617 -                laserfarm.data_processing -       INFO - ... loading /tmp/tile_278_391_input/tile_278_391/C_01GN2_1.LAZ\n",
      "2023-01-11 03:09:42,373 -                laserfarm.data_processing -       INFO - ... loading /tmp/tile_278_391_input/tile_278_391/C_01GZ2_2.LAZ\n",
      "2023-01-11 03:09:44,927 -                laserfarm.data_processing -       INFO - ... loading completed.\n",
      "2023-01-11 03:09:44,936 -                laserfarm.data_processing -       INFO - Normalizing point-cloud heights ...\n",
      "2023-01-11 03:09:46,707 -                                     root -       INFO - Cylinder size in Bytes: 6660176425.610363\n",
      "2023-01-11 03:09:46,708 -                                     root -       INFO - Memory size in Bytes: 7113195520\n",
      "2023-01-11 03:09:46,709 -                                     root -       INFO - Number of points: 534009\n",
      "2023-01-11 03:10:25,533 -                laserfarm.data_processing -       INFO - ... normalization completed.\n",
      "2023-01-11 03:10:25,539 -                laserfarm.data_processing -       INFO - Filtering point-cloud data\n",
      "2023-01-11 03:10:25,609 -                laserfarm.data_processing -       INFO - Setting up the target grid\n",
      "2023-01-11 03:10:25,615 -                laserfarm.data_processing -       INFO - Checking whether points belong to cell (278,391)\n",
      "2023-01-11 03:10:25,622 -                laserfarm.data_processing -       INFO - Generating target point mesh with 10.0m spacing \n",
      "2023-01-11 03:10:25,624 -                laserfarm.data_processing -       INFO - Building volume of type cell\n",
      "2023-01-11 03:10:25,624 -                laserfarm.data_processing -       INFO - Constructing neighborhoods\n",
      "2023-01-11 03:10:25,625 -                laserfarm.data_processing -       INFO - Starting feature extraction ...\n",
      "2023-01-11 03:10:25,627 -                                     root -       INFO - Cylinder size in Bytes: 6660176425.610363\n",
      "2023-01-11 03:10:25,634 -                                     root -       INFO - Memory size in Bytes: 7113195520\n",
      "2023-01-11 03:10:25,635 -                                     root -       INFO - Number of points: 5340\n",
      "2023-01-11 03:10:26,528 -                                     root -       INFO - Extracting feature(s) \"['perc_95_normalized_height']\"\n",
      "2023-01-11 03:10:26,629 -                                     root -       INFO - Extracting feature(s) \"['perc_95_normalized_height']\" took 0.10 seconds\n",
      "2023-01-11 03:10:26,634 -                laserfarm.data_processing -       INFO - ... feature extraction completed.\n",
      "2023-01-11 03:10:26,636 -                laserfarm.data_processing -       INFO - Exporting target point-cloud ...\n",
      "2023-01-11 03:10:26,637 -                laserfarm.data_processing -       INFO - ... exporting /tmp/tile_278_391_output/perc_95_normalized_height/tile_278_391.ply\n",
      "2023-01-11 03:10:26,745 -                laserfarm.data_processing -       INFO - ... exporting completed.\n",
      "2023-01-11 03:10:26,749 -           laserfarm.pipeline_remote_data -       INFO - Pushing to WebDAV /webdav/LAZ/targets_skoulouzis ...\n",
      "2023-01-11 03:10:30,924 -           laserfarm.pipeline_remote_data -       INFO - ... pushing completed.\n",
      "2023-01-11 03:10:30,928 -           laserfarm.pipeline_remote_data -       INFO - Input dir set to /tmp/tile_278_390_input\n",
      "2023-01-11 03:10:30,929 -           laserfarm.pipeline_remote_data -       INFO - Output dir set to /tmp/tile_278_390_output\n",
      "2023-01-11 03:10:30,930 -           laserfarm.pipeline_remote_data -       INFO - Pulling from WebDAV /webdav/LAZ/retiled_skoulouzis/tile_278_390 ...\n",
      "2023-01-11 03:10:36,933 -           laserfarm.pipeline_remote_data -       INFO - ... pulling completed.\n",
      "2023-01-11 03:10:36,934 -                laserfarm.data_processing -       INFO - Loading point cloud data ...\n",
      "2023-01-11 03:10:36,935 -                laserfarm.data_processing -       INFO - ... loading /tmp/tile_278_390_input/tile_278_390/C_01GZ2_1.LAZ\n",
      "2023-01-11 03:10:45,107 -                laserfarm.data_processing -       INFO - ... loading completed.\n",
      "2023-01-11 03:10:45,215 -                laserfarm.data_processing -       INFO - Normalizing point-cloud heights ...\n",
      "2023-01-11 03:10:46,794 -                                     root -       INFO - Cylinder size in Bytes: 5531209919.705151\n",
      "2023-01-11 03:10:46,795 -                                     root -       INFO - Memory size in Bytes: 7113195520\n",
      "2023-01-11 03:10:46,795 -                                     root -       INFO - Number of points: 534009\n"
     ]
    }
   ],
   "source": [
    "# Feature Extraction\n",
    "    \n",
    "for t in tiles:\n",
    "    features = [conf_feature_name]\n",
    "\n",
    "    tile_mesh_size = float(conf_tile_mesh_size)\n",
    "\n",
    "    grid_feature = {\n",
    "        'min_x': float(conf_min_x),\n",
    "        'max_x': float(conf_max_x),\n",
    "        'min_y': float(conf_min_y),\n",
    "        'max_y': float(conf_max_y),\n",
    "        'n_tiles_side': int(conf_n_tiles_side)\n",
    "    }\n",
    "\n",
    "    feature_extraction_input = {\n",
    "        'setup_local_fs': {'tmp_folder': conf_local_tmp.as_posix()},\n",
    "        'pullremote': conf_remote_path_retiled.as_posix(),\n",
    "        'load': {'attributes': [conf_attribute]},\n",
    "        'normalize': 1,\n",
    "        'apply_filter': {\n",
    "            'filter_type': conf_filter_type, \n",
    "            'attribute': conf_attribute,\n",
    "            'value': [int(conf_apply_filter_value)]#ground surface (2), water (9), buildings (6), artificial objects (26), vegetation (?), and unclassified (1)\n",
    "        },\n",
    "        'generate_targets': {\n",
    "            'tile_mesh_size' : tile_mesh_size,\n",
    "            'validate' : True,\n",
    "            'validate_precision': float(conf_validate_precision),\n",
    "            **grid_feature\n",
    "        },\n",
    "        'extract_features': {\n",
    "            'feature_names': features,\n",
    "            'volume_type': 'cell',\n",
    "            'volume_size': tile_mesh_size\n",
    "        },\n",
    "        'export_targets': {\n",
    "            'attributes': features,\n",
    "            'multi_band_files': False\n",
    "        },\n",
    "        'pushremote': conf_remote_path_targets.as_posix(),\n",
    "    #     'cleanlocalfs': {}\n",
    "    }\n",
    "    idx = (t.split('_')[1:])\n",
    "\n",
    "    processing = DataProcessing(t, tile_index=idx,label=t).config(feature_extraction_input).setup_webdav_client(conf_wd_opts)\n",
    "    processing.run()"
   ]
  },
  {
   "cell_type": "code",
   "execution_count": null,
   "id": "fa231d82-5b7b-4699-ace6-472841262feb",
   "metadata": {},
   "outputs": [],
   "source": []
  },
  {
   "cell_type": "code",
   "execution_count": null,
   "id": "a2436bb9-b227-4e29-be73-d7db000ab2ee",
   "metadata": {},
   "outputs": [],
   "source": []
  }
 ],
 "metadata": {
  "kernelspec": {
   "display_name": "Python 3 (ipykernel)",
   "language": "python",
   "name": "python3"
  },
  "language_info": {
   "codemirror_mode": {
    "name": "ipython",
    "version": 3
   },
   "file_extension": ".py",
   "mimetype": "text/x-python",
   "name": "python",
   "nbconvert_exporter": "python",
   "pygments_lexer": "ipython3",
   "version": "3.11.0"
  }
 },
 "nbformat": 4,
 "nbformat_minor": 5
}
