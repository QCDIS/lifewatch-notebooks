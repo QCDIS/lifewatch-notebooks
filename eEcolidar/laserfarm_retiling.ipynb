{
 "cells": [
  {
   "cell_type": "code",
   "execution_count": null,
   "id": "69cd2e73-e086-4470-83aa-4bc1c2c6b303",
   "metadata": {},
   "outputs": [],
   "source": [
    "import fnmatch\n",
    "import json\n",
    "import getpass\n",
    "import os\n",
    "import pathlib\n",
    "import datetime\n",
    "                    \n",
    "from dask.distributed import LocalCluster, SSHCluster \n",
    "from laserfarm import Retiler, DataProcessing, GeotiffWriter, MacroPipeline\n",
    "from laserfarm.remote_utils import get_wdclient, get_info_remote, list_remote"
   ]
  },
  {
   "cell_type": "markdown",
   "id": "7ce46b88-7913-4df3-89cb-285ac6c38862",
   "metadata": {},
   "source": [
    "## Global Configuration"
   ]
  },
  {
   "cell_type": "code",
   "execution_count": 2,
   "id": "412ff5aa-ccec-49e7-96d2-601e33470440",
   "metadata": {
    "tags": []
   },
   "outputs": [],
   "source": [
    "# Configurations\n",
    "\n",
    "import fnmatch\n",
    "import json\n",
    "import getpass\n",
    "import os\n",
    "import pathlib\n",
    "import datetime\n",
    "                    \n",
    "from dask.distributed import LocalCluster, SSHCluster \n",
    "from laserfarm import Retiler, DataProcessing, GeotiffWriter, MacroPipeline\n",
    "from laserfarm.remote_utils import get_wdclient, get_info_remote, list_remote\n",
    "\n",
    "conf_remote_path_root = pathlib.Path('/webdav')\n",
    "conf_remote_path_ahn = pathlib.Path('/webdav/ahn')\n",
    "conf_remote_path_retiled = pathlib.Path('/webdav/retiled/')\n",
    "conf_remote_path_targets = pathlib.Path('/webdav/targets')\n",
    "conf_local_tmp = pathlib.Path('/tmp')\n",
    "\n",
    "param_hostname = 'https://lfw-ds001-i022.lifewatch.dev:32443'\n",
    "param_login = 'laser_data'\n",
    "param_password = 'zDoy0hNKOYAVd'\n",
    "\n",
    "param_feature_name = 'perc_95_normalized_height'\n",
    "param_validate_precision = '0.00001'\n",
    "param_tile_mesh_size = '10.'\n",
    "param_filter_type= 'select_equal'\n",
    "param_attribute = 'raw_classification'\n",
    "param_min_x = '-113107.81'\n",
    "param_max_x = '398892.19'\n",
    "param_min_y = '214783.87'\n",
    "param_max_y = '726783.87'\n",
    "param_n_tiles_side = '512'\n",
    "param_apply_filter_value = '1'\n",
    "\n",
    "conf_wd_opts = { 'webdav_hostname': param_hostname, 'webdav_login': param_login, 'webdav_password': param_password}"
   ]
  },
  {
   "cell_type": "markdown",
   "id": "69c05beb-5a07-4df5-82ce-e705c790c411",
   "metadata": {},
   "source": [
    "## Fetching Laz Files from remote WebDAV"
   ]
  },
  {
   "cell_type": "code",
   "execution_count": 3,
   "id": "4d567fa3-9d09-4940-99a5-bdf7fc5e476f",
   "metadata": {},
   "outputs": [],
   "source": [
    "# Fetch Laz Files Demo\n",
    "\n",
    "laz_files = [f for f in list_remote(get_wdclient(conf_wd_opts), conf_remote_path_ahn.as_posix())\n",
    "             if f.lower().endswith('.laz')]"
   ]
  },
  {
   "cell_type": "markdown",
   "id": "80aef522-e847-47ea-84f6-d3df6b4a4b00",
   "metadata": {},
   "source": [
    "## Retiling of big files into smaller tiles"
   ]
  },
  {
   "cell_type": "code",
   "execution_count": 5,
   "id": "4df65dbb-ced5-4cb5-89f6-830dbca1fc6a",
   "metadata": {},
   "outputs": [
    {
     "name": "stderr",
     "output_type": "stream",
     "text": [
      "2022-04-11 12:50:15,215 -           laserfarm.pipeline_remote_data -       INFO - Input dir set to /tmp/pipeline_input\n",
      "2022-04-11 12:50:15,216 -           laserfarm.pipeline_remote_data -       INFO - Output dir set to /tmp/pipeline_output\n",
      "2022-04-11 12:50:15,219 -           laserfarm.pipeline_remote_data -       INFO - Pulling from WebDAV /webdav/ahn/C_19HZ2.LAZ ...\n",
      "2022-04-11 12:50:16,041 -           laserfarm.pipeline_remote_data -       INFO - ... pulling completed.\n",
      "2022-04-11 12:50:16,044 -                        laserfarm.retiler -       INFO - Setting up the target grid\n",
      "2022-04-11 12:50:16,045 -                        laserfarm.retiler -       INFO - Splitting file /tmp/pipeline_input/C_19HZ2.LAZ with PDAL ...\n",
      "2022-04-11 12:50:16,177 -                        laserfarm.retiler -       INFO - ... splitting completed.\n",
      "2022-04-11 12:50:16,180 -                        laserfarm.retiler -       INFO - Redistributing files to tiles ...\n",
      "2022-04-11 12:50:16,189 -                        laserfarm.retiler -       INFO - ... file C_19HZ2_1.LAZ to tile_248_285\n",
      "2022-04-11 12:50:16,190 -                        laserfarm.retiler -       INFO - ... redistributing completed.\n",
      "2022-04-11 12:50:16,191 -                        laserfarm.retiler -       INFO - Validating split ...\n",
      "2022-04-11 12:50:16,192 -                        laserfarm.retiler -       INFO - ... 66663 points in parent file\n",
      "2022-04-11 12:50:16,193 -                        laserfarm.retiler -       INFO - ... 66663 points in C_19HZ2_1.LAZ\n",
      "2022-04-11 12:50:16,194 -                        laserfarm.retiler -       INFO - ... split validation completed.\n",
      "2022-04-11 12:50:16,194 -           laserfarm.pipeline_remote_data -       INFO - Pushing to WebDAV /webdav/retiled ...\n",
      "2022-04-11 12:50:18,001 -           laserfarm.pipeline_remote_data -       INFO - ... pushing completed.\n",
      "2022-04-11 12:50:18,002 -           laserfarm.pipeline_remote_data -       INFO - Removing input and output folders\n"
     ]
    }
   ],
   "source": [
    "# Retiling Demo\n",
    "\n",
    "remote_path_retiled = str(conf_remote_path_retiled)\n",
    "\n",
    "grid_retile = {\n",
    "    'min_x': -113107.81,\n",
    "    'max_x': 398892.19,\n",
    "    'min_y': 214783.87,\n",
    "    'max_y': 726783.87,\n",
    "    'n_tiles_side': 512\n",
    "}\n",
    "\n",
    "\n",
    "retiling_input = {\n",
    "    'setup_local_fs': {'tmp_folder': conf_local_tmp.as_posix()},\n",
    "    'pullremote': conf_remote_path_ahn.as_posix(),\n",
    "    'set_grid': grid_retile,\n",
    "    'split_and_redistribute': {},\n",
    "    'validate': {},\n",
    "    'pushremote': conf_remote_path_retiled.as_posix(),\n",
    "    'cleanlocalfs': {}\n",
    "}\n",
    "\n",
    "file = laz_files\n",
    "retiler = Retiler(file).config(retiling_input).setup_webdav_client(conf_wd_opts)\n",
    "retiler_output = retiler.run()"
   ]
  },
  {
   "cell_type": "markdown",
   "id": "aa7bc806-32b4-45f9-82bd-372c6b749798",
   "metadata": {},
   "source": [
    "## Fetching retilied files (tiles) from remote WebDAV"
   ]
  },
  {
   "cell_type": "code",
   "execution_count": 7,
   "id": "f434bbe9-7f72-49dc-8c85-e6400bad8d59",
   "metadata": {},
   "outputs": [
    {
     "name": "stderr",
     "output_type": "stream",
     "text": [
      "2022-04-11 12:50:31,969 -           laserfarm.pipeline_remote_data -       INFO - Input dir set to /tmp/pipeline_input\n",
      "2022-04-11 12:50:31,970 -           laserfarm.pipeline_remote_data -       INFO - Output dir set to /tmp/pipeline_output\n",
      "2022-04-11 12:50:31,972 -           laserfarm.pipeline_remote_data -       INFO - Pulling from WebDAV /webdav/retiled/tile_248_285 ...\n",
      "2022-04-11 12:50:33,171 -           laserfarm.pipeline_remote_data -       INFO - ... pulling completed.\n",
      "2022-04-11 12:50:33,172 -                laserfarm.data_processing -       INFO - Loading point cloud data ...\n",
      "2022-04-11 12:50:33,173 -                laserfarm.data_processing -       INFO - ... loading /tmp/pipeline_input/tile_248_285/C_19HZ2_1.LAZ\n",
      "2022-04-11 12:50:33,174 -                          pylas.lasreader -      ERROR - lazrs failed to decompress points: lazrs is not installed\n",
      "2022-04-11 12:50:33,311 -                laserfarm.data_processing -       INFO - ... loading completed.\n",
      "2022-04-11 12:50:33,312 -                laserfarm.data_processing -       INFO - Normalizing point-cloud heights ...\n",
      "2022-04-11 12:50:33,331 -                                     root -       INFO - Cylinder size in Bytes: 73060878.75188425\n",
      "2022-04-11 12:50:33,332 -                                     root -       INFO - Memory size in Bytes: 15356571648\n",
      "2022-04-11 12:50:33,333 -                                     root -       INFO - Start tree creation\n",
      "2022-04-11 12:50:33,369 -                                     root -       INFO - Done with env tree creation\n",
      "2022-04-11 12:50:33,371 -                                     root -       INFO - Done with target tree creation\n",
      "2022-04-11 12:50:33,790 -                laserfarm.data_processing -       INFO - ... normalization completed.\n",
      "2022-04-11 12:50:33,791 -                laserfarm.data_processing -       INFO - Filtering point-cloud data\n",
      "2022-04-11 12:50:33,793 -                laserfarm.data_processing -       INFO - Setting up the target grid\n",
      "2022-04-11 12:50:33,794 -                laserfarm.data_processing -       INFO - Checking whether points belong to cell (248,285)\n",
      "2022-04-11 12:50:33,795 -                laserfarm.data_processing -       INFO - Generating target point mesh with 10.0m spacing \n",
      "2022-04-11 12:50:33,796 -                laserfarm.data_processing -       INFO - Building volume of type cell\n",
      "2022-04-11 12:50:33,797 -                laserfarm.data_processing -       INFO - Constructing neighborhoods\n",
      "2022-04-11 12:50:33,797 -                laserfarm.data_processing -       INFO - Starting feature extraction ...\n",
      "2022-04-11 12:50:33,798 -                                     root -       INFO - Cylinder size in Bytes: 6408849013.323179\n",
      "2022-04-11 12:50:33,799 -                                     root -       INFO - Memory size in Bytes: 15356571648\n",
      "2022-04-11 12:50:33,800 -                                     root -       INFO - Start tree creation\n",
      "2022-04-11 12:50:33,801 -                                     root -       INFO - Done with env tree creation\n",
      "2022-04-11 12:50:33,803 -                                     root -       INFO - Done with target tree creation\n",
      "2022-04-11 12:50:33,921 -                                     root -       INFO - Extracting feature(s) \"['perc_95_normalized_height']\"\n",
      "2022-04-11 12:50:33,982 -                                     root -       INFO - Extracting feature(s) \"['perc_95_normalized_height']\" took 0.06 seconds\n",
      "2022-04-11 12:50:33,984 -                laserfarm.data_processing -       INFO - ... feature extraction completed.\n",
      "2022-04-11 12:50:33,985 -                laserfarm.data_processing -       INFO - Exporting target point-cloud ...\n",
      "2022-04-11 12:50:33,985 -                laserfarm.data_processing -       INFO - ... exporting /tmp/pipeline_output/perc_95_normalized_height/tile_248_285.ply\n",
      "2022-04-11 12:50:34,099 -                laserfarm.data_processing -       INFO - ... exporting completed.\n",
      "2022-04-11 12:50:34,100 -           laserfarm.pipeline_remote_data -       INFO - Pushing to WebDAV /webdav/targets ...\n",
      "2022-04-11 12:50:35,521 -           laserfarm.pipeline_remote_data -       INFO - ... pushing completed.\n"
     ]
    }
   ],
   "source": [
    "# Feature Extraction Demo\n",
    "\n",
    "t = tiles\n",
    "\n",
    "tile_mesh_size = 10.\n",
    "features = ['perc_95_normalized_height']\n",
    "\n",
    "grid_feature = {\n",
    "    'min_x': -113107.81,\n",
    "    'max_x': 398892.19,\n",
    "    'min_y': 214783.87,\n",
    "    'max_y': 726783.87,\n",
    "    'n_tiles_side': 512\n",
    "}\n",
    "\n",
    "feature_extraction_input = {\n",
    "    'setup_local_fs': {'tmp_folder': conf_local_tmp.as_posix()},\n",
    "    'pullremote': conf_remote_path_retiled.as_posix(),\n",
    "    'load': {'attributes': ['raw_classification']},\n",
    "    'normalize': 1,\n",
    "    'apply_filter': {\n",
    "        'filter_type': 'select_equal', \n",
    "        'attribute': 'raw_classification',\n",
    "        'value': [1, 6]#ground surface (2), water (9), buildings (6), artificial objects (26), vegetation (?), and unclassified (1)\n",
    "    },\n",
    "    'generate_targets': {\n",
    "        'tile_mesh_size' : tile_mesh_size,\n",
    "        'validate' : True,\n",
    "        **grid_feature\n",
    "    },\n",
    "    'extract_features': {\n",
    "        'feature_names': features,\n",
    "        'volume_type': 'cell',\n",
    "        'volume_size': tile_mesh_size\n",
    "    },\n",
    "    'export_targets': {\n",
    "        'attributes': features,\n",
    "        'multi_band_files': False\n",
    "    },\n",
    "    'pushremote': conf_remote_path_targets.as_posix(),\n",
    "#     'cleanlocalfs': {}\n",
    "}\n",
    "idx = (t.split('_')[1:])\n",
    "processing = DataProcessing(t, tile_index=idx).config(feature_extraction_input).setup_webdav_client(conf_wd_opts)\n",
    "processing.run()"
   ]
  },
  {
   "cell_type": "code",
   "execution_count": null,
   "id": "d040f521-aadb-46d5-a9a9-df9af611df8e",
   "metadata": {},
   "outputs": [],
   "source": []
  }
 ],
 "metadata": {
  "kernelspec": {
   "display_name": "Python 3 (ipykernel)",
   "language": "python",
   "name": "python3"
  },
  "language_info": {
   "codemirror_mode": {
    "name": "ipython",
    "version": 3
   },
   "file_extension": ".py",
   "mimetype": "text/x-python",
   "name": "python",
   "nbconvert_exporter": "python",
   "pygments_lexer": "ipython3",
   "version": "3.9.7"
  }
 },
 "nbformat": 4,
 "nbformat_minor": 5
}
