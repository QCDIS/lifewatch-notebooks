{
 "cells": [
  {
   "cell_type": "code",
   "execution_count": 1,
   "id": "69cd2e73-e086-4470-83aa-4bc1c2c6b303",
   "metadata": {},
   "outputs": [],
   "source": [
    "import fnmatch\n",
    "import json\n",
    "import getpass\n",
    "import os\n",
    "import pathlib\n",
    "import datetime\n",
    "                    \n",
    "from dask.distributed import LocalCluster, SSHCluster \n",
    "from laserfarm import Retiler, DataProcessing, GeotiffWriter, MacroPipeline\n",
    "from laserfarm.remote_utils import get_wdclient, get_info_remote, list_remote"
   ]
  },
  {
   "cell_type": "markdown",
   "id": "7ce46b88-7913-4df3-89cb-285ac6c38862",
   "metadata": {},
   "source": [
    "## Global Configuration"
   ]
  },
  {
   "cell_type": "code",
   "execution_count": 2,
   "id": "412ff5aa-ccec-49e7-96d2-601e33470440",
   "metadata": {
    "tags": []
   },
   "outputs": [],
   "source": [
    "# Configurations\n",
    "\n",
    "import fnmatch\n",
    "import json\n",
    "import getpass\n",
    "import os\n",
    "import pathlib\n",
    "import datetime\n",
    "                    \n",
    "from dask.distributed import LocalCluster, SSHCluster \n",
    "from laserfarm import Retiler, DataProcessing, GeotiffWriter, MacroPipeline\n",
    "from laserfarm.remote_utils import get_wdclient, get_info_remote, list_remote\n",
    "\n",
    "conf_remote_path_root = pathlib.Path('/webdav')\n",
    "conf_remote_path_ahn = pathlib.Path('/webdav/ahn')\n",
    "conf_remote_path_retiled = pathlib.Path('/webdav/retiled/')\n",
    "conf_remote_path_targets = pathlib.Path('/webdav/targets')\n",
    "conf_local_tmp = pathlib.Path('/tmp')\n",
    "\n",
    "param_hostname = 'https://lifewatch.lab.uvalight.net:32443'\n",
    "param_login = 'ZDFmNDg0Nzk0ZTJi'\n",
    "param_password = 'NDBjMmMzODJkYTBh'\n",
    "\n",
    "\n",
    "conf_wd_opts = { 'webdav_hostname': param_hostname, 'webdav_login': param_login, 'webdav_password': param_password}\n",
    "\n",
    "\n",
    "param_feature_names = ['perc_95_normalized_height','mean_normalized_height', 'std_normalized_height','pulse_penetration_ratio','entropy_normalized_height','point_density']\n",
    "param_feature_index = 0"
   ]
  },
  {
   "cell_type": "markdown",
   "id": "69c05beb-5a07-4df5-82ce-e705c790c411",
   "metadata": {},
   "source": [
    "## Fetching Laz Files from remote WebDAV"
   ]
  },
  {
   "cell_type": "code",
   "execution_count": 3,
   "id": "4d567fa3-9d09-4940-99a5-bdf7fc5e476f",
   "metadata": {},
   "outputs": [],
   "source": [
    "# Fetch Laz Files 23-03-22\n",
    "\n",
    "laz_files = [f for f in list_remote(get_wdclient(conf_wd_opts), conf_remote_path_ahn.as_posix())\n",
    "             if f.lower().endswith('.laz')]"
   ]
  },
  {
   "cell_type": "markdown",
   "id": "80aef522-e847-47ea-84f6-d3df6b4a4b00",
   "metadata": {},
   "source": [
    "## Retiling of big files into smaller tiles"
   ]
  },
  {
   "cell_type": "code",
   "execution_count": 4,
   "id": "4df65dbb-ced5-4cb5-89f6-830dbca1fc6a",
   "metadata": {},
   "outputs": [
    {
     "name": "stderr",
     "output_type": "stream",
     "text": [
      "2022-04-03 16:16:51,087 -           laserfarm.pipeline_remote_data -       INFO - Input dir set to /tmp/pipeline_input\n",
      "2022-04-03 16:16:51,089 -           laserfarm.pipeline_remote_data -       INFO - Output dir set to /tmp/pipeline_output\n",
      "2022-04-03 16:16:51,091 -           laserfarm.pipeline_remote_data -       INFO - Pulling from WebDAV /webdav/ahn/C_18HZ2.LAZ ...\n",
      "2022-04-03 16:16:52,224 -           laserfarm.pipeline_remote_data -       INFO - ... pulling completed.\n",
      "2022-04-03 16:16:52,225 -                        laserfarm.retiler -       INFO - Setting up the target grid\n",
      "2022-04-03 16:16:52,228 -                        laserfarm.retiler -       INFO - Splitting file /tmp/pipeline_input/C_18HZ2.LAZ with PDAL ...\n",
      "2022-04-03 16:16:52,732 -                        laserfarm.retiler -       INFO - ... splitting completed.\n",
      "2022-04-03 16:16:52,735 -                        laserfarm.retiler -       INFO - Redistributing files to tiles ...\n",
      "2022-04-03 16:16:52,793 -                        laserfarm.retiler -       INFO - ... file C_18HZ2_1.LAZ to tile_213_285\n",
      "2022-04-03 16:16:52,794 -                        laserfarm.retiler -       INFO - ... file C_18HZ2_2.LAZ to tile_212_285\n",
      "2022-04-03 16:16:52,795 -                        laserfarm.retiler -       INFO - ... redistributing completed.\n",
      "2022-04-03 16:16:52,796 -                        laserfarm.retiler -       INFO - Validating split ...\n",
      "2022-04-03 16:16:52,797 -                        laserfarm.retiler -       INFO - ... 257128 points in parent file\n",
      "2022-04-03 16:16:52,798 -                        laserfarm.retiler -       INFO - ... 231714 points in C_18HZ2_1.LAZ\n",
      "2022-04-03 16:16:52,799 -                        laserfarm.retiler -       INFO - ... 25414 points in C_18HZ2_2.LAZ\n",
      "2022-04-03 16:16:52,800 -                        laserfarm.retiler -       INFO - ... split validation completed.\n",
      "2022-04-03 16:16:52,801 -           laserfarm.pipeline_remote_data -       INFO - Pushing to WebDAV /webdav/retiled ...\n",
      "2022-04-03 16:16:57,005 -           laserfarm.pipeline_remote_data -       INFO - ... pushing completed.\n",
      "2022-04-03 16:16:57,006 -           laserfarm.pipeline_remote_data -       INFO - Removing input and output folders\n"
     ]
    }
   ],
   "source": [
    "# Retiling 23-03-22\n",
    "\n",
    "remote_path_retiled = str(conf_remote_path_retiled)\n",
    "\n",
    "grid_retile = {\n",
    "    'min_x': -113107.81,\n",
    "    'max_x': 398892.19,\n",
    "    'min_y': 214783.87,\n",
    "    'max_y': 726783.87,\n",
    "    'n_tiles_side': 512\n",
    "}\n",
    "\n",
    "\n",
    "retiling_input = {\n",
    "    'setup_local_fs': {'tmp_folder': conf_local_tmp.as_posix()},\n",
    "    'pullremote': conf_remote_path_ahn.as_posix(),\n",
    "    'set_grid': grid_retile,\n",
    "    'split_and_redistribute': {},\n",
    "    'validate': {},\n",
    "    'pushremote': conf_remote_path_retiled.as_posix(),\n",
    "    'cleanlocalfs': {}\n",
    "}\n",
    "\n",
    "file = laz_files\n",
    "retiler = Retiler(file).config(retiling_input).setup_webdav_client(conf_wd_opts)\n",
    "retiler_output = retiler.run()"
   ]
  },
  {
   "cell_type": "markdown",
   "id": "aa7bc806-32b4-45f9-82bd-372c6b749798",
   "metadata": {},
   "source": [
    "## Fetching retilied files (tiles) from remote WebDAV"
   ]
  },
  {
   "cell_type": "code",
   "execution_count": 6,
   "id": "73558559-fa56-4593-a109-a95d2b0ff916",
   "metadata": {},
   "outputs": [],
   "source": [
    "# Fetch Tiles 1-04-22\n",
    "remote_path_retiled\n",
    "\n",
    "tiles = [t.strip('/') for t in list_remote(get_wdclient(conf_wd_opts), conf_remote_path_retiled.as_posix())\n",
    "         if fnmatch.fnmatch(t, 'tile_*_*/')]"
   ]
  },
  {
   "cell_type": "markdown",
   "id": "e67e7b63-531c-4a62-a1d7-6f7fa30bbdf9",
   "metadata": {},
   "source": [
    "## Extract features from tiles"
   ]
  },
  {
   "cell_type": "code",
   "execution_count": 8,
   "id": "f434bbe9-7f72-49dc-8c85-e6400bad8d59",
   "metadata": {},
   "outputs": [
    {
     "name": "stderr",
     "output_type": "stream",
     "text": [
      "2022-04-03 16:17:42,704 -           laserfarm.pipeline_remote_data -       INFO - Input dir set to /tmp/pipeline_input\n",
      "2022-04-03 16:17:42,705 -           laserfarm.pipeline_remote_data -       INFO - Output dir set to /tmp/pipeline_output\n",
      "2022-04-03 16:17:42,707 -           laserfarm.pipeline_remote_data -       INFO - Pulling from WebDAV /webdav/retiled/tile_213_285 ...\n",
      "2022-04-03 16:17:44,604 -           laserfarm.pipeline_remote_data -       INFO - ... pulling completed.\n",
      "2022-04-03 16:17:44,605 -                laserfarm.data_processing -       INFO - Loading point cloud data ...\n",
      "2022-04-03 16:17:44,606 -                laserfarm.data_processing -       INFO - ... loading /tmp/pipeline_input/tile_213_285/C_18HZ2_1.LAZ\n",
      "2022-04-03 16:17:44,609 -                          pylas.lasreader -      ERROR - lazrs failed to decompress points: lazrs is not installed\n",
      "2022-04-03 16:17:45,043 -                laserfarm.data_processing -       INFO - ... loading completed.\n",
      "2022-04-03 16:17:45,044 -                laserfarm.data_processing -       INFO - Normalizing point-cloud heights ...\n",
      "2022-04-03 16:17:45,137 -                                     root -       INFO - Cylinder size in Bytes: 301779882.33936185\n",
      "2022-04-03 16:17:45,138 -                                     root -       INFO - Memory size in Bytes: 16819240960\n",
      "2022-04-03 16:17:45,140 -                                     root -       INFO - Start tree creation\n",
      "2022-04-03 16:17:45,201 -                                     root -       INFO - Done with env tree creation\n",
      "2022-04-03 16:17:45,222 -                                     root -       INFO - Done with target tree creation\n",
      "2022-04-03 16:17:47,041 -                laserfarm.data_processing -       INFO - ... normalization completed.\n",
      "2022-04-03 16:17:47,043 -                laserfarm.data_processing -       INFO - Filtering point-cloud data\n",
      "2022-04-03 16:17:47,046 -                laserfarm.data_processing -       INFO - Setting up the target grid\n",
      "2022-04-03 16:17:47,048 -                laserfarm.data_processing -       INFO - Checking whether points belong to cell (213,285)\n",
      "2022-04-03 16:17:47,050 -                laserfarm.data_processing -       INFO - Generating target point mesh with 10.0m spacing \n",
      "2022-04-03 16:17:47,052 -                laserfarm.data_processing -       INFO - Building volume of type cell\n",
      "2022-04-03 16:17:47,053 -                laserfarm.data_processing -       INFO - Constructing neighborhoods\n",
      "2022-04-03 16:17:47,054 -                laserfarm.data_processing -       INFO - Starting feature extraction ...\n",
      "2022-04-03 16:17:47,070 -                                     root -       INFO - Extracting feature(s) \"['perc_95_normalized_height']\"\n",
      "2022-04-03 16:17:47,133 -                                     root -       INFO - Extracting feature(s) \"['perc_95_normalized_height']\" took 0.06 seconds\n",
      "2022-04-03 16:17:47,134 -                laserfarm.data_processing -       INFO - ... feature extraction completed.\n",
      "2022-04-03 16:17:47,135 -                laserfarm.data_processing -       INFO - Exporting target point-cloud ...\n",
      "2022-04-03 16:17:47,136 -                laserfarm.data_processing -       INFO - ... exporting /tmp/pipeline_output/perc_95_normalized_height/tile_213_285.ply\n",
      "2022-04-03 16:17:47,259 -                laserfarm.data_processing -       INFO - ... exporting completed.\n",
      "2022-04-03 16:17:47,261 -           laserfarm.pipeline_remote_data -       INFO - Pushing to WebDAV /webdav/targets ...\n",
      "2022-04-03 16:17:49,530 -           laserfarm.pipeline_remote_data -       INFO - ... pushing completed.\n"
     ]
    }
   ],
   "source": [
    "# Feature Extraction 23-03-22\n",
    "\n",
    "t = tiles[0]\n",
    "\n",
    "tile_mesh_size = 10.\n",
    "features = ['perc_95_normalized_height']\n",
    "\n",
    "grid_feature = {\n",
    "    'min_x': -113107.81,\n",
    "    'max_x': 398892.19,\n",
    "    'min_y': 214783.87,\n",
    "    'max_y': 726783.87,\n",
    "    'n_tiles_side': 512\n",
    "}\n",
    "\n",
    "feature_extraction_input = {\n",
    "    'setup_local_fs': {'tmp_folder': conf_local_tmp.as_posix()},\n",
    "    'pullremote': conf_remote_path_retiled.as_posix(),\n",
    "    'load': {'attributes': ['raw_classification']},\n",
    "    'normalize': 1,\n",
    "    'apply_filter': {\n",
    "        'filter_type': 'select_equal', \n",
    "        'attribute': 'raw_classification',\n",
    "        'value': [1, 6]#ground surface (2), water (9), buildings (6), artificial objects (26), vegetation (?), and unclassified (1)\n",
    "    },\n",
    "    'generate_targets': {\n",
    "        'tile_mesh_size' : tile_mesh_size,\n",
    "        'validate' : True,\n",
    "        **grid_feature\n",
    "    },\n",
    "    'extract_features': {\n",
    "        'feature_names': features,\n",
    "        'volume_type': 'cell',\n",
    "        'volume_size': tile_mesh_size\n",
    "    },\n",
    "    'export_targets': {\n",
    "        'attributes': features,\n",
    "        'multi_band_files': False\n",
    "    },\n",
    "    'pushremote': conf_remote_path_targets.as_posix(),\n",
    "#     'cleanlocalfs': {}\n",
    "}\n",
    "idx = (t.split('_')[1:])\n",
    "processing = DataProcessing(t, tile_index=idx).config(feature_extraction_input).setup_webdav_client(conf_wd_opts)\n",
    "processing.run()"
   ]
  },
  {
   "cell_type": "code",
   "execution_count": 10,
   "id": "0f13eaf2-136a-48ff-ad2c-f6771867cdeb",
   "metadata": {},
   "outputs": [
    {
     "name": "stderr",
     "output_type": "stream",
     "text": [
      "2022-04-03 16:18:02,469 -           laserfarm.pipeline_remote_data -       INFO - Input dir set to /tmp/pipeline_input\n",
      "2022-04-03 16:18:02,471 -           laserfarm.pipeline_remote_data -       INFO - Output dir set to /tmp/pipeline_output\n",
      "2022-04-03 16:18:02,473 -           laserfarm.pipeline_remote_data -       INFO - Pulling from WebDAV /webdav/targets/perc_95_normalized_height ...\n",
      "2022-04-03 16:18:04,276 -           laserfarm.pipeline_remote_data -       INFO - ... pulling completed.\n",
      "2022-04-03 16:18:04,278 -                 laserfarm.geotiff_writer -       INFO - 1 PLY files found\n",
      "2022-04-03 16:18:04,370 -                 laserfarm.geotiff_writer -       INFO - No. of points per file: 10000\n",
      "2022-04-03 16:18:04,372 -                 laserfarm.geotiff_writer -       INFO - Resolution: (10.0m x 10.0m)\n",
      "2022-04-03 16:18:04,373 -                 laserfarm.geotiff_writer -       INFO - Splitting data into (1x1) sub-regions\n",
      "2022-04-03 16:18:04,374 -                 laserfarm.geotiff_writer -       INFO - Processing sub-region GeoTiff no. 0 ...\n",
      "2022-04-03 16:18:04,375 -                 laserfarm.geotiff_writer -       INFO - ... number of constituent tiles: 1\n",
      "2022-04-03 16:18:04,850 -                 laserfarm.geotiff_writer -       INFO - ... processing of sub-region completed.\n",
      "2022-04-03 16:18:04,851 -           laserfarm.pipeline_remote_data -       INFO - Pushing to WebDAV /webdav/geotiffs ...\n",
      "2022-04-03 16:18:08,087 -           laserfarm.pipeline_remote_data -       INFO - ... pushing completed.\n",
      "2022-04-03 16:18:08,089 -           laserfarm.pipeline_remote_data -       INFO - Removing input and output folders\n"
     ]
    }
   ],
   "source": [
    "# GeoTIFF Export 23-03-22\n",
    "\n",
    "feature = features[0]\n",
    "remote_path_geotiffs = conf_remote_path_ahn.parent / 'geotiffs'\n",
    "\n",
    "# setup input dictionary to configure the GeoTIFF export pipeline\n",
    "geotiff_export_input = {\n",
    "    'setup_local_fs': {'tmp_folder': conf_local_tmp.as_posix()},\n",
    "    'pullremote': conf_remote_path_targets.as_posix(),\n",
    "    'parse_point_cloud': {},\n",
    "    'data_split': {'xSub': 1, 'ySub': 1},\n",
    "    'create_subregion_geotiffs': {'output_handle': 'geotiff'},\n",
    "    'pushremote': remote_path_geotiffs.as_posix(),\n",
    "    'cleanlocalfs': {}   \n",
    "}\n",
    "\n",
    "writer = GeotiffWriter(input_dir=feature, bands=feature).config(geotiff_export_input).setup_webdav_client(conf_wd_opts)\n",
    "writer.run()"
   ]
  },
  {
   "cell_type": "code",
   "execution_count": null,
   "id": "d040f521-aadb-46d5-a9a9-df9af611df8e",
   "metadata": {},
   "outputs": [],
   "source": []
  }
 ],
 "metadata": {
  "kernelspec": {
   "display_name": "Python 3 (ipykernel)",
   "language": "python",
   "name": "python3"
  },
  "language_info": {
   "codemirror_mode": {
    "name": "ipython",
    "version": 3
   },
   "file_extension": ".py",
   "mimetype": "text/x-python",
   "name": "python",
   "nbconvert_exporter": "python",
   "pygments_lexer": "ipython3",
   "version": "3.9.7"
  }
 },
 "nbformat": 4,
 "nbformat_minor": 5
}
