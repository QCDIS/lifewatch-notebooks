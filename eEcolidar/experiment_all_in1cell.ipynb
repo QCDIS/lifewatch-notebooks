{
 "cells": [
  {
   "cell_type": "markdown",
   "metadata": {},
   "source": [
    "# Laserchicken experiment\n",
    "This document shows how Laserchicken can be used to calculate features that describe a point cloud."
   ]
  },
  {
   "cell_type": "markdown",
   "metadata": {},
   "source": [
    "## Load a las file"
   ]
  },
  {
   "cell_type": "code",
   "execution_count": 5,
   "metadata": {
    "tags": []
   },
   "outputs": [
    {
     "name": "stdout",
     "output_type": "stream",
     "text": [
      "Cylinder size in Bytes: 1262794583.0369534\n",
      "Memory size in Bytes: 7779377152\n",
      "Start tree creation\n",
      "Done with env tree creation\n",
      "Done with target tree creation\n",
      "Extracting feature(s) \"['eigenv_1', 'eigenv_2', 'eigenv_3', 'normal_vector_1', 'normal_vector_2', 'normal_vector_3', 'slope']\"Extracting feature(s) \"['eigenv_1', 'eigenv_2', 'eigenv_3', 'normal_vector_1', 'normal_vector_2', 'normal_vector_3', 'slope']\" took 0.46 seconds\n",
      "Extracting feature(s) \"['mean_z', 'std_z', 'coeff_var_z']\"Extracting feature(s) \"['mean_z', 'std_z', 'coeff_var_z']\" took 0.37 seconds\n",
      "The following unrequested features were calculated as a side effect, but will not be returned: ['normal_vector_3', 'normal_vector_2', 'normal_vector_1', 'eigenv_3', 'eigenv_2', 'eigenv_1', 'coeff_var_z']\n"
     ]
    },
    {
     "data": {
      "text/plain": [
       "{'vertex': {'x': {'type': 'float64',\n",
       "   'data': array([131997.625125, 131998.547125, 131999.687125, ..., 131999.469125,\n",
       "          131999.687125, 131999.937125])},\n",
       "  'y': {'type': 'float64',\n",
       "   'data': array([549723.875, 549722.875, 549721.688, ..., 549795.563, 549795.313,\n",
       "          549796.813])},\n",
       "  'z': {'type': 'float64',\n",
       "   'data': array([-0.26600002, -0.26000002, -0.21300002, ..., -0.14100002,\n",
       "          -0.25600002, -0.37300002])},\n",
       "  'raw_classification': {'type': 'uint8',\n",
       "   'data': array([9, 9, 9, ..., 9, 9, 9], dtype=uint8)},\n",
       "  'intensity': {'type': 'uint16',\n",
       "   'data': array([152,  12,  16, ...,  14,  15, 591], dtype=uint16)},\n",
       "  'gps_time': {'type': 'float64',\n",
       "   'data': array([78563787.93570042, 78563787.93571067, 78563787.93572354, ...,\n",
       "          78563786.99820375, 78563786.99820614, 78563786.97570777])},\n",
       "  'normalized_height': {'type': 'float64',\n",
       "   'data': array([1.311, 1.317, 1.364, ..., 1.436, 1.321, 1.204])},\n",
       "  'slope': {'type': 'float64',\n",
       "   'data': array([0.0089502 , 0.0088571 , 0.03088539, ..., 0.02637116, 0.02810041,\n",
       "          0.03364527])},\n",
       "  'std_z': {'type': 'float64',\n",
       "   'data': array([0.05506763, 0.05182037, 0.05029602, ..., 0.06195888, 0.06162518,\n",
       "          0.07046467])},\n",
       "  'mean_z': {'type': 'float64',\n",
       "   'data': array([-0.26864288, -0.27636002, -0.28068423, ..., -0.27987673,\n",
       "          -0.27971624, -0.27315688])}},\n",
       " 'log': [{'time': '2020-10-19 10:42:31.594394',\n",
       "   'module': 'laserchicken.io.load',\n",
       "   'parameters': {'path': '/tmp/AHN3.laz', 'args': ()},\n",
       "   'version': '0.4.2'},\n",
       "  {'time': '2020-10-19 10:42:31.672233',\n",
       "   'module': 'laserchicken.normalize',\n",
       "   'parameters': {'cell_size': None},\n",
       "   'version': '0.4.2'},\n",
       "  {'time': '2020-10-19 10:42:31.718558',\n",
       "   'module': 'laserchicken.filter',\n",
       "   'parameters': {'polygon_string': 'POLYGON(( 131963.984125 549718.375000, 132000.000125 549718.375000, 132000.000125 549797.063000, 131963.984125 549797.063000, 131963.984125 549718.375000))',\n",
       "    'read_from_file': False},\n",
       "   'version': '0.4.2'},\n",
       "  {'time': '2020-10-19 10:42:31.719846',\n",
       "   'module': 'laserchicken.feature_extractor.feature_extraction',\n",
       "   'parameters': {'env_point_cloud': {'log': [{'time': '2020-10-19 10:42:31.594394',\n",
       "       'module': 'laserchicken.io.load',\n",
       "       'parameters': {'path': '/tmp/AHN3.laz', 'args': ()},\n",
       "       'version': '0.4.2'},\n",
       "      {'time': '2020-10-19 10:42:31.672233',\n",
       "       'module': 'laserchicken.normalize',\n",
       "       'parameters': {'cell_size': None},\n",
       "       'version': '0.4.2'},\n",
       "      {'time': '2020-10-19 10:42:31.718558',\n",
       "       'module': 'laserchicken.filter',\n",
       "       'parameters': {'polygon_string': 'POLYGON(( 131963.984125 549718.375000, 132000.000125 549718.375000, 132000.000125 549797.063000, 131963.984125 549797.063000, 131963.984125 549718.375000))',\n",
       "        'read_from_file': False},\n",
       "       'version': '0.4.2'}]}},\n",
       "   'version': '0.4.2'},\n",
       "  {'time': '2020-10-19 10:42:36.278812',\n",
       "   'module': 'laserchicken.feature_extractor.eigenvals_feature_extractor',\n",
       "   'version': '0.4.2'},\n",
       "  {'time': '2020-10-19 10:42:36.644436',\n",
       "   'module': 'laserchicken.feature_extractor.mean_std_coeff_feature_extractor',\n",
       "   'version': '0.4.2'}]}"
      ]
     },
     "execution_count": 5,
     "metadata": {},
     "output_type": "execute_result"
    }
   ],
   "source": [
    "from laserchicken import load\n",
    "\n",
    "from laserchicken import compute_features\n",
    "import requests\n",
    "\n",
    "url = \"http://172.17.0.4/testdata/AHN3.laz\"\n",
    "r = requests.get(url)\n",
    "with open(\"/tmp/AHN3.laz\", 'wb') as f:\n",
    "    f.write(r.content)\n",
    "\n",
    "point_cloud = load('/tmp/AHN3.laz')\n",
    "\n",
    "\n",
    "from laserchicken.normalize import normalize\n",
    "normalize(point_cloud)\n",
    "\n",
    "\n",
    "\n",
    "from laserchicken.filter import select_polygon\n",
    "polygon = \"POLYGON(( 131963.984125 549718.375000,\" + \\\n",
    "                   \" 132000.000125 549718.375000,\" + \\\n",
    "                   \" 132000.000125 549797.063000,\" + \\\n",
    "                   \" 131963.984125 549797.063000,\" + \\\n",
    "                   \" 131963.984125 549718.375000))\"\n",
    "point_cloud = select_polygon(point_cloud, polygon)\n",
    "\n",
    "# by attribute threshold\n",
    "from laserchicken.filter import select_above, select_below\n",
    "points_below_1_meter = select_below(point_cloud, 'normalized_height', 1)\n",
    "points_above_1_meter = select_above(point_cloud, 'normalized_height', 1)\n",
    "\n",
    "\n",
    "from laserchicken import compute_neighborhoods\n",
    "from laserchicken import build_volume\n",
    "targets = point_cloud\n",
    "volume = build_volume('sphere', radius=5)\n",
    "neighborhoods = compute_neighborhoods(point_cloud, targets, volume)\n",
    "\n",
    "from laserchicken import compute_features\n",
    "compute_features(point_cloud, neighborhoods, targets, ['std_z','mean_z','slope'], volume)\n",
    "\n",
    "# We add 4 parameterized features.\n",
    "from laserchicken import register_new_feature_extractor\n",
    "from laserchicken.feature_extractor.band_ratio_feature_extractor import BandRatioFeatureExtractor\n",
    "register_new_feature_extractor(BandRatioFeatureExtractor(None,1,data_key='normalized_height'))\n",
    "register_new_feature_extractor(BandRatioFeatureExtractor(1,2,data_key='normalized_height'))\n",
    "register_new_feature_extractor(BandRatioFeatureExtractor(2,None,data_key='normalized_height'))\n",
    "register_new_feature_extractor(BandRatioFeatureExtractor(None,0,data_key='z'))\n",
    "\n",
    "# Print a list of all available feature names and notice the parameterized features we just registered, 'band_ratio_1<z<2'.\n",
    "from laserchicken.feature_extractor.feature_extraction import list_feature_names\n",
    "sorted(list_feature_names())\n",
    "\n",
    "# Recalculate neighbors and calculate the parameterized feature\n",
    "# Neighbors is a generator and can only be iterated once. We therefore recalculate them here. If we would want to do multiple calculations without recalculating the neighbors, we could copy the neighbors to a list. This is not done by default because neighbors can quickly grow quite large so that available RAM unnecessarily becomes the bottle neck.\n",
    "cylinder = build_volume('infinite cylinder', radius=5)\n",
    "neighborhoods = compute_neighborhoods(point_cloud, targets, cylinder)\n",
    "\n",
    "point_cloud"
   ]
  },
  {
   "cell_type": "markdown",
   "metadata": {},
   "source": [
    "## Normalize data\n",
    "Adds the attribute 'normaiized_height' to the point cloud. Note that data is added to the given point cloud  in place "
   ]
  },
  {
   "cell_type": "code",
   "execution_count": 4,
   "metadata": {
    "tags": []
   },
   "outputs": [
    {
     "name": "stdout",
     "output_type": "stream",
     "text": [
      "Wall time: 185 ms\n"
     ]
    },
    {
     "data": {
      "text/plain": [
       "{'vertex': {'x': {'type': 'float64',\n",
       "   'data': array([131999.984125, 131997.625125, 131998.547125, ..., 132501.531125,\n",
       "          132501.391125, 132500.641125])},\n",
       "  'y': {'type': 'float64',\n",
       "   'data': array([549718.375, 549723.875, 549722.875, ..., 549966.313, 549964.875,\n",
       "          549964.563])},\n",
       "  'z': {'type': 'float64',\n",
       "   'data': array([-0.34100002, -0.26600002, -0.26000002, ..., -0.24100002,\n",
       "          -0.24100002, -0.24000002])},\n",
       "  'raw_classification': {'type': 'uint8',\n",
       "   'data': array([9, 9, 9, ..., 9, 9, 9], dtype=uint8)},\n",
       "  'intensity': {'type': 'uint16',\n",
       "   'data': array([ 41, 152,  12, ...,  10,  15,  10], dtype=uint16)},\n",
       "  'gps_time': {'type': 'float64',\n",
       "   'data': array([78563787.97322202, 78563787.93570042, 78563787.93571067, ...,\n",
       "          78563778.28828931, 78563778.3107884 , 78563778.32578015])},\n",
       "  'normalized_height': {'type': 'float64',\n",
       "   'data': array([1.236, 1.311, 1.317, ..., 1.336, 1.336, 1.337])}},\n",
       " 'log': [{'time': '2020-09-27 07:15:31.040881',\n",
       "   'module': 'laserchicken.io.load',\n",
       "   'parameters': {'path': 'testdata/AHN3.laz', 'args': ()},\n",
       "   'version': '0.4.1'},\n",
       "  {'time': '2020-09-27 07:15:31.318925',\n",
       "   'module': 'laserchicken.normalize',\n",
       "   'parameters': {'cell_size': None},\n",
       "   'version': '0.4.1'}]}"
      ]
     },
     "execution_count": 4,
     "metadata": {},
     "output_type": "execute_result"
    }
   ],
   "source": [
    "\n",
    "\n",
    "\n",
    "point_cloud"
   ]
  },
  {
   "cell_type": "markdown",
   "metadata": {},
   "source": [
    "## Filter points \n"
   ]
  },
  {
   "cell_type": "code",
   "execution_count": 5,
   "metadata": {
    "tags": []
   },
   "outputs": [
    {
     "name": "stdout",
     "output_type": "stream",
     "text": [
      "Wall time: 1.4 s\n"
     ]
    }
   ],
   "source": [
    "# inside a polygon; We filter points within a polygon\n",
    "\n",
    "\n"
   ]
  },
  {
   "cell_type": "markdown",
   "metadata": {},
   "source": [
    "## Compute neighbors\n",
    "Computer neighbors for every point in the point cloud. This means that the target point cloud should contain the same points as the environment point cloud. The target point cloud contains the point at which the neighbors should be calculated.\n",
    "\n",
    "The code below finds for every target point, the neighbors within a Spherical neighborhood with radius of 5 meters."
   ]
  },
  {
   "cell_type": "code",
   "execution_count": 6,
   "metadata": {
    "tags": []
   },
   "outputs": [
    {
     "name": "stdout",
     "output_type": "stream",
     "text": [
      "Wall time: 0 ns\n"
     ]
    }
   ],
   "source": [
    "\n"
   ]
  },
  {
   "cell_type": "markdown",
   "metadata": {},
   "source": [
    "## Calculate features"
   ]
  },
  {
   "cell_type": "code",
   "execution_count": 7,
   "metadata": {
    "scrolled": true,
    "tags": []
   },
   "outputs": [
    {
     "name": "stdout",
     "output_type": "stream",
     "text": [
      "Cylinder size in Bytes: 1214225560.6124551\n",
      "Memory size in Bytes: 8271544320\n",
      "Start tree creation\n",
      "Done with env tree creation\n",
      "Done with target tree creation\n",
      "Extracting feature(s) \"['eigenv_1', 'eigenv_2', 'eigenv_3', 'normal_vector_1', 'normal_vector_2', 'normal_vector_3', 'slope']\"Extracting feature(s) \"['eigenv_1', 'eigenv_2', 'eigenv_3', 'normal_vector_1', 'normal_vector_2', 'normal_vector_3', 'slope']\" took 2.67 seconds\n",
      "Extracting feature(s) \"['mean_z', 'std_z', 'coeff_var_z']\"Extracting feature(s) \"['mean_z', 'std_z', 'coeff_var_z']\" took 0.38 seconds\n",
      "The following unrequested features were calculated as a side effect, but will not be returned: ['normal_vector_3', 'normal_vector_2', 'normal_vector_1', 'eigenv_3', 'eigenv_2', 'eigenv_1', 'coeff_var_z']\n",
      "Cylinder size in Bytes: 1214225560.6124551\n",
      "Memory size in Bytes: 8271544320\n",
      "Start tree creation\n",
      "Done with env tree creation\n",
      "Done with target tree creation\n",
      "Extracting feature(s) \"['band_ratio_1<normalized_height<2']\"Extracting feature(s) \"['band_ratio_1<normalized_height<2']\" took 0.18 seconds\n",
      "Wall time: 7.07 s\n"
     ]
    }
   ],
   "source": [
    "\n"
   ]
  },
  {
   "cell_type": "markdown",
   "metadata": {},
   "source": [
    "## Write result to ply file"
   ]
  },
  {
   "cell_type": "code",
   "execution_count": 8,
   "metadata": {
    "tags": []
   },
   "outputs": [
    {
     "name": "stdout",
     "output_type": "stream",
     "text": [
      "Wall time: 394 ms\n"
     ]
    }
   ],
   "source": [
    "from laserchicken import export\n",
    "export(point_cloud, 'my_output.ply')"
   ]
  },
  {
   "cell_type": "code",
   "execution_count": 9,
   "metadata": {},
   "outputs": [],
   "source": [
    "# import matplotlib.pyplot as plt"
   ]
  }
 ],
 "metadata": {
  "kernelspec": {
   "display_name": "Python 3",
   "language": "python",
   "name": "python3"
  },
  "language_info": {
   "codemirror_mode": {
    "name": "ipython",
    "version": 3
   },
   "file_extension": ".py",
   "mimetype": "text/x-python",
   "name": "python",
   "nbconvert_exporter": "python",
   "pygments_lexer": "ipython3",
   "version": "3.8.5"
  }
 },
 "nbformat": 4,
 "nbformat_minor": 2
}
