{
 "cells": [
  {
   "cell_type": "code",
   "execution_count": null,
   "metadata": {},
   "outputs": [],
   "source": [
    "#author: Julien Radoux\n",
    "#Aim: this script is part of the Lifewatch IJI case study on IAS incidence\n",
    "\n",
    "import subprocess, os, sys\n",
    "\n",
    "#set the paths to the apps\n",
    "otbbin = \"/home/ubuntu/OTB-7.1.0-Linux64/bin/\"\n",
    "otbLWapps = \"/home/ubuntu/biotopeVC/otb_appsLW/\"\n",
    "\n",
    "#get input file names from orchestrator\n",
    "inRaster = sys.argv[1]\n",
    "inCubeTot = sys.argv[2]\n",
    "inCubeIAS = sys.argv[3]\n",
    "\n",
    "#prepare output file name\n",
    "outTot = inRaster[:-4]+ \"_tot.tif\"\n",
    "outIAS = inRaster[:-4]+ \"_totias.tif\"\n",
    "outIncidence = inRaster[:-4]+ \"_incidence.tif\"\n",
    "\n",
    "#suffix with usefull image processing parameter. Not needed with the LookUp filter because it already includes those parameters\n",
    "s = \"?&gdal:co:COMPRESS=LZW&gdal:co:TILED=YES&gdal:co:BIGTIFF=YES\"\n",
    "\n",
    "#apart from the names of the input files, the parameters define the background value (0 if no observation), the column index of the \"key\" field (1 for the second field) and the column index of the value field (3 for the fourth field)\n",
    "subprocess.call([otbLWapps + \"lwLookUpAggregate\", outTot, inRaster, inCubeTot, \"0\", \"1\", \"3\"])\n",
    "subprocess.call([otbLWapps + \"lwLookUpAggregate\", outIAS, inRaster, inCubeIAS, \"0\", \"1\", \"3\"])\n",
    "\n",
    "#combine the two outputs to compute the incidence\n",
    "subprocess.call([otbbin + \"otbcli_BandMath\", \"-il\", outTot, outIAS,\n",
    "                 \"-out\", outIncidence + s,\n",
    "                 \"-exp\", \"(im1b1<=0)?(-1):(im2b1/im1b1)\"])\n"
   ]
  }
 ],
 "metadata": {
  "kernelspec": {
   "display_name": "Python 3",
   "language": "python",
   "name": "python3"
  },
  "language_info": {
   "codemirror_mode": {
    "name": "ipython",
    "version": 3
   },
   "file_extension": ".py",
   "mimetype": "text/x-python",
   "name": "python",
   "nbconvert_exporter": "python",
   "pygments_lexer": "ipython3",
   "version": "3.8.6"
  }
 },
 "nbformat": 4,
 "nbformat_minor": 4
}
