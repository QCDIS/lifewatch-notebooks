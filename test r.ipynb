{
 "cells": [
  {
   "cell_type": "code",
   "execution_count": 1,
   "id": "e919646a-3976-4ca4-a278-0795c3f72cb9",
   "metadata": {},
   "outputs": [],
   "source": [
    "# test r Input list\n",
    "names = list(\"Alice\", \"Bob\")"
   ]
  },
  {
   "cell_type": "code",
   "execution_count": 2,
   "id": "c690b8e0-6df8-4bb0-b772-6a821d1e53cc",
   "metadata": {},
   "outputs": [
    {
     "name": "stdout",
     "output_type": "stream",
     "text": [
      "[1] \"Hello, Alice!\"\n",
      "[1] \"Hello, Bob!\"\n"
     ]
    }
   ],
   "source": [
    "# test r Process list\n",
    "for (name in names) {\n",
    "  print(sprintf(\"Hello, %s!\", name))\n",
    "}"
   ]
  }
 ],
 "metadata": {
  "kernelspec": {
   "display_name": "R",
   "language": "R",
   "name": "ir"
  },
  "language_info": {
   "codemirror_mode": "r",
   "file_extension": ".r",
   "mimetype": "text/x-r-source",
   "name": "R",
   "pygments_lexer": "r",
   "version": "4.3.3"
  }
 },
 "nbformat": 4,
 "nbformat_minor": 5
}
