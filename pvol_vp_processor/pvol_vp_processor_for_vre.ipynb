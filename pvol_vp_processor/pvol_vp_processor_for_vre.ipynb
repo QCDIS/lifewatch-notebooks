{
 "cells": [
  {
   "cell_type": "markdown",
   "id": "3c9ba85f-c338-4b97-bbb1-088cc5385008",
   "metadata": {},
   "source": [
    "## Global Configuration"
   ]
  },
  {
   "cell_type": "code",
   "execution_count": 3,
   "id": "613aa65b-a97f-4a64-b16f-2bc29a42b892",
   "metadata": {},
   "outputs": [
    {
     "name": "stdout",
     "output_type": "stream",
     "text": [
      "Collecting minio==7.0.3\n",
      "  Using cached minio-7.0.3-py3-none-any.whl (75 kB)\n",
      "Collecting h5py\n",
      "  Using cached h5py-3.6.0-cp39-cp39-manylinux_2_12_x86_64.manylinux2010_x86_64.whl (4.5 MB)\n",
      "Collecting pandas\n",
      "  Using cached pandas-1.4.1-cp39-cp39-manylinux_2_17_x86_64.manylinux2014_x86_64.whl (11.7 MB)\n",
      "Requirement already satisfied: urllib3 in /opt/conda/lib/python3.9/site-packages (from minio==7.0.3) (1.26.7)\n",
      "Requirement already satisfied: certifi in /opt/conda/lib/python3.9/site-packages (from minio==7.0.3) (2021.10.8)\n",
      "Collecting numpy>=1.14.5\n",
      "  Using cached numpy-1.22.3-cp39-cp39-manylinux_2_17_x86_64.manylinux2014_x86_64.whl (16.8 MB)\n",
      "Requirement already satisfied: pytz>=2020.1 in /opt/conda/lib/python3.9/site-packages (from pandas) (2021.3)\n",
      "Requirement already satisfied: python-dateutil>=2.8.1 in /opt/conda/lib/python3.9/site-packages (from pandas) (2.8.2)\n",
      "Requirement already satisfied: six>=1.5 in /opt/conda/lib/python3.9/site-packages (from python-dateutil>=2.8.1->pandas) (1.16.0)\n",
      "Installing collected packages: numpy, minio, pandas, h5py\n",
      "Successfully installed h5py-3.6.0 minio-7.0.3 numpy-1.22.3 pandas-1.4.1\n"
     ]
    }
   ],
   "source": [
    "!pip install minio==7.0.3 h5py pandas\n"
   ]
  },
  {
   "cell_type": "code",
   "execution_count": 12,
   "id": "31a71c52-a95c-4043-ab91-d6d8bd175b61",
   "metadata": {},
   "outputs": [],
   "source": [
    "from minio import Minio\n",
    "from minio.error import S3Error\n",
    "import h5py\n",
    "import sys\n",
    "import os\n",
    "import pandas as pd\n",
    "import json\n",
    "import shutil\n",
    "import pathlib\n",
    "import subprocess\n",
    "import re\n",
    "\n",
    "conf_minio_endpoint = ''\n",
    "conf_minio_access_key = ''\n",
    "conf_minio_secret_key = ''\n",
    "conf_minio_secure = True #bool\n",
    "conf_minio_download_dir = './minio_download_dir' #Set this to something relevant to your machine. I'm uncertain how the VRE handles directories but specify a path to download to.\n",
    "conf_minio_input_bucket = 'lifewatchin'\n",
    "conf_minio_input_prefix = 'NL/DHL/2018/10/03'\n",
    "conf_radar_db_source_path = './radar_db_source_path/opera-radars-db.json' # Set this to something relevant to your machine. This needs to target radar_db.json. Found here. It's part of git Radar Cluster @ devel, radar_cluster/conf\n",
    "conf_output_dir = './output_dir' # Set this to something relevant to your machine. This needs to specify a path from where to upload from.\n",
    "\n",
    "with open(conf_radar_db_source_path, mode=\"r\") as f:\n",
    "    radar_db_json = json.load(f)\n",
    "\n",
    "    radar_db = {}\n",
    "# Reorder list to a usable dict with sub dicts which we can search with wmo codes\n",
    "for radar_dict in radar_db_json:\n",
    "    try:\n",
    "        wmo_code = int(radar_dict.get(\"wmocode\"))\n",
    "        radar_db.update({wmo_code: radar_dict})\n",
    "    except Exception:  # Happens when there is for ex. no wmo code.\n",
    "        pass\n",
    "\n",
    "\n"
   ]
  },
  {
   "cell_type": "code",
   "execution_count": 13,
   "id": "10c4be53-d556-4a1c-bc1a-8e48f0fbc6c2",
   "metadata": {},
   "outputs": [],
   "source": [
    "#minioClient\n",
    "\n",
    "minioClient = Minio(endpoint = conf_minio_endpoint,\n",
    "                access_key= conf_minio_access_key,\n",
    "                secret_key= conf_minio_secret_key,\n",
    "                secure= conf_minio_secure)"
   ]
  },
  {
   "cell_type": "markdown",
   "id": "e2c84768-6d6e-47c9-a4b9-5a829d5aa527",
   "metadata": {},
   "source": [
    "## Retrieve input file list from conf_minio_prefix and conf_minio_bucket"
   ]
  },
  {
   "cell_type": "code",
   "execution_count": 14,
   "id": "26ae53a6-ecf0-4efd-9c28-b13bd670ac0f",
   "metadata": {},
   "outputs": [],
   "source": [
    "#list_objects\n",
    "\n",
    "list_objects = minioClient.list_objects(bucket_name = conf_minio_input_bucket,\n",
    "                                        prefix = conf_minio_input_prefix,\n",
    "                                        recursive = True)"
   ]
  },
  {
   "cell_type": "markdown",
   "id": "fcacfc07-ecad-4f65-8c90-b8a1e3e2f805",
   "metadata": {},
   "source": [
    "# Retrieve the input dataset"
   ]
  },
  {
   "cell_type": "code",
   "execution_count": null,
   "id": "ced784ba-badc-448b-a88f-99184ebf5c86",
   "metadata": {},
   "outputs": [],
   "source": [
    "# Retrieve the input datase\n",
    "local_input_file_paths = []\n",
    "for list_object in list_objects:\n",
    "    # Return object_name as str\n",
    "    object_name = list_object.object_name\n",
    "    # append object name (file name) to download dir\n",
    "    local_file_name = \"{}/{}\".format(conf_minio_download_dir,object_name)\n",
    "    # fget (file get) the object\n",
    "    minioClient.fget_object(\n",
    "        bucket_name= list_object.bucket_name,\n",
    "        object_name=list_object.object_name,\n",
    "        file_path=local_file_name)\n",
    "    # append the full file path to the file path list, for future useage\n",
    "    local_input_file_paths.append(local_file_name)\n"
   ]
  },
  {
   "cell_type": "code",
   "execution_count": null,
   "id": "97320fdc-272b-4ba1-bf56-262f400dd278",
   "metadata": {},
   "outputs": [],
   "source": [
    "# Create a dataframe to track input and output filenames\n",
    "df = pd.DataFrame()\n",
    "df['source_pvol_path'] = local_input_file_paths\n",
    "df['out_pvol_file_path'] = [dwd_file_translator(radar_db, path) for path in df[\"source_pvol_path\"]] \n",
    "\n",
    "# list the amount of unique dirs we have, this should be one per dataset\n",
    "unique_dir_pvol = list_unique_dirs(df['out_pvol_file_path'])\n",
    "# Create an output directory from the first path name for the PVOL's\n",
    "gen_output_path(df['out_pvol_file_path'].iloc[0])\n",
    "\n",
    "# create the output pvol directory\n",
    "os.makedirs(unique_dir_pvol,\n",
    "            exists_ok=True)\n",
    "\n",
    "# 'move' the files from old file name to new filename and towards output directory\n",
    "for idx, row in df.iterrows():\n",
    "    shutil.copy(row['source_pvol_path'],\n",
    "                row['out_pvol_path'])\n",
    "    \n",
    "# Now prepare a column of filenames for the Vertical Profile files which will be generated from the PVOL (output) files\n",
    "df['out_vp_path'] = [row['out_pvol_path'].replace(\"pvol\",\"vp\") for idx, row in df.iterrows()]\n",
    "\n",
    "# Determine unique VP directories\n",
    "unique_dir_vp = list_unique_dirs(df['out_vp_path'])\n",
    "\n",
    "# Create the dir\n",
    "os.makedirs(unique_dir_vp,\n",
    "            exists_ok=True)\n",
    "\n",
    "#Initialize an empty column for vol2bird retcodes\n",
    "df['v2b_retcode'] = [None] * len(df)\n",
    "df['out_vp_path'] = [None] * len(df) # This is quite redundant, I'll check this when I'm back. Basically, now we are throwing away our old generated VP paths\n",
    "\n",
    "out_dir_vp = \"{}/{}\".format(conf_output_dir,'vp')\n",
    "output_file_list = []\n",
    "for idx, row in df.iterrows():\n",
    "    \n",
    "    retcode, input_file, output_file = vol2bird(row['out_pvol_path'],\n",
    "             out_dir_vp,\n",
    "             radar_db)\n",
    "    # append output file \n",
    "    output_file_list.append(output_file)\n",
    "    \n",
    "# Upload the data, will be added later. First need to solve using .C code and subprocess calls in VRE."
   ]
  }
 ],
 "metadata": {
  "kernelspec": {
   "display_name": "Python 3 (ipykernel)",
   "language": "python",
   "name": "python3"
  },
  "language_info": {
   "codemirror_mode": {
    "name": "ipython",
    "version": 3
   },
   "file_extension": ".py",
   "mimetype": "text/x-python",
   "name": "python",
   "nbconvert_exporter": "python",
   "pygments_lexer": "ipython3",
   "version": "3.9.7"
  }
 },
 "nbformat": 4,
 "nbformat_minor": 5
}
