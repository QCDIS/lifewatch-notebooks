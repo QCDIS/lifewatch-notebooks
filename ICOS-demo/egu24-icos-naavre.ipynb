{
 "cells": [
  {
   "cell_type": "markdown",
   "metadata": {},
   "source": [
    "<img src='https://www.icos-cp.eu/sites/default/files/2017-11/ICOS_CP_logo.png' width=400 align=right>\n",
    "<img src='https://qcdis.github.io/NaaVRE-website/img/hero-light.svg' width=200 align=right>\n",
    "\n",
    "\n",
    "# ICOS Carbon Portal Python Library in NaaVRE"
   ]
  },
  {
   "cell_type": "markdown",
   "metadata": {},
   "source": [
    "## Documentation\n",
    "\n",
    "- [ICOS Carbon Portal Python Library](https://icos-carbon-portal.github.io/pylib/)\n",
    "- [NaaVRE](https://qcdis.github.io/NaaVRE-website/) (Notebook as a Virtual Research Environment)"
   ]
  },
  {
   "cell_type": "markdown",
   "metadata": {},
   "source": [
    "## Install libraries"
   ]
  },
  {
   "cell_type": "code",
   "execution_count": null,
   "metadata": {
    "tags": []
   },
   "outputs": [],
   "source": [
    "!pip install icoscp matplotlib python-slugify"
   ]
  },
  {
   "cell_type": "markdown",
   "metadata": {},
   "source": [
    "## NaaVRE workflow parameters\n",
    "\n",
    "To get an ICOS API token for `param_cpauth_token`: go to https://cpauth.icos-cp.eu, login (creating an account if needed), accept the ICOS data license, and copy the API token at the bottom of the page (`cpauthToken=xyzABC...`)."
   ]
  },
  {
   "cell_type": "code",
   "execution_count": null,
   "metadata": {},
   "outputs": [],
   "source": [
    "# (Do not containerize, NaaVRE workflow parameters cell)\n",
    "\n",
    "param_cpauth_token = ''\n",
    "\n",
    "param_ecosystem_type = 'Wetland'\n",
    "param_data_type = 'ETC L2 Fluxes'\n",
    "param_variable = 'CO2'"
   ]
  },
  {
   "cell_type": "markdown",
   "metadata": {
    "tags": []
   },
   "source": [
    " ## List stations"
   ]
  },
  {
   "cell_type": "code",
   "execution_count": null,
   "metadata": {},
   "outputs": [],
   "source": [
    "# List ICOS stations\n",
    "\n",
    "from icoscp.station import station\n",
    "\n",
    "stations = station.getIdList()\n",
    "stations = stations[stations.siteType == param_ecosystem_type]\n",
    "stations_id_list = list(stations.id)\n",
    "\n",
    "stations_id_list"
   ]
  },
  {
   "cell_type": "markdown",
   "metadata": {},
   "source": [
    "## List data products"
   ]
  },
  {
   "cell_type": "code",
   "execution_count": null,
   "metadata": {},
   "outputs": [],
   "source": [
    "# List data products\n",
    "\n",
    "import warnings\n",
    "import pandas as pd\n",
    "\n",
    "dobj_list = []\n",
    "for station_id in stations_id_list:\n",
    "    with warnings.catch_warnings():\n",
    "        warnings.simplefilter(\"ignore\")\n",
    "        s = station.get(station_id)\n",
    "        datasets = s.data()\n",
    "    if not isinstance(datasets, pd.DataFrame):\n",
    "        print(f'No datasets for station {station_id}')\n",
    "        continue\n",
    "    datasets = datasets[datasets.specLabel == param_data_type]\n",
    "    dobj_list += list(datasets.dobj)\n",
    "\n",
    "dobj_list"
   ]
  },
  {
   "cell_type": "markdown",
   "metadata": {},
   "source": [
    "## Plot data"
   ]
  },
  {
   "cell_type": "code",
   "execution_count": null,
   "metadata": {},
   "outputs": [],
   "source": [
    "# Plot time series\n",
    "\n",
    "from icoscp.cpauth.authentication import Authentication\n",
    "from icoscp.cpb.dobj import Dobj\n",
    "import matplotlib.pyplot as plt\n",
    "import slugify\n",
    "\n",
    "Authentication(token=param_cpauth_token)\n",
    "\n",
    "plot_files = []\n",
    "for dobj_pid in dobj_list:\n",
    "    dobj = Dobj(dobj_pid)\n",
    "    unit = dobj.variables[dobj.variables.name == param_variable].unit.values[0]\n",
    "    name = dobj.station['org']['name']\n",
    "    uri = dobj.station['org']['self']['uri']\n",
    "    title = f\"{name} \\n {uri}\"\n",
    "    plot = dobj.data.plot(x='TIMESTAMP', y=param_variable, grid=True, title=title)\n",
    "    plot.set(ylabel=unit)\n",
    "    filename = f'/tmp/data/{slugify.slugify(dobj_pid)}.pdf'\n",
    "    plt.savefig(filename)\n",
    "    plot_files.append(filename)\n",
    "    plt.show()\n",
    "\n",
    "plot_files"
   ]
  },
  {
   "cell_type": "markdown",
   "metadata": {},
   "source": [
    "## Upload plots (optional)\n",
    "\n",
    "To retrieve the generated files after the workflow has completed, they need to be uploaded to a persistent storage location. For testing purposes, we provide a S3-compatible MinIO server.\n",
    "\n",
    "Follow this [tutorial](https://docs.google.com/presentation/d/112Vs-vsOonVq1TlC4WprzWR6s9XntOBGgoFGbbT_FDg) (part \"Minio Setup\", slide 2 to 9) to generate `param_s3_user_prefix`, `param_s3_access_key` and `param_s3_secret_key`."
   ]
  },
  {
   "cell_type": "code",
   "execution_count": null,
   "metadata": {},
   "outputs": [],
   "source": [
    "# (Do not containerize, NaaVRE workflow parameters cell)\n",
    "\n",
    "param_s3_server = \"scruffy.lab.uvalight.net:9000\"\n",
    "param_s3_bucket = \"naa-vre-user-data\"\n",
    "\n",
    "param_s3_user_prefix = \"\"\n",
    "param_s3_access_key = \"\"\n",
    "param_s3_secret_key = \"\""
   ]
  },
  {
   "cell_type": "code",
   "execution_count": null,
   "metadata": {},
   "outputs": [],
   "source": [
    "# Upload files\n",
    "\n",
    "import os\n",
    "from minio import Minio\n",
    "\n",
    "minio_client = Minio(param_s3_server, access_key=param_s3_access_key, secret_key=param_s3_secret_key, secure=True)\n",
    "\n",
    "for plot_file  in plot_files:\n",
    "    print(\"Uploading\", plot_file)\n",
    "    object_name = f'{param_s3_user_prefix}/vl-openlab/icos-naavre-demo/{os.path.basename(plot_file)}'\n",
    "    minio_client.fput_object(param_s3_bucket, object_name=object_name, file_path=plot_file)"
   ]
  }
 ],
 "metadata": {
  "kernelspec": {
   "display_name": "Python 3 (ipykernel)",
   "language": "python",
   "name": "python3"
  },
  "language_info": {
   "codemirror_mode": {
    "name": "ipython",
    "version": 3
   },
   "file_extension": ".py",
   "mimetype": "text/x-python",
   "name": "python",
   "nbconvert_exporter": "python",
   "pygments_lexer": "ipython3",
   "version": "3.11.8"
  },
  "toc": {
   "base_numbering": 1,
   "nav_menu": {},
   "number_sections": false,
   "sideBar": true,
   "skip_h1_title": false,
   "title_cell": "Table of Contents",
   "title_sidebar": "Contents",
   "toc_cell": false,
   "toc_position": {
    "height": "calc(100% - 180px)",
    "left": "10px",
    "top": "150px",
    "width": "205.075px"
   },
   "toc_section_display": true,
   "toc_window_display": true
  }
 },
 "nbformat": 4,
 "nbformat_minor": 4
}
