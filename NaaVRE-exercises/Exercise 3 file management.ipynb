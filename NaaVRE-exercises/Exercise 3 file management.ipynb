{
 "cells": [
  {
   "cell_type": "markdown",
   "id": "715c6e55-e2f7-48d4-9971-0e06d14b2881",
   "metadata": {},
   "source": [
    "# Exercise 3: File management\n",
    "\n",
    "<img src='https://naavre.net/img/hero-light.svg' width=200 align=right>\n",
    "\n",
    "In this exercise, we learn how to manage files. This includes passing files between cells during the execution of the workflow, and uploading resulting files to MinIO."
   ]
  },
  {
   "cell_type": "markdown",
   "id": "b85ebe10-7b3f-4fa2-a9a8-0d7b294cc028",
   "metadata": {},
   "source": [
    "_Step 0_\n",
    "\n",
    "Install dependencies. This exercise uses the `numpy` and `matplotlib` libraries, which need to be installed prior to running the notebook. This is done in the cell below. It doesn’t need to be containerized. "
   ]
  },
  {
   "cell_type": "code",
   "execution_count": null,
   "id": "e40fee84-583a-472b-9f5d-be5efe05070c",
   "metadata": {},
   "outputs": [],
   "source": [
    "!pip install numpy matplotlib"
   ]
  },
  {
   "cell_type": "markdown",
   "id": "52c007db-9f37-4457-8227-741b5fc7d774",
   "metadata": {},
   "source": [
    "_Step 1_\n",
    "\n",
    "Create a cell that generates a list of numbers, and saves it to a file in the `/tmp/data/` folder. Saving the file to `/tmp/data/` is crucial, as it is the only way \n",
    "\n",
    "For example, we can draw 100000 numbers from a normal distribution:\n",
    "\n",
    "```python\n",
    "# ex3 1: Create file\n",
    "import os\n",
    "import numpy as np\n",
    "\n",
    "numbers = np.random.normal(size=100_000)\n",
    "```\n",
    "\n",
    "and save it to `/tmp/data/ex3-numbers.out`:\n",
    "\n",
    "```python\n",
    "data_file = os.path.join(conf_data_path, \"ex3-data.out\")\n",
    "os.makedirs(conf_data_path, exist_ok=True)\n",
    "np.savetxt(data_file, numbers)\n",
    "```"
   ]
  },
  {
   "cell_type": "markdown",
   "id": "1afa7e86-4d88-4bbd-acb5-d771b23d93e7",
   "metadata": {},
   "source": [
    "_Step 2_\n",
    "\n",
    "Load the file created by the previous cell, and create a figure from its contents. Save the figure to a file in `/tmp/data/`. \n",
    "\n",
    "For example, we can plot probability density with `matplotlib` and save it:\n",
    "\n",
    "```python\n",
    "# ex3 2: Plot file\n",
    "import numpy as np\n",
    "import matplotlib.pyplot as plt\n",
    "\n",
    "data = np.loadtxt(data_file)\n",
    "\n",
    "plt.hist(data, bins=50, density=True, label=\"Normal distribution\")\n",
    "plt.xlabel(\"Value [unitless]\")\n",
    "plt.ylabel(\"Probability density\")\n",
    "plt.title(\"A plot made with NaaVRE\")\n",
    "plt.legend()\n",
    "\n",
    "figure_file = os.path.join(conf_data_path, \"ex3-figure.pdf\")\n",
    "os.makedirs(conf_data_path, exist_ok=True)\n",
    "plt.savefig(figure_file)\n",
    "```"
   ]
  },
  {
   "cell_type": "markdown",
   "id": "5530023d-cede-40e8-82d2-c100787b65dd",
   "metadata": {},
   "source": [
    "_Step 3_\n",
    "\n",
    "Upload the file to an external storage service. \n",
    "\n",
    "_a._ Follow the [MinIO tutorial](https://docs.google.com/presentation/d/112Vs-vsOonVq1TlC4WprzWR6s9XntOBGgoFGbbT_FDg/edit?usp=sharing) to learn how to login and obtain an access and secret key.\n",
    "\n",
    "_b._ Add a cell at the **start** of the notebook, creating the following parameters:\n",
    "\n",
    "```python\n",
    "param_minio_endpoint = \"scruffy.lab.uvalight.net:9000\"\n",
    "param_minio_bucket = \"naa-vre-user-data\"\n",
    "param_minio_user_prefix = \"\"  # Your personal folder, see tutorial\n",
    "secret_minio_access_key = \"\"  # Your access key, see tutorial\n",
    "secret_minio_secret_key = \"\"  # Your secret key, see tutorial\n",
    "```\n",
    "\n",
    "**Warning:** For security reasons, you should not commit notebooks with secrets to Git, or publish them in any way. \n",
    "\n",
    "_c._ Add a cell at the **end** of the notebook, which uploads the figure to MinIO:\n",
    "\n",
    "```python\n",
    "# ex3 3: Upload file\n",
    "from minio import Minio\n",
    "mc = Minio(\n",
    "    endpoint=param_minio_endpoint,\n",
    "    access_key=secret_minio_access_key,\n",
    "    secret_key=secret_minio_secret_key,\n",
    "    )\n",
    "mc.fput_object(\n",
    "    bucket_name=param_minio_bucket,\n",
    "    file_path=figure_file,\n",
    "    object_name=f\"{param_minio_user_prefix}/ex3-figure.pdf\",\n",
    "    )\n",
    "```"
   ]
  },
  {
   "attachments": {},
   "cell_type": "markdown",
   "id": "1e78e7a0-d896-4089-ad10-080559077414",
   "metadata": {},
   "source": [
    "_Step 4_\n",
    "\n",
    "Containerize the cells, create a workflow, and run it."
   ]
  }
 ],
 "metadata": {
  "kernelspec": {
   "display_name": "Python [conda env:vanilla]",
   "language": "python",
   "name": "conda-env-vanilla-py"
  },
  "language_info": {
   "codemirror_mode": {
    "name": "ipython",
    "version": 3
   },
   "file_extension": ".py",
   "mimetype": "text/x-python",
   "name": "python",
   "nbconvert_exporter": "python",
   "pygments_lexer": "ipython3",
   "version": "3.13.5"
  }
 },
 "nbformat": 4,
 "nbformat_minor": 5
}
