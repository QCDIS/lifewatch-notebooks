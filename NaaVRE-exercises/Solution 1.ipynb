{
 "cells": [
  {
   "cell_type": "markdown",
   "id": "715c6e55-e2f7-48d4-9971-0e06d14b2881",
   "metadata": {},
   "source": [
    "# Solution for exercise 1: Workflow parameters and secrets"
   ]
  },
  {
   "cell_type": "code",
   "execution_count": null,
   "id": "c77c69e5-facb-4622-bb88-219710b4c3bd",
   "metadata": {},
   "outputs": [],
   "source": [
    "param_greeting = \"Hello\"\n",
    "secret_password = \"don't tell anyone\""
   ]
  },
  {
   "cell_type": "code",
   "execution_count": null,
   "id": "25dbb0a0-103a-4fc3-9f59-11f2f8e3e376",
   "metadata": {},
   "outputs": [],
   "source": [
    "# ex1 1: input list\n",
    "names = [\"Alice\", \"Bob\"]"
   ]
  },
  {
   "cell_type": "code",
   "execution_count": null,
   "id": "cc935368-c900-447e-a783-7a4392d7b2b7",
   "metadata": {},
   "outputs": [],
   "source": [
    "# ex1 2: process list\n",
    "for name in names:\n",
    "    print(f\"{param_greeting}, {name}! The password is: {secret_password}\")"
   ]
  }
 ],
 "metadata": {
  "kernelspec": {
   "display_name": "Python [conda env:vanilla]",
   "language": "python",
   "name": "conda-env-vanilla-py"
  },
  "language_info": {
   "codemirror_mode": {
    "name": "ipython",
    "version": 3
   },
   "file_extension": ".py",
   "mimetype": "text/x-python",
   "name": "python",
   "nbconvert_exporter": "python",
   "pygments_lexer": "ipython3",
   "version": "3.13.5"
  }
 },
 "nbformat": 4,
 "nbformat_minor": 5
}
