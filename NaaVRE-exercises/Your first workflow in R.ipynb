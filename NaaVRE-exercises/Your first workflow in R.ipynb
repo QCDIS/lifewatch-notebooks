{
 "cells": [
  {
   "attachments": {},
   "cell_type": "markdown",
   "id": "40d90c36-7b53-4a89-a3d1-306df2858059",
   "metadata": {},
   "source": [
    "# Your first NaaVRE workflow (R version)\n",
    "\n",
    "<img src='https://naavre.net/img/hero-light.svg' width=200 align=right>\n",
    "\n",
    "## Workflow cells\n",
    "\n",
    "### Cell 1: input list\n",
    "\n",
    "This cell creates a variable, `names`, which containes a list of names."
   ]
  },
  {
   "cell_type": "code",
   "execution_count": 1,
   "id": "b7e15249-dba5-409e-9e83-d97cd75da500",
   "metadata": {},
   "outputs": [],
   "source": [
    "# yfwf 1 R: input list\n",
    "names = list(\"Alice\", \"Bob\")"
   ]
  },
  {
   "cell_type": "markdown",
   "id": "5f0076f5-3ba1-48ae-b4fa-d08da3f721dc",
   "metadata": {},
   "source": [
    "### Cell 2: process list\n",
    "\n",
    "This cell loops over `names` and prints a message.\n",
    "\n",
    "When creating the workflow, you can introduce a _splitter_ between cell 1 and cell 2. This will process each item in `list` in parallel. "
   ]
  },
  {
   "cell_type": "code",
   "execution_count": 2,
   "id": "80ba5b53-e955-4689-bb32-0d828a0fdd8d",
   "metadata": {},
   "outputs": [
    {
     "name": "stdout",
     "output_type": "stream",
     "text": [
      "[1] \"Hello, Alice!\"\n",
      "[1] \"Hello, Bob!\"\n"
     ]
    }
   ],
   "source": [
    "# yfwf 2 R: process list\n",
    "for (name in names) {\n",
    "    print(sprintf(\"Hello, %s!\", name))\n",
    "}"
   ]
  }
 ],
 "metadata": {
  "kernelspec": {
   "display_name": "R [conda env:vanilla]",
   "language": "R",
   "name": "conda-env-vanilla-r"
  },
  "language_info": {
   "codemirror_mode": "r",
   "file_extension": ".r",
   "mimetype": "text/x-r-source",
   "name": "R",
   "pygments_lexer": "r",
   "version": "4.4.3"
  }
 },
 "nbformat": 4,
 "nbformat_minor": 5
}
