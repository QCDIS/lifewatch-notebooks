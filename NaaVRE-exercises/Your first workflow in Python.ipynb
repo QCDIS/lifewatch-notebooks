{
 "cells": [
  {
   "attachments": {},
   "cell_type": "markdown",
   "id": "3942c46c-867f-429d-9b34-68bbd9c03807",
   "metadata": {},
   "source": [
    "# Your first NaaVRE workflow (Python version)\n",
    "\n",
    "<img src='https://naavre.net/img/hero-light.svg' width=200 align=right>\n",
    "\n",
    "## Workflow cells\n",
    "\n",
    "### Cell 1: input list\n",
    "\n",
    "This cell creates a variable, `names`, which containes a list of names."
   ]
  },
  {
   "cell_type": "code",
   "execution_count": 3,
   "id": "b7e15249-dba5-409e-9e83-d97cd75da500",
   "metadata": {},
   "outputs": [],
   "source": [
    "# yfwf 1 Py: input list\n",
    "names = [\"Alice\", \"Bob\"]"
   ]
  },
  {
   "cell_type": "markdown",
   "id": "470c1d6a-6f4a-459e-b8bb-a21a1e72e432",
   "metadata": {},
   "source": [
    "### Cell 2: process list\n",
    "\n",
    "This cell loops over `names` and prints a message.\n",
    "\n",
    "When creating the workflow, you can introduce a _splitter_ between cell 1 and cell 2. This will process each item in `list` in parallel. "
   ]
  },
  {
   "cell_type": "code",
   "execution_count": 2,
   "id": "80ba5b53-e955-4689-bb32-0d828a0fdd8d",
   "metadata": {},
   "outputs": [
    {
     "name": "stdout",
     "output_type": "stream",
     "text": [
      "Hello, Alice!\n",
      "Hello, Bob!\n"
     ]
    }
   ],
   "source": [
    "# yfwf 1 Py: process list\n",
    "for name in names:\n",
    "    print(f\"Hello, {name}!\")"
   ]
  }
 ],
 "metadata": {
  "kernelspec": {
   "display_name": "Python [conda env:vanilla]",
   "language": "python",
   "name": "conda-env-vanilla-py"
  },
  "language_info": {
   "codemirror_mode": {
    "name": "ipython",
    "version": 3
   },
   "file_extension": ".py",
   "mimetype": "text/x-python",
   "name": "python",
   "nbconvert_exporter": "python",
   "pygments_lexer": "ipython3",
   "version": "3.13.3"
  }
 },
 "nbformat": 4,
 "nbformat_minor": 5
}
