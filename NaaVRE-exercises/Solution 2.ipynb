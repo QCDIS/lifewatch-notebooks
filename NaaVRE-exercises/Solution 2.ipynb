{
 "cells": [
  {
   "cell_type": "markdown",
   "id": "715c6e55-e2f7-48d4-9971-0e06d14b2881",
   "metadata": {},
   "source": [
    "# Solution for exercise 2: Splitter and merger"
   ]
  },
  {
   "cell_type": "code",
   "execution_count": null,
   "id": "25dbb0a0-103a-4fc3-9f59-11f2f8e3e376",
   "metadata": {},
   "outputs": [],
   "source": [
    "# ex2 1: input list\n",
    "names = [\"Alice\", \"Bob\"]"
   ]
  },
  {
   "cell_type": "code",
   "execution_count": null,
   "id": "cc935368-c900-447e-a783-7a4392d7b2b7",
   "metadata": {},
   "outputs": [],
   "source": [
    "# ex2 2: process list\n",
    "sentences = []\n",
    "for name in names:\n",
    "    sentences.append(f\"Hello, {name}!\")"
   ]
  },
  {
   "cell_type": "code",
   "execution_count": null,
   "id": "04f760ea-8bf0-46ca-af6d-3ecd788ca4b8",
   "metadata": {},
   "outputs": [],
   "source": [
    "# ex2 3: print list\n",
    "print(sentences)"
   ]
  }
 ],
 "metadata": {
  "kernelspec": {
   "display_name": "Python [conda env:vanilla]",
   "language": "python",
   "name": "conda-env-vanilla-py"
  },
  "language_info": {
   "codemirror_mode": {
    "name": "ipython",
    "version": 3
   },
   "file_extension": ".py",
   "mimetype": "text/x-python",
   "name": "python",
   "nbconvert_exporter": "python",
   "pygments_lexer": "ipython3",
   "version": "3.13.5"
  }
 },
 "nbformat": 4,
 "nbformat_minor": 5
}
