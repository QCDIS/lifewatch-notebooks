{
 "cells": [
  {
   "cell_type": "markdown",
   "id": "715c6e55-e2f7-48d4-9971-0e06d14b2881",
   "metadata": {},
   "source": [
    "# Solution for exercise 3: File management"
   ]
  },
  {
   "cell_type": "code",
   "execution_count": null,
   "id": "e40fee84-583a-472b-9f5d-be5efe05070c",
   "metadata": {},
   "outputs": [],
   "source": [
    "!pip install numpy matplotlib"
   ]
  },
  {
   "cell_type": "code",
   "execution_count": null,
   "id": "970dc065-c977-4ba7-8427-044b7e45a3f6",
   "metadata": {},
   "outputs": [],
   "source": [
    "param_minio_endpoint = \"scruffy.lab.uvalight.net:9000\"\n",
    "param_minio_bucket = \"naa-vre-user-data\"\n",
    "param_minio_user_prefix = \"\"  # Your personal folder, see tutorial\n",
    "secret_minio_access_key = \"\"  # Your access key, see tutorial\n",
    "secret_minio_secret_key = \"\"  # Your secret key, see tutorial\n",
    "\n",
    "conf_data_path = \"/tmp/data\""
   ]
  },
  {
   "cell_type": "code",
   "execution_count": null,
   "id": "cc935368-c900-447e-a783-7a4392d7b2b7",
   "metadata": {},
   "outputs": [],
   "source": [
    "# ex3 1: Create file\n",
    "import os\n",
    "import numpy as np\n",
    "\n",
    "# Generate random numbers\n",
    "numbers = np.random.normal(size=100_000)\n",
    "\n",
    "# Save the numbers\n",
    "data_file = os.path.join(conf_data_path, \"ex3-data.out\")\n",
    "os.makedirs(conf_data_path, exist_ok=True)\n",
    "np.savetxt(data_file, numbers)"
   ]
  },
  {
   "cell_type": "code",
   "execution_count": null,
   "id": "3ab9c17f-8294-4ad9-8e9f-924152287a01",
   "metadata": {},
   "outputs": [],
   "source": [
    "# ex3 2: Plot file\n",
    "import numpy as np\n",
    "import matplotlib.pyplot as plt\n",
    "\n",
    "# Load the data\n",
    "data = np.loadtxt(data_file)\n",
    "\n",
    "# Create the figure\n",
    "plt.hist(data, bins=50, density=True, label=\"Normal distribution\")\n",
    "plt.xlabel(\"Value [unitless]\")\n",
    "plt.ylabel(\"Probability density\")\n",
    "plt.title(\"A plot made with NaaVRE\")\n",
    "plt.legend()\n",
    "\n",
    "# Save the figure\n",
    "figure_file = os.path.join(conf_data_path, \"ex3-figure.pdf\")\n",
    "os.makedirs(conf_data_path, exist_ok=True)\n",
    "plt.savefig(figure_file)"
   ]
  },
  {
   "cell_type": "code",
   "execution_count": null,
   "id": "f074921d-30b9-437d-92b4-3d8e6a53ebba",
   "metadata": {},
   "outputs": [],
   "source": [
    "# ex3 3: Upload file\n",
    "from minio import Minio\n",
    "mc = Minio(\n",
    "    endpoint=param_minio_endpoint,\n",
    "    access_key=secret_minio_access_key,\n",
    "    secret_key=secret_minio_secret_key,\n",
    "    )\n",
    "mc.fput_object(\n",
    "    bucket_name=param_minio_bucket,\n",
    "    file_path=figure_file,\n",
    "    object_name=f\"{param_minio_user_prefix}/ex3-figure.pdf\",\n",
    "    )"
   ]
  }
 ],
 "metadata": {
  "kernelspec": {
   "display_name": "Python [conda env:vanilla]",
   "language": "python",
   "name": "conda-env-vanilla-py"
  },
  "language_info": {
   "codemirror_mode": {
    "name": "ipython",
    "version": 3
   },
   "file_extension": ".py",
   "mimetype": "text/x-python",
   "name": "python",
   "nbconvert_exporter": "python",
   "pygments_lexer": "ipython3",
   "version": "3.13.5"
  }
 },
 "nbformat": 4,
 "nbformat_minor": 5
}
