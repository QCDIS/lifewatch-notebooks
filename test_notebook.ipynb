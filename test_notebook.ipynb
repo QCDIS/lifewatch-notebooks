{
 "cells": [
  {
   "cell_type": "code",
   "execution_count": 2,
   "id": "5f68e3d0-8fa2-4237-8fe3-29d1ec2cfbc1",
   "metadata": {},
   "outputs": [],
   "source": [
    "# a list\n",
    "\n",
    "a_list = ['a','b','c','d']"
   ]
  },
  {
   "cell_type": "code",
   "execution_count": 3,
   "id": "e0621bdf-05ee-44b7-9519-c9b136b6ba62",
   "metadata": {},
   "outputs": [],
   "source": [
    "# process a list\n",
    "\n",
    "b_list = []\n",
    "for elem in a_list:\n",
    "    b_list.append(elem+'42')\n"
   ]
  },
  {
   "cell_type": "code",
   "execution_count": 4,
   "id": "97969827-90fa-41fc-b32e-a3f8d583e08e",
   "metadata": {},
   "outputs": [
    {
     "name": "stdout",
     "output_type": "stream",
     "text": [
      "a42b42c42d42\n"
     ]
    }
   ],
   "source": [
    "# concat\n",
    "\n",
    "res = ''\n",
    "for elem in b_list:\n",
    "    res+=elem\n",
    "    \n",
    "print(res)\n",
    "    "
   ]
  },
  {
   "cell_type": "code",
   "execution_count": 1,
   "id": "39790b85-3619-409d-af6c-a1096e36b751",
   "metadata": {
    "tags": []
   },
   "outputs": [
    {
     "name": "stdout",
     "output_type": "stream",
     "text": [
      "6\n"
     ]
    }
   ],
   "source": [
    "#verage\n",
    "\n",
    "a = 2 \n",
    "numbers  = [a, 4, 6, 8, 10]\n"
   ]
  },
  {
   "cell_type": "code",
   "execution_count": null,
   "id": "578545cc-8459-4092-a503-329928fc6ad1",
   "metadata": {},
   "outputs": [],
   "source": [
    "# bb\n",
    "import statistics\n",
    "\n",
    "ave = statistics.mean(numbers)\n",
    "\n"
   ]
  },
  {
   "cell_type": "code",
   "execution_count": null,
   "id": "de7cc7cf-56c9-4538-92be-1a258e5ee812",
   "metadata": {},
   "outputs": [],
   "source": [
    "print(ave)"
   ]
  }
 ],
 "metadata": {
  "kernelspec": {
   "display_name": "Python 3 (ipykernel)",
   "language": "python",
   "name": "python3"
  },
  "language_info": {
   "codemirror_mode": {
    "name": "ipython",
    "version": 3
   },
   "file_extension": ".py",
   "mimetype": "text/x-python",
   "name": "python",
   "nbconvert_exporter": "python",
   "pygments_lexer": "ipython3",
   "version": "3.11.3"
  }
 },
 "nbformat": 4,
 "nbformat_minor": 5
}
