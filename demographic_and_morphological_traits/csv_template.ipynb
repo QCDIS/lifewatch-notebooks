{
 "cells": [
  {
   "cell_type": "code",
   "execution_count": 7,
   "id": "1696c228-e05b-4ccb-8326-5364c9a78f97",
   "metadata": {},
   "outputs": [
    {
     "data": {
      "application/vnd.jupyter.widget-view+json": {
       "model_id": "83af41d09a4e4f7a9ac6360974642e67",
       "version_major": 2,
       "version_minor": 0
      },
      "text/plain": [
       "VBox(children=(Checkbox(value=False, description='Name'), Checkbox(value=False, description='Age'), Checkbox(v…"
      ]
     },
     "metadata": {},
     "output_type": "display_data"
    },
    {
     "data": {
      "application/vnd.jupyter.widget-view+json": {
       "model_id": "1401a49ebdb54c3ca0a858e68d77b5f4",
       "version_major": 2,
       "version_minor": 0
      },
      "text/plain": [
       "Button(description='Create CSV', style=ButtonStyle())"
      ]
     },
     "metadata": {},
     "output_type": "display_data"
    }
   ],
   "source": [
    "import ipywidgets as widgets\n",
    "from IPython.display import display\n",
    "import pandas as pd\n",
    "\n",
    "# Function to create CSV file\n",
    "def create_csv(columns):\n",
    "    # Create a dictionary to hold the data\n",
    "    data_dict = {col: [] for col in columns}\n",
    "    \n",
    "    # Create DataFrame from the dictionary\n",
    "    df = pd.DataFrame(data_dict)\n",
    "    \n",
    "    # Save DataFrame to CSV file\n",
    "    df.to_csv('output.csv', index=False)\n",
    "    print(\"CSV file created successfully!\")\n",
    "\n",
    "# List of predetermined columns\n",
    "predetermined_columns = ['Name', 'Age', 'Gender', 'Location']\n",
    "\n",
    "# Checkboxes for selecting columns\n",
    "column_checkboxes = [widgets.Checkbox(description=col, value=False) for col in predetermined_columns]\n",
    "\n",
    "# Button for triggering the CSV creation\n",
    "create_button = widgets.Button(description=\"Create CSV\")\n",
    "\n",
    "def on_create_button_click(b):\n",
    "    # Extract selected columns\n",
    "    columns = [checkbox.description for checkbox in column_checkboxes if checkbox.value]\n",
    "    create_csv(columns)\n",
    "\n",
    "create_button.on_click(on_create_button_click)\n",
    "\n",
    "# Display widgets\n",
    "display(widgets.VBox(column_checkboxes))\n",
    "display(create_button)\n"
   ]
  },
  {
   "cell_type": "code",
   "execution_count": null,
   "id": "fc055621-104d-4962-b404-946d8b42cbdb",
   "metadata": {},
   "outputs": [],
   "source": []
  }
 ],
 "metadata": {
  "kernelspec": {
   "display_name": "Python 3 (ipykernel)",
   "language": "python",
   "name": "python3"
  },
  "language_info": {
   "codemirror_mode": {
    "name": "ipython",
    "version": 3
   },
   "file_extension": ".py",
   "mimetype": "text/x-python",
   "name": "python",
   "nbconvert_exporter": "python",
   "pygments_lexer": "ipython3",
   "version": "3.11.8"
  }
 },
 "nbformat": 4,
 "nbformat_minor": 5
}
