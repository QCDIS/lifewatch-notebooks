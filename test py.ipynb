{
 "cells": [
  {
   "cell_type": "code",
   "execution_count": null,
   "id": "6a69d7a9-ed32-41b5-b54f-474df91f2543",
   "metadata": {},
   "outputs": [],
   "source": [
    "param_greeting = \"Hello\"\n",
    "secret_word = \"@!xy28?>a\"\n",
    "conf_secret_phrase = \"This is the secret word:\""
   ]
  },
  {
   "cell_type": "code",
   "execution_count": null,
   "id": "e919646a-3976-4ca4-a278-0795c3f72cb9",
   "metadata": {},
   "outputs": [],
   "source": [
    "# test py Input list\n",
    "names = [\"Alice\", \"Bob\"]"
   ]
  },
  {
   "cell_type": "code",
   "execution_count": null,
   "id": "c690b8e0-6df8-4bb0-b772-6a821d1e53cc",
   "metadata": {},
   "outputs": [],
   "source": [
    "# test py Process list\n",
    "sentences = []\n",
    "for name in names:\n",
    "    sentence = f\"{param_greeting}, {name}! {conf_secret_phrase}: {secret_word}\"\n",
    "    sentences.append(sentence)\n",
    "    print(sentence)"
   ]
  },
  {
   "cell_type": "code",
   "execution_count": null,
   "id": "2315a4a9-c595-45f7-ab91-e4e701191b3f",
   "metadata": {},
   "outputs": [],
   "source": [
    "# test py print sentences\n",
    "print(sentences)"
   ]
  },
  {
   "cell_type": "code",
   "execution_count": null,
   "id": "2304e57f-6fa4-40bc-b176-0f5e46eba48e",
   "metadata": {},
   "outputs": [],
   "source": [
    "msg = \"msg\""
   ]
  },
  {
   "cell_type": "code",
   "execution_count": null,
   "id": "98f1cf78-ed84-4233-b8ec-49b527f7b2ca",
   "metadata": {},
   "outputs": [],
   "source": [
    "# test py print msg\n",
    "print(msg)"
   ]
  }
 ],
 "metadata": {
  "kernelspec": {
   "display_name": "Python 3 (ipykernel)",
   "language": "python",
   "name": "python3"
  },
  "language_info": {
   "codemirror_mode": {
    "name": "ipython",
    "version": 3
   },
   "file_extension": ".py",
   "mimetype": "text/x-python",
   "name": "python",
   "nbconvert_exporter": "python",
   "pygments_lexer": "ipython3",
   "version": "3.12.7"
  }
 },
 "nbformat": 4,
 "nbformat_minor": 5
}
