{
 "cells": [
  {
   "cell_type": "markdown",
   "metadata": {},
   "source": [
    "# 3 Setup\n",
    "All the code for the individual modules are is located at https://github.com/multiply-org/. This can be used to setup the MULTIPLY framework on your own computing infrastructure. At present however no deployment setup (in the form of windows-setup-executables, or anaconda package’s) exist. While this is planned further intolater in the project, the focus at this stage is on testing the individual components themselves. Please let us know if you would prefer to install the software yourself on a dedicated computational framework, so that we can investigate how to facilitate this for you. \n",
    "In order to facilitate the testing of the framework itself, we have setup this Virtual Machine on Google Compute Engine, for testing purposes. \n"
   ]
  },
  {
   "cell_type": "markdown",
   "metadata": {},
   "source": [
    "## 3.1 Parameters\n",
    "Here you can actually set the parameters for the run. \n"
   ]
  },
  {
   "cell_type": "markdown",
   "metadata": {},
   "source": [
    "### Define working_directory"
   ]
  },
  {
   "cell_type": "code",
   "execution_count": null,
   "metadata": {},
   "outputs": [],
   "source": [
    "working_directory_name = 'OVP_test_pynb39_20220717'"
   ]
  },
  {
   "cell_type": "markdown",
   "metadata": {},
   "source": [
    "### 3.1.1 Define region of Interest\n",
    "* **roi**: A region of interest, given as a Polygon in WKT format. You can use this tool ( https://arthur-e.github.io/Wicket/sandbox-gmaps3.html ) to easily get definitions of the regions you are interested in in WGS84 coordinates.\n",
    "* **roi_grid**: The EPSG-code of the spatial reference system in which the roi is given. If it is set to 'none', it is assumed that the roi is given in WGS84 coordinates.\n",
    "* **destination_grid**: The EPSG-code of the spatial reference system in which the output shall be given. If it is set to 'none', the platform will attempt to derive it from the roi_grid.\n",
    "* **spatial_resolution**: The resolution the output data is supposed to have, must be a non-negative integer number. The resolution is given in meters and is the same for both dimensions."
   ]
  },
  {
   "cell_type": "code",
   "execution_count": 2,
   "metadata": {},
   "outputs": [],
   "source": [
    "roi = 'POLYGON(( 5.695 52.26,  5.695 52.25,  5.680 52.25,  5.680 52.26,  5.695 52.26 ))' #Speulderbos. SIAC not working on this area possibly due to tiling\n",
    "roi = 'POLYGON ((5.163574 52.382529, 5.163574 52.529813, 5.493164 52.529813, 5.493164 52.382529, 5.163574 52.382529))' #OVP. Correct in MUI version\n",
    "roi_grid = 'EPSG:4326'                            # WGS84\n",
    "destination_grid = 'EPSG:4326'                   # WGS84\n",
    "spatial_resolution = 20 # in m"
   ]
  },
  {
   "cell_type": "markdown",
   "metadata": {},
   "source": [
    "### 3.1.2 Define temporal frequency and period\n",
    "* **start_time**: The start date of the period you are interested in, must be given in the format 'Year-Month-Day' as below.\n",
    "* **end_time**: The end date of the period you are interested in, must be given in the format 'Year-Month-Day' as below.\n",
    "* **time_step**: The temporal resolution the output is supposed to have. Data will be aggregated over the period denoted by this parameter. Must be a non-negative integer value. The unit is days."
   ]
  },
  {
   "cell_type": "code",
   "execution_count": 3,
   "metadata": {},
   "outputs": [],
   "source": [
    "start_time_as_string = '2019-04-16'\n",
    "stop_time_as_string = '2019-04-17'\n",
    "\n",
    "start_time_as_string = '2018-04-16'\n",
    "stop_time_as_string = '2018-04-20'\n",
    "\n",
    "time_step = 5 # in days\n"
   ]
  },
  {
   "cell_type": "markdown",
   "metadata": {},
   "source": [
    "### 3.1.2 Variables \n",
    "* **variables**: The list of the biophysical variables that shall be derived. Please do not change this list, as the underlying forward model requires all of them. The parameters are as follows:\n",
    "  * **n**: Structural parameter\n",
    "  * **cab**: Leaf Chlorophyll Content, given in ug/cm²\n",
    "  * **car**: Leaf Carotonoid Content, given in ug/cm²\n",
    "  * **cb**: Leaf senescent material\n",
    "  * **cw**: Leaf Water Content, given in cm\n",
    "  * **cdm**: Leaf Dry Mass, given in g/cm²\n",
    "  * **lai**: Effective Leaf Area Index, given in m²/m²\n",
    "  * **ala**: Average Leaf Angle, given in degrees\n",
    "  * **bsoil**: Soil Brightness Parameter\n",
    "  * **psoil**: Soil Wetness Parameter\n",
    "* **file_mask**: A file that can be used to explicitly state the region you are interested in. You can also use it to mask out single pixels within this region. If this is not 'none', the aforementioned parameters roi_grid, spatial_resolution, and destination_grid are not used.\n",
    "\n",
    "**HINT**: The platform will perform faster the smaller your roi and the larger the spatial resolution is."
   ]
  },
  {
   "cell_type": "code",
   "execution_count": 4,
   "metadata": {},
   "outputs": [],
   "source": [
    "variables = {'n', 'cab', 'car', 'cb', 'cw', 'cdm', 'lai', 'ala', 'bsoil', 'psoil'}\n",
    "file_mask = None"
   ]
  },
  {
   "cell_type": "markdown",
   "metadata": {},
   "source": [
    "## 3.2 Load internal packages and auxiliary methods"
   ]
  },
  {
   "cell_type": "code",
   "execution_count": 5,
   "metadata": {},
   "outputs": [],
   "source": [
    "from multiply_data_access import DataAccessComponent\n",
    "from vm_support.utils import create_config_file, set_permissions\n",
    "from vm_support.sym_linker import create_sym_links\n",
    "import datetime\n",
    "import glob"
   ]
  },
  {
   "cell_type": "markdown",
   "metadata": {},
   "source": [
    "## 3.2 Defining the additional interfaces"
   ]
  },
  {
   "cell_type": "code",
   "execution_count": 6,
   "metadata": {},
   "outputs": [],
   "source": [
    "def get_static_data(data_access_component: DataAccessComponent, roi: str, roi_grid: str, start_time: str,\n",
    "                    stop_time: str, emulation_directory: str, dem_directory: str):\n",
    "    create_dir(emulation_directory)\n",
    "    create_dir(dem_directory)\n",
    "\n",
    "    rg = roi_grid\n",
    "    if roi_grid == 'none':\n",
    "        rg = None\n",
    "\n",
    "    print('Retrieving emulators ...')\n",
    "    emu_urls = data_access_component.get_data_urls(roi, start_time, stop_time, 'ISO_MSI_A_EMU,ISO_MSI_B_EMU', rg)\n",
    "    set_permissions(emu_urls)\n",
    "    create_sym_links(emu_urls, emulation_directory)\n",
    "    print('Retrieving DEM ...')\n",
    "    dem_urls = data_access_component.get_data_urls(roi, start_time, stop_time, 'Aster_DEM', rg)\n",
    "    set_permissions(dem_urls)\n",
    "    create_sym_links(dem_urls, dem_directory)\n",
    "    print('Done retrieving static data')\n"
   ]
  },
  {
   "cell_type": "code",
   "execution_count": 7,
   "metadata": {},
   "outputs": [],
   "source": [
    "def create_dir(dir):\n",
    "    try:\n",
    "        if not os.path.exists(dir):\n",
    "            os.makedirs(dir)\n",
    "    except:\n",
    "        print(dir)\n",
    "    return"
   ]
  },
  {
   "cell_type": "code",
   "execution_count": 8,
   "metadata": {},
   "outputs": [],
   "source": [
    "def get_dynamic_data(data_access_component: DataAccessComponent, roi: str, roi_grid: str, start_time: str,\n",
    "                     stop_time: str, modis_directory: str, cams_tiff_directory: str, s2_l1c_directory: str):\n",
    "    create_dir(modis_directory)\n",
    "    create_dir(cams_tiff_directory)\n",
    "    create_dir(s2_l1c_directory)\n",
    "\n",
    "    modis_delta = datetime.timedelta(days=16)\n",
    "    start = datetime.datetime.strptime(start_time, '%Y-%m-%d')\n",
    "    modis_start = start - modis_delta\n",
    "    modis_start_time = datetime.datetime.strftime(modis_start, '%Y-%m-%d')\n",
    "    end = datetime.datetime.strptime(stop_time, '%Y-%m-%d')\n",
    "    modis_end = end + modis_delta\n",
    "    modis_end_time = datetime.datetime.strftime(modis_end, '%Y-%m-%d')\n",
    "    \n",
    "    rg = roi_grid\n",
    "    if roi_grid == 'none':\n",
    "        rg = None\n",
    "\n",
    "    print('Retrieving MODIS BRDF descriptors ...')\n",
    "    modis_urls = data_access_component.get_data_urls(roi, modis_start_time, modis_end_time, 'MCD43A1.006', rg)\n",
    "    set_permissions(modis_urls)\n",
    "    create_sym_links(modis_urls, modis_directory)\n",
    "    print('Retrieving CAMS data ...')\n",
    "    cams_urls = data_access_component.get_data_urls(roi, start_time, stop_time, 'CAMS_TIFF', rg)\n",
    "    set_permissions(cams_urls)\n",
    "    create_sym_links(cams_urls, cams_tiff_directory)\n",
    "    print('Retrieving S2 L1C data ...')\n",
    "    s2_urls = data_access_component.get_data_urls(roi, start_time, stop_time, 'AWS_S2_L1C, S2_L1C', rg)\n",
    "    set_permissions(s2_urls)\n",
    "    create_sym_links(s2_urls, s2_l1c_directory)\n",
    "    print('Done retrieving dynamic data')"
   ]
  },
  {
   "cell_type": "code",
   "execution_count": 9,
   "metadata": {},
   "outputs": [],
   "source": [
    "import os\n",
    "import shutil\n",
    "def get_working_dir(dir_name: str) -> str:\n",
    "    working_dir = f'/datastore/working_dirs/{dir_name}'\n",
    "    if os.path.exists(working_dir):\n",
    "        shutil.rmtree(working_dir)\n",
    "    os.makedirs(working_dir)\n",
    "    return working_dir"
   ]
  },
  {
   "cell_type": "markdown",
   "metadata": {},
   "source": [
    "# 4 Running MULTIPLY\n",
    "Below the actual code is provided for running the MULTIPLY framework.\n",
    "We start with setting earth data authentication. This is required to download the MODIS brdf descriptors which are required for the atmospheric correction of the Sentinel-2 data. You can get credentials when you register at https://urs.earthdata.nasa.gov/profile . Registration and use is free of cost. If you do not register, you can only use the MODIS data which has been downloaded in previous runs of the notebook by other users.\n",
    "Also you will need to set up the data stores so that the data access component is working correctly and finds the pre-configured data stores. Both steps only need to be performed once."
   ]
  },
  {
   "cell_type": "markdown",
   "metadata": {},
   "source": [
    "### 4.1 Creating working directory\n",
    "For this notebook, you will operate in your own working directory. All data you use will be copied here, all output will be written here."
   ]
  },
  {
   "cell_type": "code",
   "execution_count": 10,
   "metadata": {},
   "outputs": [],
   "source": [
    "start_time_as_datetime = datetime.datetime.strptime(start_time_as_string, '%Y-%m-%d')\n",
    "stop_time_as_datetime = datetime.datetime.strptime(stop_time_as_string, '%Y-%m-%d')\n",
    "\n",
    "time_step_as_time_delta = datetime.timedelta(days=time_step)"
   ]
  },
  {
   "cell_type": "code",
   "execution_count": 11,
   "metadata": {},
   "outputs": [],
   "source": [
    "# Setup clean working directory\n",
    "name = working_directory_name\n",
    "working_dir = get_working_dir(name)\n",
    "\n",
    "# use previous (non-empty) working directory\n",
    "# working_dir = '/Data/test_user_16/' + name\n",
    "# working_dir = '/datastore/working_dirs/' + name"
   ]
  },
  {
   "cell_type": "code",
   "execution_count": 12,
   "metadata": {},
   "outputs": [
    {
     "name": "stdout",
     "output_type": "stream",
     "text": [
      "Working directory is /datastore/working_dirs/OVP_test_pynb39_20220717\n",
      "/datastore/working_dirs/OVP_test_pynb39_20220717\n"
     ]
    }
   ],
   "source": [
    "print('Working directory is {}'.format(working_dir))\n",
    "\n",
    "priors_directory = '{}/priors'.format(working_dir)\n",
    "hres_state_dir = '{}/hresstate'.format(working_dir)\n",
    "modis_directory = '{}/modis'.format(working_dir)\n",
    "state_directory = '{}/state'.format(working_dir)\n",
    "cams_directory = '{}/cams'.format(working_dir)\n",
    "s2_l1c_directory = '{}/s2'.format(working_dir)\n",
    "sdrs_directory = '{}/sdrs'.format(working_dir)\n",
    "biophys_output = '{}/biophys'.format(working_dir)\n",
    "emulators_directory = '{}/emulators'.format(working_dir)\n",
    "dem_directory = '{}/dem'.format(working_dir)\n",
    "\n",
    "print(working_dir)"
   ]
  },
  {
   "cell_type": "markdown",
   "metadata": {},
   "source": [
    "## 5.2 Acquire Data\n",
    "We differentiate between two types of data here: Dynamic and static, meaning: Data which are valid for a certain period of time and data which is valid permanently. The latter is the elevation data of the Digital Elevation Model and the Emulators required for the Atmospheric Correction. We put them in their designated folders before we start our loop through time."
   ]
  },
  {
   "cell_type": "code",
   "execution_count": 13,
   "metadata": {},
   "outputs": [
    {
     "name": "stderr",
     "output_type": "stream",
     "text": [
      "INFO:root:Read data store cams\n",
      "INFO:root:Read data store cams_tiff\n",
      "INFO:root:Read data store emulators\n",
      "INFO:root:Read data store wv_emulator\n",
      "INFO:root:Read data store aster_dem\n",
      "INFO:root:Read data store modis_mcd43a1\n",
      "INFO:root:Read data store S2L2\n",
      "INFO:root:Read data store aws_s2\n"
     ]
    }
   ],
   "source": [
    "data_access_component = DataAccessComponent()"
   ]
  },
  {
   "cell_type": "markdown",
   "metadata": {},
   "source": [
    "### 5.2.1 Download Static Data"
   ]
  },
  {
   "cell_type": "code",
   "execution_count": 14,
   "metadata": {},
   "outputs": [
    {
     "name": "stdout",
     "output_type": "stream",
     "text": [
      "Retrieving emulators ...\n"
     ]
    },
    {
     "name": "stderr",
     "output_type": "stream",
     "text": [
      "/home/jtimmer1/software/multiply-core/multiply_core/util/util.py:236: ShapelyDeprecationWarning: The 'almost_equals()' method is deprecated and will be removed in Shapely 2.0\n",
      "  if polygon_1.almost_equals(polygon_2):\n",
      "INFO:ComponentProgress:0\n",
      "INFO:ComponentProgress:8\n",
      "INFO:ComponentProgress:16\n",
      "INFO:ComponentProgress:25\n",
      "INFO:ComponentProgress:33\n",
      "INFO:ComponentProgress:41\n",
      "INFO:ComponentProgress:50\n",
      "INFO:ComponentProgress:58\n",
      "INFO:ComponentProgress:66\n",
      "INFO:ComponentProgress:75\n",
      "INFO:ComponentProgress:83\n",
      "INFO:ComponentProgress:91\n",
      "/home/jtimmer1/software/data-access/multiply_data_access/vrt_data_access.py:73: ShapelyDeprecationWarning: The 'cascaded_union()' function is deprecated. Use 'unary_union()' instead.\n",
      "  coverage = cascaded_union(coverages)\n"
     ]
    },
    {
     "name": "stdout",
     "output_type": "stream",
     "text": [
      "Retrieving DEM ...\n"
     ]
    },
    {
     "name": "stderr",
     "output_type": "stream",
     "text": [
      "/home/jtimmer1/software/data-access/multiply_data_access/vrt_data_access.py:86: ShapelyDeprecationWarning: The 'cascaded_union()' function is deprecated. Use 'unary_union()' instead.\n",
      "  coverage = cascaded_union(coverages)\n",
      "/home/jtimmer1/software/data-access/multiply_data_access/vrt_data_access.py:94: ShapelyDeprecationWarning: The 'cascaded_union()' function is deprecated. Use 'unary_union()' instead.\n",
      "  coverage = cascaded_union(coverages)\n",
      "INFO:ComponentProgress:0\n"
     ]
    },
    {
     "name": "stdout",
     "output_type": "stream",
     "text": [
      "Done retrieving static data\n"
     ]
    }
   ],
   "source": [
    "get_static_data(data_access_component=data_access_component, roi=roi,\n",
    "                start_time=start_time_as_string, stop_time=stop_time_as_string, \n",
    "          emulation_directory=emulators_directory, dem_directory=dem_directory, roi_grid=roi_grid)"
   ]
  },
  {
   "cell_type": "markdown",
   "metadata": {},
   "source": [
    "These stepping of time works as follows: Dedicated directories are set up for the MODIS, CAMS, and S2 data. These data are retrieved and put into these directories. After that, pre-processing will take place either on the whole S2 image or on the region of interest. If it has been performed on the whole region, the result will be permanently saved. Next, priors will be derived for every variable and every day within the current period. Having gathered all these, the inference can finally begin. The state of the inference engine is saved and considered during the next iteration."
   ]
  },
  {
   "cell_type": "markdown",
   "metadata": {},
   "source": [
    "### 5.2.2 Download Dynamic Data\n",
    "First for explanation, we will perform the inference over a single timestep. During this, we will show all the results to indicate the flow of the processings. "
   ]
  },
  {
   "cell_type": "code",
   "execution_count": 15,
   "metadata": {},
   "outputs": [],
   "source": [
    "# Setting up\n",
    "cursor = start_time_as_datetime\n",
    "previous_inference_state = None #'none'\n",
    "updated_inference_state = 'none'\n",
    "one_day_step = datetime.timedelta(days=1)\n",
    "preprocess_only_region_of_interest = True\n",
    "\n",
    "date_as_string = datetime.datetime.strftime(cursor, '%Y-%m-%d')\n",
    "\n",
    "cursor += time_step_as_time_delta\n",
    "cursor -= one_day_step\n",
    "if cursor > stop_time_as_datetime:\n",
    "    cursor = stop_time_as_datetime\n",
    "next_date_as_string = datetime.datetime.strftime(cursor, '%Y-%m-%d')\n",
    "cursor += one_day_step\n",
    "cursor_as_string = datetime.datetime.strftime(cursor, '%Y-%m-%d')\n",
    "\n",
    "modis_directory_for_date = '{}/{}'.format(modis_directory, date_as_string)\n",
    "cams_directory_for_date = '{}/{}'.format(cams_directory, date_as_string)\n",
    "s2_l1c_directory_for_date = '{}/{}'.format(s2_l1c_directory, date_as_string)\n",
    "sdrs_directory_for_date = '{}/{}'.format(sdrs_directory, date_as_string)\n",
    "priors_directory_for_date = '{}/{}/'.format(priors_directory, date_as_string)\n"
   ]
  },
  {
   "cell_type": "code",
   "execution_count": 16,
   "metadata": {},
   "outputs": [
    {
     "name": "stdout",
     "output_type": "stream",
     "text": [
      "Retrieving MODIS BRDF descriptors ...\n"
     ]
    },
    {
     "name": "stderr",
     "output_type": "stream",
     "text": [
      "WARNING:root:Could not access NASA Land Processes Distributed Active Archive Center: [Errno 101] Network is unreachable\n",
      "INFO:ComponentProgress:0\n",
      "INFO:ComponentProgress:2\n",
      "INFO:ComponentProgress:5\n",
      "INFO:ComponentProgress:8\n",
      "INFO:ComponentProgress:10\n",
      "INFO:ComponentProgress:13\n",
      "INFO:ComponentProgress:16\n",
      "INFO:ComponentProgress:18\n",
      "INFO:ComponentProgress:21\n",
      "INFO:ComponentProgress:24\n",
      "INFO:ComponentProgress:27\n",
      "INFO:ComponentProgress:29\n",
      "INFO:ComponentProgress:32\n",
      "INFO:ComponentProgress:35\n",
      "INFO:ComponentProgress:37\n",
      "INFO:ComponentProgress:40\n",
      "INFO:ComponentProgress:43\n",
      "INFO:ComponentProgress:45\n",
      "INFO:ComponentProgress:48\n",
      "INFO:ComponentProgress:51\n",
      "INFO:ComponentProgress:54\n",
      "INFO:ComponentProgress:56\n",
      "INFO:ComponentProgress:59\n",
      "INFO:ComponentProgress:62\n",
      "INFO:ComponentProgress:64\n",
      "INFO:ComponentProgress:67\n",
      "INFO:ComponentProgress:70\n",
      "INFO:ComponentProgress:72\n",
      "INFO:ComponentProgress:75\n",
      "INFO:ComponentProgress:78\n",
      "INFO:ComponentProgress:81\n",
      "INFO:ComponentProgress:83\n",
      "INFO:ComponentProgress:86\n",
      "INFO:ComponentProgress:89\n",
      "INFO:ComponentProgress:91\n",
      "INFO:ComponentProgress:94\n",
      "INFO:ComponentProgress:97\n"
     ]
    },
    {
     "name": "stdout",
     "output_type": "stream",
     "text": [
      "Retrieving CAMS data ...\n"
     ]
    },
    {
     "name": "stderr",
     "output_type": "stream",
     "text": [
      "INFO:ComponentProgress:0\n",
      "INFO:ComponentProgress:20\n",
      "INFO:ComponentProgress:40\n",
      "INFO:ComponentProgress:60\n",
      "INFO:ComponentProgress:80\n"
     ]
    },
    {
     "name": "stdout",
     "output_type": "stream",
     "text": [
      "Retrieving S2 L1C data ...\n"
     ]
    },
    {
     "name": "stderr",
     "output_type": "stream",
     "text": [
      "INFO:ComponentProgress:0\n",
      "INFO:ComponentProgress:25\n",
      "INFO:ComponentProgress:50\n",
      "INFO:ComponentProgress:75\n"
     ]
    },
    {
     "name": "stdout",
     "output_type": "stream",
     "text": [
      "Done retrieving dynamic data\n"
     ]
    }
   ],
   "source": [
    "get_dynamic_data(data_access_component, roi, roi_grid, date_as_string, next_date_as_string,\n",
    "                 modis_directory_for_date, cams_directory_for_date, s2_l1c_directory_for_date)"
   ]
  },
  {
   "cell_type": "markdown",
   "metadata": {},
   "source": [
    "# the Contributing team\n",
    "<img src=\"pics/Logos.png\">\n"
   ]
  },
  {
   "cell_type": "code",
   "execution_count": null,
   "metadata": {},
   "outputs": [],
   "source": []
  }
 ],
 "metadata": {
  "kernelspec": {
   "display_name": "Python [conda env:multiply-platform] *",
   "language": "python",
   "name": "conda-env-multiply-platform-py"
  },
  "language_info": {
   "codemirror_mode": {
    "name": "ipython",
    "version": 3
   },
   "file_extension": ".py",
   "mimetype": "text/x-python",
   "name": "python",
   "nbconvert_exporter": "python",
   "pygments_lexer": "ipython3",
   "version": "3.6.7"
  }
 },
 "nbformat": 4,
 "nbformat_minor": 2
}
