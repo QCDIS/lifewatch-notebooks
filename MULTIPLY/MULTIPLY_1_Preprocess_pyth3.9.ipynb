{
 "cells": [
  {
   "cell_type": "markdown",
   "metadata": {},
   "source": [
    "TODO 1:\n",
    "    * create environment: done\n",
    "    * install SIAC within the environment: done\n",
    "    * modify files to use current GDAL version: ongoing\n",
    "    \n",
    "- 'raster_boundary.py'\n",
    "    'import osr' -> 'from osgeo import osr, ogr, gdal\n",
    "    'import ogr' -> ''\n",
    "    'import gdal' -> ''\n",
    "    \n",
    "- 'reproject.py'\n",
    "    'import gdal' -> ''\n",
    "    'from osgeo import osr' -> 'from osgeo import osr, gdal'\n",
    "    \n",
    "- 'get_MCD43B.py'\n",
    "    'import gdal' -> 'from osgeo import gdal'\n",
    "\n",
    "- 'modis_tile_cal.py'\n",
    "    'import osr' -> from osgeo import osr, ogr, gdal,__version__ as gdalversion'\n",
    "    'import ogr' -> ''\n",
    "    'import gdal' -> ''\n",
    "    L39: \n",
    "    if int(gdalversion[0])>3:\n",
    "        (ul_lon, ul_lat, ulz) = tx.TransformPoint(geo_t[3], geo_t[0])\n",
    "        (lr_lon, lr_lat, lrz) = tx.TransformPoint(geo_t[3] + geo_t[5] * y_size, geo_t[0] + geo_t[1] * x_size)\n",
    "        (ll_lon, ll_lat, llz) = tx.TransformPoint(geo_t[3] + geo_t[5] * y_size, geo_t[0])\n",
    "        (ur_lon, ur_lat, urz) = tx.TransformPoint(geo_t[3], geo_t[0] + geo_t[1] * x_size)\n",
    "    else:\n",
    "        (ul_lon, ul_lat, ulz ) = tx.TransformPoint( geo_t[0], geo_t[3])\n",
    "        (lr_lon, lr_lat, lrz ) = tx.TransformPoint( geo_t[0] + geo_t[1] * x_size, geo_t[3] + geo_t[5] * y_size )\n",
    "        (ll_lon, ll_lat, llz ) = tx.TransformPoint( geo_t[0] , geo_t[3] + geo_t[5] * y_size )\n",
    "        (ur_lon, ur_lat, urz ) = tx.TransformPoint( geo_t[0] + geo_t[1] * x_size, geo_t[3])    \n",
    "    L85:\n",
    "    if int(gdalversion[0])>3:\n",
    "        ho, vo, z = tx.TransformPoint(lat, lon)  # still use the function instead of using the equation....\n",
    "    else:\n",
    "        ho,vo,z = tx.TransformPoint(lon, lat)# still use the function instead of using the equation....\n",
    "    \n",
    "- 's2_preprocessing.py'\n",
    "    'import gdal' -> 'from osgeo import gdal'\n",
    "    \n",
    "- 's2_angle.py'\n",
    "    'import ogr' -> 'from osgeo import ogr,gdal'\n",
    "    'import gdal' -> ''\n",
    "- 'SIAC_L8.py'    \n",
    "    'import gdal' -> 'from osgeo import gdal'\n",
    "- 'l8_angle.py'\n",
    "    'import gdal' -> 'from osgeo import gdal'\n"
   ]
  },
  {
   "cell_type": "code",
   "execution_count": 1,
   "metadata": {},
   "outputs": [
    {
     "data": {
      "text/plain": [
       "True"
      ]
     },
     "execution_count": 1,
     "metadata": {},
     "output_type": "execute_result"
    }
   ],
   "source": [
    "1>=1"
   ]
  },
  {
   "cell_type": "markdown",
   "metadata": {},
   "source": [
    "# 3 Setup\n",
    "All the code for the individual modules are is located at https://github.com/multiply-org/. This can be used to setup the MULTIPLY framework on your own computing infrastructure. At present however no deployment setup (in the form of windows-setup-executables, or anaconda package’s) exist. While this is planned further intolater in the project, the focus at this stage is on testing the individual components themselves. Please let us know if you would prefer to install the software yourself on a dedicated computational framework, so that we can investigate how to facilitate this for you. \n",
    "In order to facilitate the testing of the framework itself, we have setup this Virtual Machine on Google Compute Engine, for testing purposes. \n"
   ]
  },
  {
   "cell_type": "markdown",
   "metadata": {},
   "source": [
    "## 3.1 Parameters\n",
    "Here you can actually set the parameters for the run. \n"
   ]
  },
  {
   "cell_type": "markdown",
   "metadata": {},
   "source": [
    "### Define working_directory"
   ]
  },
  {
   "cell_type": "code",
   "execution_count": 2,
   "metadata": {},
   "outputs": [],
   "source": [
    "working_directory_name = 'OVP_test_pynb36upd_20220717'"
   ]
  },
  {
   "cell_type": "markdown",
   "metadata": {},
   "source": [
    "### 3.1.1 Define region of Interest\n",
    "* **roi**: A region of interest, given as a Polygon in WKT format. You can use this tool ( https://arthur-e.github.io/Wicket/sandbox-gmaps3.html ) to easily get definitions of the regions you are interested in in WGS84 coordinates.\n",
    "* **roi_grid**: The EPSG-code of the spatial reference system in which the roi is given. If it is set to 'none', it is assumed that the roi is given in WGS84 coordinates.\n",
    "* **destination_grid**: The EPSG-code of the spatial reference system in which the output shall be given. If it is set to 'none', the platform will attempt to derive it from the roi_grid.\n",
    "* **spatial_resolution**: The resolution the output data is supposed to have, must be a non-negative integer number. The resolution is given in meters and is the same for both dimensions."
   ]
  },
  {
   "cell_type": "code",
   "execution_count": 3,
   "metadata": {},
   "outputs": [],
   "source": [
    "roi = 'POLYGON(( 5.695 52.26,  5.695 52.25,  5.680 52.25,  5.680 52.26,  5.695 52.26 ))' #Speulderbos. Something goes wrong (possibly due to 'overlapping tiles')\n",
    "roi = 'POLYGON ((5.163574 52.382529, 5.163574 52.529813, 5.493164 52.529813, 5.493164 52.382529, 5.163574 52.382529))' #OVP. Correct in MUI version\n",
    "# roi = 'POLYGON ((5.163 52.38,  5.163 52.52,  5.493 52.52,  5.493 52.38,  5.163 52.38 ))'\n",
    "\n",
    "# roi_grid = 'EPSG:4326'                            # WGS84\n",
    "# destination_grid = 'EPSG:4326'                   # WGS84\n",
    "spatial_resolution = 20 # in m"
   ]
  },
  {
   "cell_type": "markdown",
   "metadata": {},
   "source": [
    "### 3.1.2 Define temporal frequency and period\n",
    "* **start_time**: The start date of the period you are interested in, must be given in the format 'Year-Month-Day' as below.\n",
    "* **end_time**: The end date of the period you are interested in, must be given in the format 'Year-Month-Day' as below.\n",
    "* **time_step**: The temporal resolution the output is supposed to have. Data will be aggregated over the period denoted by this parameter. Must be a non-negative integer value. The unit is days."
   ]
  },
  {
   "cell_type": "code",
   "execution_count": 4,
   "metadata": {},
   "outputs": [],
   "source": [
    "# start_time_as_string = '2019-04-16'\n",
    "# stop_time_as_string = '2019-04-17'\n",
    "\n",
    "start_time_as_string = '2018-04-16'\n",
    "stop_time_as_string = '2018-04-20'\n",
    "\n",
    "time_step = 5 # in days\n"
   ]
  },
  {
   "cell_type": "markdown",
   "metadata": {},
   "source": [
    "### 3.1.2 Variables \n",
    "* **variables**: The list of the biophysical variables that shall be derived. Please do not change this list, as the underlying forward model requires all of them. The parameters are as follows:\n",
    "  * **n**: Structural parameter\n",
    "  * **cab**: Leaf Chlorophyll Content, given in ug/cm²\n",
    "  * **car**: Leaf Carotonoid Content, given in ug/cm²\n",
    "  * **cb**: Leaf senescent material\n",
    "  * **cw**: Leaf Water Content, given in cm\n",
    "  * **cdm**: Leaf Dry Mass, given in g/cm²\n",
    "  * **lai**: Effective Leaf Area Index, given in m²/m²\n",
    "  * **ala**: Average Leaf Angle, given in degrees\n",
    "  * **bsoil**: Soil Brightness Parameter\n",
    "  * **psoil**: Soil Wetness Parameter\n",
    "* **file_mask**: A file that can be used to explicitly state the region you are interested in. You can also use it to mask out single pixels within this region. If this is not 'none', the aforementioned parameters roi_grid, spatial_resolution, and destination_grid are not used.\n",
    "\n",
    "**HINT**: The platform will perform faster the smaller your roi and the larger the spatial resolution is."
   ]
  },
  {
   "cell_type": "code",
   "execution_count": 5,
   "metadata": {},
   "outputs": [],
   "source": [
    "# variables = {'n', 'cab', 'car', 'cb', 'cw', 'cdm', 'lai', 'ala', 'bsoil', 'psoil'}\n",
    "# file_mask = None"
   ]
  },
  {
   "cell_type": "markdown",
   "metadata": {},
   "source": [
    "## 3.2 Load internal packages and auxiliary methods"
   ]
  },
  {
   "cell_type": "code",
   "execution_count": 6,
   "metadata": {},
   "outputs": [],
   "source": [
    "import datetime\n",
    "import glob\n",
    "import os"
   ]
  },
  {
   "cell_type": "markdown",
   "metadata": {},
   "source": [
    "## 3.2 Defining the additional interfaces"
   ]
  },
  {
   "cell_type": "code",
   "execution_count": 7,
   "metadata": {},
   "outputs": [],
   "source": [
    "def create_dir(dir):\n",
    "    try:\n",
    "        if not os.path.exists(dir):\n",
    "            os.makedirs(dir)\n",
    "    except:\n",
    "        print(dir)\n",
    "    return"
   ]
  },
  {
   "cell_type": "code",
   "execution_count": 8,
   "metadata": {},
   "outputs": [],
   "source": [
    "# import SIAC\n"
   ]
  },
  {
   "cell_type": "code",
   "execution_count": 9,
   "metadata": {},
   "outputs": [],
   "source": [
    "def preprocess_s2(s2_l1c_dir: str, modis_dir: str, emus_dir: str, cams_dir: str, dem_dir: str, output_root_dir: str,\n",
    "               roi: str):\n",
    "    vrt_dem_file = glob.glob(dem_dir + '/' + '*.vrt')[0]\n",
    "    processor_dir = '/home/jtimmer1/software/atmospheric_correction/SIAC'\n",
    "    create_dir(output_root_dir)\n",
    "    dirs = glob.glob(s2_l1c_dir + \"/*\")\n",
    "    for directory in dirs:\n",
    "        directory_parts = directory.split('/')\n",
    "        product_name = f\"{directory_parts[-1]}-ac\"\n",
    "        print(f'Start pre-processing S2 L1 data from {directory_parts[-2]}')\n",
    "        output_dir = output_root_dir + '/' + product_name + '/'\n",
    "        roi_str =  roi #\"\\'\" + roi + \"\\'\"\n",
    "        \n",
    "#         command = \"PYTHONPATH=$PYTHONPATH:\" + processor_dir + \"/util python \" + processor_dir + \"/SIAC_S2.py\" +\\\n",
    "#                     \" -f \" + directory + \"/\" +\\\n",
    "#                     \" -m \" + modis_dir + \\\n",
    "#                     \" -e \" + emus_dir + \\\n",
    "#                     \" -c \" + cams_dir + \\\n",
    "#                     \" -d \" + vrt_dem_file +\\\n",
    "#                     \" -o \" + \"False\" +\\\n",
    "#                     \" -a \" + roi_str\n",
    "#         os.system(command)\n",
    "        \n",
    "        import SIAC\n",
    "        import pdb\n",
    "        pdb.set_trace()\n",
    "        SIAC.SIAC_S2(s2_t=directory+\"/\", dem_vrt=vrt_dem_file, cams_dir=cams_dir, mcd43=modis_dir,\n",
    "        vrt_dir=modis_dir, download_mcd43=\"False\", emu_dir=emus_dir, aoi=roi_str) \n",
    "\n",
    "        print(f'Maintenance')\n",
    "        create_dir(output_dir)\n",
    "        cmd2 = \"mv $(find \" + directory + '/ -type f) ' + output_dir + '/'\n",
    "        os.system(cmd2)\n",
    "\n",
    "        cmd3 = \"cp `readlink \" + directory + \"/metadata.xml` \" + output_dir + \"/metadata.xml\"\n",
    "        os.system(cmd3)\n",
    "        cmd3 = \"cp `readlink \" + directory + \"/MTD_MSIL1C.xml` \" + output_dir + \"/MTD_MSIL1C.xml\"\n",
    "        os.system(cmd3)\n",
    "        paths_to_mtd_tl = glob.glob(os.path.join(directory, 'GRANULE/*/MTD_TL.xml'))                \n",
    "        if len(paths_to_mtd_tl) > 0:\n",
    "            cmd3 = \"cp `readlink \" + paths_to_mtd_tl[0] + \"` \" + output_dir + \"/MTD_TL.xml\"\n",
    "        os.system(cmd3)\n",
    "        print(f'Finished pre-processing S2 L1 data from {directory_parts[-2]}')"
   ]
  },
  {
   "cell_type": "code",
   "execution_count": 10,
   "metadata": {},
   "outputs": [],
   "source": [
    "# import os\n",
    "# import shutil\n",
    "# def get_working_dir(dir_name: str) -> str:\n",
    "#     working_dir = f'/datastore/working_dirs/{dir_name}'\n",
    "#     if os.path.exists(working_dir):\n",
    "#         shutil.rmtree(working_dir)\n",
    "#     os.makedirs(working_dir)\n",
    "#     return working_dir"
   ]
  },
  {
   "cell_type": "markdown",
   "metadata": {},
   "source": [
    "# 4 Running MULTIPLY\n",
    "Below the actual code is provided for running the MULTIPLY framework.\n",
    "We start with setting earth data authentication. This is required to download the MODIS brdf descriptors which are required for the atmospheric correction of the Sentinel-2 data. You can get credentials when you register at https://urs.earthdata.nasa.gov/profile . Registration and use is free of cost. If you do not register, you can only use the MODIS data which has been downloaded in previous runs of the notebook by other users.\n",
    "Also you will need to set up the data stores so that the data access component is working correctly and finds the pre-configured data stores. Both steps only need to be performed once."
   ]
  },
  {
   "cell_type": "markdown",
   "metadata": {},
   "source": [
    "### 4.1 Creating working directory\n",
    "For this notebook, you will operate in your own working directory. All data you use will be copied here, all output will be written here."
   ]
  },
  {
   "cell_type": "code",
   "execution_count": 11,
   "metadata": {},
   "outputs": [],
   "source": [
    "start_time_as_datetime = datetime.datetime.strptime(start_time_as_string, '%Y-%m-%d')\n",
    "stop_time_as_datetime = datetime.datetime.strptime(stop_time_as_string, '%Y-%m-%d')\n",
    "\n",
    "time_step_as_time_delta = datetime.timedelta(days=time_step)"
   ]
  },
  {
   "cell_type": "code",
   "execution_count": 12,
   "metadata": {},
   "outputs": [],
   "source": [
    "# Setup clean working directory\n",
    "# working_dir = get_working_dir(name)\n",
    "\n",
    "# use previous (non-empty) working directory\n",
    "name = working_directory_name\n",
    "working_dir = '/Data/test_user_16/' + name\n",
    "working_dir = '/datastore/working_dirs/' + name"
   ]
  },
  {
   "cell_type": "code",
   "execution_count": 13,
   "metadata": {},
   "outputs": [],
   "source": [
    "# print('Working directory is {}'.format(working_dir))\n",
    "# priors_directory = '{}/priors'.format(working_dir)\n",
    "# hres_state_dir = '{}/hresstate'.format(working_dir)\n",
    "# state_directory = '{}/state'.format(working_dir)\n",
    "# biophys_output = '{}/biophys'.format(working_dir)\n",
    "\n",
    "s2_l1c_directory = '{}/s2'.format(working_dir)\n",
    "modis_directory = '{}/modis'.format(working_dir)\n",
    "cams_directory = '{}/cams'.format(working_dir)\n",
    "sdrs_directory = '{}/sdrs'.format(working_dir)\n",
    "emulators_directory = '{}/emulators'.format(working_dir)\n",
    "dem_directory = '{}/dem'.format(working_dir)\n",
    "\n",
    "# print(working_dir)"
   ]
  },
  {
   "cell_type": "markdown",
   "metadata": {},
   "source": [
    "### 5.2.1 Download Static Data"
   ]
  },
  {
   "cell_type": "code",
   "execution_count": 14,
   "metadata": {},
   "outputs": [],
   "source": [
    "# # Setting up\n",
    "cursor = start_time_as_datetime\n",
    "# previous_inference_state = None #'none'\n",
    "# updated_inference_state = 'none'\n",
    "# one_day_step = datetime.timedelta(days=1)\n",
    "# preprocess_only_region_of_interest = True\n",
    "\n",
    "date_as_string = datetime.datetime.strftime(cursor, '%Y-%m-%d')\n",
    "\n",
    "# cursor += time_step_as_time_delta\n",
    "# cursor -= one_day_step\n",
    "# if cursor > stop_time_as_datetime:\n",
    "#     cursor = stop_time_as_datetime\n",
    "# next_date_as_string = datetime.datetime.strftime(cursor, '%Y-%m-%d')\n",
    "# cursor += one_day_step\n",
    "# cursor_as_string = datetime.datetime.strftime(cursor, '%Y-%m-%d')\n",
    "\n",
    "s2_l1c_directory_for_date = '{}/{}'.format(s2_l1c_directory, date_as_string)\n",
    "modis_directory_for_date = '{}/{}'.format(modis_directory, date_as_string)\n",
    "cams_directory_for_date = '{}/{}'.format(cams_directory, date_as_string)\n",
    "sdrs_directory_for_date = '{}/{}'.format(sdrs_directory, date_as_string)\n",
    "# priors_directory_for_date = '{}/{}/'.format(priors_directory, date_as_string)\n"
   ]
  },
  {
   "cell_type": "markdown",
   "metadata": {},
   "source": [
    "### 6.1.2 Preprocessing"
   ]
  },
  {
   "cell_type": "markdown",
   "metadata": {},
   "source": [
    "#### DEBUG"
   ]
  },
  {
   "cell_type": "code",
   "execution_count": 15,
   "metadata": {},
   "outputs": [],
   "source": [
    "import pickle as pkl\n",
    "import sklearn\n",
    "import sys\n"
   ]
  },
  {
   "cell_type": "code",
   "execution_count": 16,
   "metadata": {},
   "outputs": [],
   "source": [
    "import pdb\n"
   ]
  },
  {
   "cell_type": "code",
   "execution_count": 17,
   "metadata": {},
   "outputs": [],
   "source": [
    "def Try_this_out():\n",
    "    pythonversion = sys.version\n",
    "    #read data \n",
    "    if int(pythonversion[2])==6:\n",
    "        fid = open('/home/jtimmer1/software/atmospheric_correction/SIAC/data/sen2cloud_detector_v36.pkl', 'rb')\n",
    "        cl = pkl.load(fid)\n",
    "        print('loaded 36 version')\n",
    "    else:\n",
    "        fid = open('/home/jtimmer1/software/atmospheric_correction/SIAC/data/sen2cloud_detector_v39.pkl', 'rb')\n",
    "        cl = pkl.load(fid)\n",
    "        print('loaded 39 version')\n",
    "    fid.close()\n",
    "    \n",
    "    # modify the sklearn-object for version 0.20.3 to the current version (1.1.1)\n",
    "    if int(sklearn.__version__[0])>=1:\n",
    "        cl.set_params(class_weight=None)  # TO SOLVE 'LGBMClassifier' object has no attribute 'class_weight'\n",
    "        cl.set_params(importance_type=None) # TO SOLVE 'LGBMClassifier' object has no attribute 'importance_type'\n",
    "        cl.set_params(fitted_=True)\n",
    "    \n",
    "    # modify the original pkl file to update the sklearn-object for version 0.20.3 to the current version (1.1.1)\n",
    "    if int(sklearn.__version__[0])>=1:\n",
    "        fid = open('/home/jtimmer1/software/atmospheric_correction/SIAC/data/sen2cloud_detector_v39.pkl','wb')\n",
    "        pkl.dump(cl,fid)\n",
    "        fid.close()\n",
    "        print('Updated 39 version')\n",
    "    else:\n",
    "        print('Left 36 version unaltered')\n",
    "            \n",
    "    #############################\n",
    "    ## Test prediction \n",
    "    #############################\n",
    "    # open toas\n",
    "    fid = open('/home/jtimmer1/toas.pkl','rb')\n",
    "    toas = pkl.load(fid)\n",
    "    fid.close()\n",
    "    \n",
    "#     import pdb\n",
    "#     pdb.set_trace()\n",
    "#     cl.__sklearn_is_fitted__ = True\n",
    "    BOAs = cl.predict_proba(toas)\n",
    "    return BOAs"
   ]
  },
  {
   "cell_type": "code",
   "execution_count": 18,
   "metadata": {},
   "outputs": [],
   "source": [
    "# cl = Try_this_out()\n",
    "\n",
    "# print(cl)"
   ]
  },
  {
   "cell_type": "markdown",
   "metadata": {},
   "source": [
    "[[0.97822609 0.02177391]\n",
    " [0.96400097 0.03599903]\n",
    " [0.9381087  0.0618913 ]\n",
    " ...\n",
    " [0.03016242 0.96983758]\n",
    " [0.01373966 0.98626034]\n",
    " [0.04775515 0.95224485]]\n",
    " \n",
    "[[0.97822609 0.02177391]\n",
    " [0.96400097 0.03599903]\n",
    " [0.9381087  0.0618913 ]\n",
    " ...\n",
    " [0.03016242 0.96983758]\n",
    " [0.01373966 0.98626034]\n",
    " [0.04775515 0.95224485]]"
   ]
  },
  {
   "cell_type": "markdown",
   "metadata": {},
   "source": [
    "#### Run preprocess\n"
   ]
  },
  {
   "cell_type": "markdown",
   "metadata": {},
   "source": [
    "- pre_process is giving an error, most probably because when reading one of the bands using '_do_chunck(1)' in 'the_correction: L417', NAN values are returned...\n",
    "This continue with  the investigation... check self._toa_bands (when interrupting the code execution and going up to the specified line"
   ]
  },
  {
   "cell_type": "code",
   "execution_count": 19,
   "metadata": {},
   "outputs": [
    {
     "name": "stdout",
     "output_type": "stream",
     "text": [
      "Start pre-processing S2 L1 data from 2018-04-16\n",
      "> \u001b[0;32m/tmp/ipykernel_18264/4076071717.py\u001b[0m(27)\u001b[0;36mpreprocess_s2\u001b[0;34m()\u001b[0m\n",
      "\u001b[0;32m     25 \u001b[0;31m        \u001b[0;32mimport\u001b[0m \u001b[0mpdb\u001b[0m\u001b[0;34m\u001b[0m\u001b[0;34m\u001b[0m\u001b[0m\n",
      "\u001b[0m\u001b[0;32m     26 \u001b[0;31m        \u001b[0mpdb\u001b[0m\u001b[0;34m.\u001b[0m\u001b[0mset_trace\u001b[0m\u001b[0;34m(\u001b[0m\u001b[0;34m)\u001b[0m\u001b[0;34m\u001b[0m\u001b[0;34m\u001b[0m\u001b[0m\n",
      "\u001b[0m\u001b[0;32m---> 27 \u001b[0;31m        SIAC.SIAC_S2(s2_t=directory+\"/\", dem_vrt=vrt_dem_file, cams_dir=cams_dir, mcd43=modis_dir,\n",
      "\u001b[0m\u001b[0;32m     28 \u001b[0;31m        vrt_dir=modis_dir, download_mcd43=\"False\", emu_dir=emus_dir, aoi=roi_str) \n",
      "\u001b[0m\u001b[0;32m     29 \u001b[0;31m\u001b[0;34m\u001b[0m\u001b[0m\n",
      "\u001b[0m\n"
     ]
    },
    {
     "name": "stdin",
     "output_type": "stream",
     "text": [
      "ipdb>  c\n"
     ]
    },
    {
     "name": "stderr",
     "output_type": "stream",
     "text": [
      "2022-07-28 16:22:36,808 - SIAC-V2.2.0 - INFO - Starting SIAC\n",
      "INFO:ComponentProgress:0\n",
      "2022-07-28 16:22:36,823 - SIAC-V2.2.0 - INFO - Preprocessing for S2B_OPER_MSI_L1C_TL_MPS__20180416T111231_A005797_T31UFU_N02.06\n",
      "2022-07-28 16:22:36,824 - SIAC-V2.2.0 - INFO - Doing per pixel angle resampling.\n",
      "2022-07-28 16:22:36,974 - SIAC-V2.2.0 - INFO - getting angles from 13 processes\n",
      "2022-07-28 16:22:36,975 - SIAC-V2.2.0 - INFO - getting angle for /datastore/working_dirs/OVP_test_pynb36upd_20220717/s2/2018-04-16/31/U/FU/2018/4/16/0/B01.jp2, /datastore/working_dirs/OVP_test_pynb36upd_20220717/s2/2018-04-16/31/U/FU/2018/4/16/0/angles/VAA_VZA_B01.tif, and /datastore/working_dirs/OVP_test_pynb36upd_20220717/s2/2018-04-16/31/U/FU/2018/4/16/0/qi/MSK_DETFOO_B01.gml\n",
      "2022-07-28 16:22:37,893 - SIAC-V2.2.0 - INFO - getting angle for /datastore/working_dirs/OVP_test_pynb36upd_20220717/s2/2018-04-16/31/U/FU/2018/4/16/0/B02.jp2, /datastore/working_dirs/OVP_test_pynb36upd_20220717/s2/2018-04-16/31/U/FU/2018/4/16/0/angles/VAA_VZA_B02.tif, and /datastore/working_dirs/OVP_test_pynb36upd_20220717/s2/2018-04-16/31/U/FU/2018/4/16/0/qi/MSK_DETFOO_B02.gml\n",
      "2022-07-28 16:23:09,918 - SIAC-V2.2.0 - INFO - getting angle for /datastore/working_dirs/OVP_test_pynb36upd_20220717/s2/2018-04-16/31/U/FU/2018/4/16/0/B03.jp2, /datastore/working_dirs/OVP_test_pynb36upd_20220717/s2/2018-04-16/31/U/FU/2018/4/16/0/angles/VAA_VZA_B03.tif, and /datastore/working_dirs/OVP_test_pynb36upd_20220717/s2/2018-04-16/31/U/FU/2018/4/16/0/qi/MSK_DETFOO_B03.gml\n",
      "2022-07-28 16:23:42,190 - SIAC-V2.2.0 - INFO - getting angle for /datastore/working_dirs/OVP_test_pynb36upd_20220717/s2/2018-04-16/31/U/FU/2018/4/16/0/B04.jp2, /datastore/working_dirs/OVP_test_pynb36upd_20220717/s2/2018-04-16/31/U/FU/2018/4/16/0/angles/VAA_VZA_B04.tif, and /datastore/working_dirs/OVP_test_pynb36upd_20220717/s2/2018-04-16/31/U/FU/2018/4/16/0/qi/MSK_DETFOO_B04.gml\n",
      "2022-07-28 16:24:14,381 - SIAC-V2.2.0 - INFO - getting angle for /datastore/working_dirs/OVP_test_pynb36upd_20220717/s2/2018-04-16/31/U/FU/2018/4/16/0/B05.jp2, /datastore/working_dirs/OVP_test_pynb36upd_20220717/s2/2018-04-16/31/U/FU/2018/4/16/0/angles/VAA_VZA_B05.tif, and /datastore/working_dirs/OVP_test_pynb36upd_20220717/s2/2018-04-16/31/U/FU/2018/4/16/0/qi/MSK_DETFOO_B05.gml\n",
      "2022-07-28 16:24:22,175 - SIAC-V2.2.0 - INFO - getting angle for /datastore/working_dirs/OVP_test_pynb36upd_20220717/s2/2018-04-16/31/U/FU/2018/4/16/0/B06.jp2, /datastore/working_dirs/OVP_test_pynb36upd_20220717/s2/2018-04-16/31/U/FU/2018/4/16/0/angles/VAA_VZA_B06.tif, and /datastore/working_dirs/OVP_test_pynb36upd_20220717/s2/2018-04-16/31/U/FU/2018/4/16/0/qi/MSK_DETFOO_B06.gml\n",
      "2022-07-28 16:24:29,933 - SIAC-V2.2.0 - INFO - getting angle for /datastore/working_dirs/OVP_test_pynb36upd_20220717/s2/2018-04-16/31/U/FU/2018/4/16/0/B07.jp2, /datastore/working_dirs/OVP_test_pynb36upd_20220717/s2/2018-04-16/31/U/FU/2018/4/16/0/angles/VAA_VZA_B07.tif, and /datastore/working_dirs/OVP_test_pynb36upd_20220717/s2/2018-04-16/31/U/FU/2018/4/16/0/qi/MSK_DETFOO_B07.gml\n",
      "2022-07-28 16:24:37,685 - SIAC-V2.2.0 - INFO - getting angle for /datastore/working_dirs/OVP_test_pynb36upd_20220717/s2/2018-04-16/31/U/FU/2018/4/16/0/B08.jp2, /datastore/working_dirs/OVP_test_pynb36upd_20220717/s2/2018-04-16/31/U/FU/2018/4/16/0/angles/VAA_VZA_B08.tif, and /datastore/working_dirs/OVP_test_pynb36upd_20220717/s2/2018-04-16/31/U/FU/2018/4/16/0/qi/MSK_DETFOO_B08.gml\n",
      "2022-07-28 16:25:09,535 - SIAC-V2.2.0 - INFO - getting angle for /datastore/working_dirs/OVP_test_pynb36upd_20220717/s2/2018-04-16/31/U/FU/2018/4/16/0/B8A.jp2, /datastore/working_dirs/OVP_test_pynb36upd_20220717/s2/2018-04-16/31/U/FU/2018/4/16/0/angles/VAA_VZA_B8A.tif, and /datastore/working_dirs/OVP_test_pynb36upd_20220717/s2/2018-04-16/31/U/FU/2018/4/16/0/qi/MSK_DETFOO_B8A.gml\n",
      "2022-07-28 16:25:17,295 - SIAC-V2.2.0 - INFO - getting angle for /datastore/working_dirs/OVP_test_pynb36upd_20220717/s2/2018-04-16/31/U/FU/2018/4/16/0/B09.jp2, /datastore/working_dirs/OVP_test_pynb36upd_20220717/s2/2018-04-16/31/U/FU/2018/4/16/0/angles/VAA_VZA_B09.tif, and /datastore/working_dirs/OVP_test_pynb36upd_20220717/s2/2018-04-16/31/U/FU/2018/4/16/0/qi/MSK_DETFOO_B09.gml\n",
      "2022-07-28 16:25:17,999 - SIAC-V2.2.0 - INFO - getting angle for /datastore/working_dirs/OVP_test_pynb36upd_20220717/s2/2018-04-16/31/U/FU/2018/4/16/0/B10.jp2, /datastore/working_dirs/OVP_test_pynb36upd_20220717/s2/2018-04-16/31/U/FU/2018/4/16/0/angles/VAA_VZA_B10.tif, and /datastore/working_dirs/OVP_test_pynb36upd_20220717/s2/2018-04-16/31/U/FU/2018/4/16/0/qi/MSK_DETFOO_B10.gml\n",
      "2022-07-28 16:25:18,710 - SIAC-V2.2.0 - INFO - getting angle for /datastore/working_dirs/OVP_test_pynb36upd_20220717/s2/2018-04-16/31/U/FU/2018/4/16/0/B11.jp2, /datastore/working_dirs/OVP_test_pynb36upd_20220717/s2/2018-04-16/31/U/FU/2018/4/16/0/angles/VAA_VZA_B11.tif, and /datastore/working_dirs/OVP_test_pynb36upd_20220717/s2/2018-04-16/31/U/FU/2018/4/16/0/qi/MSK_DETFOO_B11.gml\n",
      "2022-07-28 16:25:26,424 - SIAC-V2.2.0 - INFO - getting angle for /datastore/working_dirs/OVP_test_pynb36upd_20220717/s2/2018-04-16/31/U/FU/2018/4/16/0/B12.jp2, /datastore/working_dirs/OVP_test_pynb36upd_20220717/s2/2018-04-16/31/U/FU/2018/4/16/0/angles/VAA_VZA_B12.tif, and /datastore/working_dirs/OVP_test_pynb36upd_20220717/s2/2018-04-16/31/U/FU/2018/4/16/0/qi/MSK_DETFOO_B12.gml\n",
      "2022-07-28 16:25:34,181 - SIAC-V2.2.0 - INFO - Getting cloud mask.\n",
      "2022-07-28 16:25:41,546 - SIAC-V2.2.0 - INFO - Valid pixel percentage: 80.05\n",
      "2022-07-28 16:25:41,548 - SIAC-V2.2.0 - INFO - Clean pixel percentage: 63.28\n",
      "INFO:ComponentProgress:0\n",
      "2022-07-28 16:25:41,682 - SIAC-V2.2.0 - INFO - Preprocessing for S2B_OPER_MSI_L1C_TL_EPAE_20180416T131748_A005797_T31UFU_N02.06\n",
      "2022-07-28 16:25:41,683 - SIAC-V2.2.0 - INFO - Doing per pixel angle resampling.\n",
      "2022-07-28 16:25:41,737 - SIAC-V2.2.0 - INFO - getting angles from 13 processes\n",
      "2022-07-28 16:25:41,738 - SIAC-V2.2.0 - INFO - getting angle for /datastore/working_dirs/OVP_test_pynb36upd_20220717/s2/2018-04-16/31/U/FU/2018/4/16/1/B01.jp2, /datastore/working_dirs/OVP_test_pynb36upd_20220717/s2/2018-04-16/31/U/FU/2018/4/16/1/angles/VAA_VZA_B01.tif, and /datastore/working_dirs/OVP_test_pynb36upd_20220717/s2/2018-04-16/31/U/FU/2018/4/16/1/qi/MSK_DETFOO_B01.gml\n",
      "2022-07-28 16:25:42,288 - SIAC-V2.2.0 - INFO - getting angle for /datastore/working_dirs/OVP_test_pynb36upd_20220717/s2/2018-04-16/31/U/FU/2018/4/16/1/B02.jp2, /datastore/working_dirs/OVP_test_pynb36upd_20220717/s2/2018-04-16/31/U/FU/2018/4/16/1/angles/VAA_VZA_B02.tif, and /datastore/working_dirs/OVP_test_pynb36upd_20220717/s2/2018-04-16/31/U/FU/2018/4/16/1/qi/MSK_DETFOO_B02.gml\n",
      "2022-07-28 16:26:06,473 - SIAC-V2.2.0 - INFO - getting angle for /datastore/working_dirs/OVP_test_pynb36upd_20220717/s2/2018-04-16/31/U/FU/2018/4/16/1/B03.jp2, /datastore/working_dirs/OVP_test_pynb36upd_20220717/s2/2018-04-16/31/U/FU/2018/4/16/1/angles/VAA_VZA_B03.tif, and /datastore/working_dirs/OVP_test_pynb36upd_20220717/s2/2018-04-16/31/U/FU/2018/4/16/1/qi/MSK_DETFOO_B03.gml\n",
      "2022-07-28 16:26:30,759 - SIAC-V2.2.0 - INFO - getting angle for /datastore/working_dirs/OVP_test_pynb36upd_20220717/s2/2018-04-16/31/U/FU/2018/4/16/1/B04.jp2, /datastore/working_dirs/OVP_test_pynb36upd_20220717/s2/2018-04-16/31/U/FU/2018/4/16/1/angles/VAA_VZA_B04.tif, and /datastore/working_dirs/OVP_test_pynb36upd_20220717/s2/2018-04-16/31/U/FU/2018/4/16/1/qi/MSK_DETFOO_B04.gml\n",
      "2022-07-28 16:26:55,177 - SIAC-V2.2.0 - INFO - getting angle for /datastore/working_dirs/OVP_test_pynb36upd_20220717/s2/2018-04-16/31/U/FU/2018/4/16/1/B05.jp2, /datastore/working_dirs/OVP_test_pynb36upd_20220717/s2/2018-04-16/31/U/FU/2018/4/16/1/angles/VAA_VZA_B05.tif, and /datastore/working_dirs/OVP_test_pynb36upd_20220717/s2/2018-04-16/31/U/FU/2018/4/16/1/qi/MSK_DETFOO_B05.gml\n",
      "2022-07-28 16:27:00,621 - SIAC-V2.2.0 - INFO - getting angle for /datastore/working_dirs/OVP_test_pynb36upd_20220717/s2/2018-04-16/31/U/FU/2018/4/16/1/B06.jp2, /datastore/working_dirs/OVP_test_pynb36upd_20220717/s2/2018-04-16/31/U/FU/2018/4/16/1/angles/VAA_VZA_B06.tif, and /datastore/working_dirs/OVP_test_pynb36upd_20220717/s2/2018-04-16/31/U/FU/2018/4/16/1/qi/MSK_DETFOO_B06.gml\n",
      "2022-07-28 16:27:06,076 - SIAC-V2.2.0 - INFO - getting angle for /datastore/working_dirs/OVP_test_pynb36upd_20220717/s2/2018-04-16/31/U/FU/2018/4/16/1/B07.jp2, /datastore/working_dirs/OVP_test_pynb36upd_20220717/s2/2018-04-16/31/U/FU/2018/4/16/1/angles/VAA_VZA_B07.tif, and /datastore/working_dirs/OVP_test_pynb36upd_20220717/s2/2018-04-16/31/U/FU/2018/4/16/1/qi/MSK_DETFOO_B07.gml\n",
      "2022-07-28 16:27:11,488 - SIAC-V2.2.0 - INFO - getting angle for /datastore/working_dirs/OVP_test_pynb36upd_20220717/s2/2018-04-16/31/U/FU/2018/4/16/1/B08.jp2, /datastore/working_dirs/OVP_test_pynb36upd_20220717/s2/2018-04-16/31/U/FU/2018/4/16/1/angles/VAA_VZA_B08.tif, and /datastore/working_dirs/OVP_test_pynb36upd_20220717/s2/2018-04-16/31/U/FU/2018/4/16/1/qi/MSK_DETFOO_B08.gml\n",
      "2022-07-28 16:27:35,751 - SIAC-V2.2.0 - INFO - getting angle for /datastore/working_dirs/OVP_test_pynb36upd_20220717/s2/2018-04-16/31/U/FU/2018/4/16/1/B8A.jp2, /datastore/working_dirs/OVP_test_pynb36upd_20220717/s2/2018-04-16/31/U/FU/2018/4/16/1/angles/VAA_VZA_B8A.tif, and /datastore/working_dirs/OVP_test_pynb36upd_20220717/s2/2018-04-16/31/U/FU/2018/4/16/1/qi/MSK_DETFOO_B8A.gml\n",
      "2022-07-28 16:27:41,226 - SIAC-V2.2.0 - INFO - getting angle for /datastore/working_dirs/OVP_test_pynb36upd_20220717/s2/2018-04-16/31/U/FU/2018/4/16/1/B09.jp2, /datastore/working_dirs/OVP_test_pynb36upd_20220717/s2/2018-04-16/31/U/FU/2018/4/16/1/angles/VAA_VZA_B09.tif, and /datastore/working_dirs/OVP_test_pynb36upd_20220717/s2/2018-04-16/31/U/FU/2018/4/16/1/qi/MSK_DETFOO_B09.gml\n",
      "2022-07-28 16:27:41,790 - SIAC-V2.2.0 - INFO - getting angle for /datastore/working_dirs/OVP_test_pynb36upd_20220717/s2/2018-04-16/31/U/FU/2018/4/16/1/B10.jp2, /datastore/working_dirs/OVP_test_pynb36upd_20220717/s2/2018-04-16/31/U/FU/2018/4/16/1/angles/VAA_VZA_B10.tif, and /datastore/working_dirs/OVP_test_pynb36upd_20220717/s2/2018-04-16/31/U/FU/2018/4/16/1/qi/MSK_DETFOO_B10.gml\n",
      "2022-07-28 16:27:42,351 - SIAC-V2.2.0 - INFO - getting angle for /datastore/working_dirs/OVP_test_pynb36upd_20220717/s2/2018-04-16/31/U/FU/2018/4/16/1/B11.jp2, /datastore/working_dirs/OVP_test_pynb36upd_20220717/s2/2018-04-16/31/U/FU/2018/4/16/1/angles/VAA_VZA_B11.tif, and /datastore/working_dirs/OVP_test_pynb36upd_20220717/s2/2018-04-16/31/U/FU/2018/4/16/1/qi/MSK_DETFOO_B11.gml\n",
      "2022-07-28 16:27:47,768 - SIAC-V2.2.0 - INFO - getting angle for /datastore/working_dirs/OVP_test_pynb36upd_20220717/s2/2018-04-16/31/U/FU/2018/4/16/1/B12.jp2, /datastore/working_dirs/OVP_test_pynb36upd_20220717/s2/2018-04-16/31/U/FU/2018/4/16/1/angles/VAA_VZA_B12.tif, and /datastore/working_dirs/OVP_test_pynb36upd_20220717/s2/2018-04-16/31/U/FU/2018/4/16/1/qi/MSK_DETFOO_B12.gml\n",
      "2022-07-28 16:27:53,274 - SIAC-V2.2.0 - INFO - Getting cloud mask.\n",
      "2022-07-28 16:27:58,084 - SIAC-V2.2.0 - INFO - Valid pixel percentage: 38.01\n",
      "2022-07-28 16:27:58,086 - SIAC-V2.2.0 - INFO - Clean pixel percentage: 26.28\n",
      "INFO:ComponentProgress:0\n",
      "2022-07-28 16:27:58,220 - SIAC-V2.2.0 - INFO - Preprocessing for S2A_OPER_MSI_L1C_TL_MPS__20180418T125356_A014734_T31UFU_N02.06\n",
      "2022-07-28 16:27:58,221 - SIAC-V2.2.0 - INFO - Doing per pixel angle resampling.\n",
      "2022-07-28 16:27:58,261 - SIAC-V2.2.0 - INFO - getting angles from 13 processes\n",
      "2022-07-28 16:27:58,262 - SIAC-V2.2.0 - INFO - getting angle for /datastore/working_dirs/OVP_test_pynb36upd_20220717/s2/2018-04-16/31/U/FU/2018/4/18/0/B01.jp2, /datastore/working_dirs/OVP_test_pynb36upd_20220717/s2/2018-04-16/31/U/FU/2018/4/18/0/angles/VAA_VZA_B01.tif, and /datastore/working_dirs/OVP_test_pynb36upd_20220717/s2/2018-04-16/31/U/FU/2018/4/18/0/qi/MSK_DETFOO_B01.gml\n",
      "2022-07-28 16:27:58,729 - SIAC-V2.2.0 - INFO - getting angle for /datastore/working_dirs/OVP_test_pynb36upd_20220717/s2/2018-04-16/31/U/FU/2018/4/18/0/B02.jp2, /datastore/working_dirs/OVP_test_pynb36upd_20220717/s2/2018-04-16/31/U/FU/2018/4/18/0/angles/VAA_VZA_B02.tif, and /datastore/working_dirs/OVP_test_pynb36upd_20220717/s2/2018-04-16/31/U/FU/2018/4/18/0/qi/MSK_DETFOO_B02.gml\n",
      "2022-07-28 16:28:18,940 - SIAC-V2.2.0 - INFO - getting angle for /datastore/working_dirs/OVP_test_pynb36upd_20220717/s2/2018-04-16/31/U/FU/2018/4/18/0/B03.jp2, /datastore/working_dirs/OVP_test_pynb36upd_20220717/s2/2018-04-16/31/U/FU/2018/4/18/0/angles/VAA_VZA_B03.tif, and /datastore/working_dirs/OVP_test_pynb36upd_20220717/s2/2018-04-16/31/U/FU/2018/4/18/0/qi/MSK_DETFOO_B03.gml\n",
      "2022-07-28 16:28:39,288 - SIAC-V2.2.0 - INFO - getting angle for /datastore/working_dirs/OVP_test_pynb36upd_20220717/s2/2018-04-16/31/U/FU/2018/4/18/0/B04.jp2, /datastore/working_dirs/OVP_test_pynb36upd_20220717/s2/2018-04-16/31/U/FU/2018/4/18/0/angles/VAA_VZA_B04.tif, and /datastore/working_dirs/OVP_test_pynb36upd_20220717/s2/2018-04-16/31/U/FU/2018/4/18/0/qi/MSK_DETFOO_B04.gml\n",
      "2022-07-28 16:28:59,584 - SIAC-V2.2.0 - INFO - getting angle for /datastore/working_dirs/OVP_test_pynb36upd_20220717/s2/2018-04-16/31/U/FU/2018/4/18/0/B05.jp2, /datastore/working_dirs/OVP_test_pynb36upd_20220717/s2/2018-04-16/31/U/FU/2018/4/18/0/angles/VAA_VZA_B05.tif, and /datastore/working_dirs/OVP_test_pynb36upd_20220717/s2/2018-04-16/31/U/FU/2018/4/18/0/qi/MSK_DETFOO_B05.gml\n",
      "2022-07-28 16:29:04,768 - SIAC-V2.2.0 - INFO - getting angle for /datastore/working_dirs/OVP_test_pynb36upd_20220717/s2/2018-04-16/31/U/FU/2018/4/18/0/B06.jp2, /datastore/working_dirs/OVP_test_pynb36upd_20220717/s2/2018-04-16/31/U/FU/2018/4/18/0/angles/VAA_VZA_B06.tif, and /datastore/working_dirs/OVP_test_pynb36upd_20220717/s2/2018-04-16/31/U/FU/2018/4/18/0/qi/MSK_DETFOO_B06.gml\n",
      "2022-07-28 16:29:09,752 - SIAC-V2.2.0 - INFO - getting angle for /datastore/working_dirs/OVP_test_pynb36upd_20220717/s2/2018-04-16/31/U/FU/2018/4/18/0/B07.jp2, /datastore/working_dirs/OVP_test_pynb36upd_20220717/s2/2018-04-16/31/U/FU/2018/4/18/0/angles/VAA_VZA_B07.tif, and /datastore/working_dirs/OVP_test_pynb36upd_20220717/s2/2018-04-16/31/U/FU/2018/4/18/0/qi/MSK_DETFOO_B07.gml\n",
      "2022-07-28 16:29:14,728 - SIAC-V2.2.0 - INFO - getting angle for /datastore/working_dirs/OVP_test_pynb36upd_20220717/s2/2018-04-16/31/U/FU/2018/4/18/0/B08.jp2, /datastore/working_dirs/OVP_test_pynb36upd_20220717/s2/2018-04-16/31/U/FU/2018/4/18/0/angles/VAA_VZA_B08.tif, and /datastore/working_dirs/OVP_test_pynb36upd_20220717/s2/2018-04-16/31/U/FU/2018/4/18/0/qi/MSK_DETFOO_B08.gml\n",
      "2022-07-28 16:29:34,977 - SIAC-V2.2.0 - INFO - getting angle for /datastore/working_dirs/OVP_test_pynb36upd_20220717/s2/2018-04-16/31/U/FU/2018/4/18/0/B8A.jp2, /datastore/working_dirs/OVP_test_pynb36upd_20220717/s2/2018-04-16/31/U/FU/2018/4/18/0/angles/VAA_VZA_B8A.tif, and /datastore/working_dirs/OVP_test_pynb36upd_20220717/s2/2018-04-16/31/U/FU/2018/4/18/0/qi/MSK_DETFOO_B8A.gml\n",
      "2022-07-28 16:29:40,013 - SIAC-V2.2.0 - INFO - getting angle for /datastore/working_dirs/OVP_test_pynb36upd_20220717/s2/2018-04-16/31/U/FU/2018/4/18/0/B09.jp2, /datastore/working_dirs/OVP_test_pynb36upd_20220717/s2/2018-04-16/31/U/FU/2018/4/18/0/angles/VAA_VZA_B09.tif, and /datastore/working_dirs/OVP_test_pynb36upd_20220717/s2/2018-04-16/31/U/FU/2018/4/18/0/qi/MSK_DETFOO_B09.gml\n",
      "2022-07-28 16:29:40,468 - SIAC-V2.2.0 - INFO - getting angle for /datastore/working_dirs/OVP_test_pynb36upd_20220717/s2/2018-04-16/31/U/FU/2018/4/18/0/B10.jp2, /datastore/working_dirs/OVP_test_pynb36upd_20220717/s2/2018-04-16/31/U/FU/2018/4/18/0/angles/VAA_VZA_B10.tif, and /datastore/working_dirs/OVP_test_pynb36upd_20220717/s2/2018-04-16/31/U/FU/2018/4/18/0/qi/MSK_DETFOO_B10.gml\n",
      "2022-07-28 16:29:40,909 - SIAC-V2.2.0 - INFO - getting angle for /datastore/working_dirs/OVP_test_pynb36upd_20220717/s2/2018-04-16/31/U/FU/2018/4/18/0/B11.jp2, /datastore/working_dirs/OVP_test_pynb36upd_20220717/s2/2018-04-16/31/U/FU/2018/4/18/0/angles/VAA_VZA_B11.tif, and /datastore/working_dirs/OVP_test_pynb36upd_20220717/s2/2018-04-16/31/U/FU/2018/4/18/0/qi/MSK_DETFOO_B11.gml\n",
      "2022-07-28 16:29:45,869 - SIAC-V2.2.0 - INFO - getting angle for /datastore/working_dirs/OVP_test_pynb36upd_20220717/s2/2018-04-16/31/U/FU/2018/4/18/0/B12.jp2, /datastore/working_dirs/OVP_test_pynb36upd_20220717/s2/2018-04-16/31/U/FU/2018/4/18/0/angles/VAA_VZA_B12.tif, and /datastore/working_dirs/OVP_test_pynb36upd_20220717/s2/2018-04-16/31/U/FU/2018/4/18/0/qi/MSK_DETFOO_B12.gml\n",
      "2022-07-28 16:29:50,819 - SIAC-V2.2.0 - INFO - Getting cloud mask.\n",
      "2022-07-28 16:29:57,085 - SIAC-V2.2.0 - INFO - Valid pixel percentage: 66.76\n",
      "2022-07-28 16:29:57,087 - SIAC-V2.2.0 - INFO - Clean pixel percentage: 65.75\n",
      "INFO:ComponentProgress:0\n",
      "2022-07-28 16:29:57,202 - SIAC-V2.2.0 - INFO - Preprocessing for S2B_OPER_MSI_L1C_TL_EPAE_20180419T121006_A005840_T31UFU_N02.06\n",
      "2022-07-28 16:29:57,202 - SIAC-V2.2.0 - INFO - Doing per pixel angle resampling.\n",
      "2022-07-28 16:29:57,218 - SIAC-V2.2.0 - INFO - getting angles from 13 processes\n",
      "2022-07-28 16:29:57,219 - SIAC-V2.2.0 - INFO - getting angle for /datastore/working_dirs/OVP_test_pynb36upd_20220717/s2/2018-04-16/31/U/FU/2018/4/19/0/B01.jp2, /datastore/working_dirs/OVP_test_pynb36upd_20220717/s2/2018-04-16/31/U/FU/2018/4/19/0/angles/VAA_VZA_B01.tif, and /datastore/working_dirs/OVP_test_pynb36upd_20220717/s2/2018-04-16/31/U/FU/2018/4/19/0/qi/MSK_DETFOO_B01.gml\n",
      "2022-07-28 16:29:57,386 - SIAC-V2.2.0 - INFO - getting angle for /datastore/working_dirs/OVP_test_pynb36upd_20220717/s2/2018-04-16/31/U/FU/2018/4/19/0/B02.jp2, /datastore/working_dirs/OVP_test_pynb36upd_20220717/s2/2018-04-16/31/U/FU/2018/4/19/0/angles/VAA_VZA_B02.tif, and /datastore/working_dirs/OVP_test_pynb36upd_20220717/s2/2018-04-16/31/U/FU/2018/4/19/0/qi/MSK_DETFOO_B02.gml\n",
      "2022-07-28 16:30:04,059 - SIAC-V2.2.0 - INFO - getting angle for /datastore/working_dirs/OVP_test_pynb36upd_20220717/s2/2018-04-16/31/U/FU/2018/4/19/0/B03.jp2, /datastore/working_dirs/OVP_test_pynb36upd_20220717/s2/2018-04-16/31/U/FU/2018/4/19/0/angles/VAA_VZA_B03.tif, and /datastore/working_dirs/OVP_test_pynb36upd_20220717/s2/2018-04-16/31/U/FU/2018/4/19/0/qi/MSK_DETFOO_B03.gml\n",
      "2022-07-28 16:30:11,054 - SIAC-V2.2.0 - INFO - getting angle for /datastore/working_dirs/OVP_test_pynb36upd_20220717/s2/2018-04-16/31/U/FU/2018/4/19/0/B04.jp2, /datastore/working_dirs/OVP_test_pynb36upd_20220717/s2/2018-04-16/31/U/FU/2018/4/19/0/angles/VAA_VZA_B04.tif, and /datastore/working_dirs/OVP_test_pynb36upd_20220717/s2/2018-04-16/31/U/FU/2018/4/19/0/qi/MSK_DETFOO_B04.gml\n",
      "2022-07-28 16:30:18,015 - SIAC-V2.2.0 - INFO - getting angle for /datastore/working_dirs/OVP_test_pynb36upd_20220717/s2/2018-04-16/31/U/FU/2018/4/19/0/B05.jp2, /datastore/working_dirs/OVP_test_pynb36upd_20220717/s2/2018-04-16/31/U/FU/2018/4/19/0/angles/VAA_VZA_B05.tif, and /datastore/working_dirs/OVP_test_pynb36upd_20220717/s2/2018-04-16/31/U/FU/2018/4/19/0/qi/MSK_DETFOO_B05.gml\n",
      "2022-07-28 16:30:19,711 - SIAC-V2.2.0 - INFO - getting angle for /datastore/working_dirs/OVP_test_pynb36upd_20220717/s2/2018-04-16/31/U/FU/2018/4/19/0/B06.jp2, /datastore/working_dirs/OVP_test_pynb36upd_20220717/s2/2018-04-16/31/U/FU/2018/4/19/0/angles/VAA_VZA_B06.tif, and /datastore/working_dirs/OVP_test_pynb36upd_20220717/s2/2018-04-16/31/U/FU/2018/4/19/0/qi/MSK_DETFOO_B06.gml\n",
      "2022-07-28 16:30:21,397 - SIAC-V2.2.0 - INFO - getting angle for /datastore/working_dirs/OVP_test_pynb36upd_20220717/s2/2018-04-16/31/U/FU/2018/4/19/0/B07.jp2, /datastore/working_dirs/OVP_test_pynb36upd_20220717/s2/2018-04-16/31/U/FU/2018/4/19/0/angles/VAA_VZA_B07.tif, and /datastore/working_dirs/OVP_test_pynb36upd_20220717/s2/2018-04-16/31/U/FU/2018/4/19/0/qi/MSK_DETFOO_B07.gml\n",
      "2022-07-28 16:30:23,085 - SIAC-V2.2.0 - INFO - getting angle for /datastore/working_dirs/OVP_test_pynb36upd_20220717/s2/2018-04-16/31/U/FU/2018/4/19/0/B08.jp2, /datastore/working_dirs/OVP_test_pynb36upd_20220717/s2/2018-04-16/31/U/FU/2018/4/19/0/angles/VAA_VZA_B08.tif, and /datastore/working_dirs/OVP_test_pynb36upd_20220717/s2/2018-04-16/31/U/FU/2018/4/19/0/qi/MSK_DETFOO_B08.gml\n",
      "2022-07-28 16:30:30,037 - SIAC-V2.2.0 - INFO - getting angle for /datastore/working_dirs/OVP_test_pynb36upd_20220717/s2/2018-04-16/31/U/FU/2018/4/19/0/B8A.jp2, /datastore/working_dirs/OVP_test_pynb36upd_20220717/s2/2018-04-16/31/U/FU/2018/4/19/0/angles/VAA_VZA_B8A.tif, and /datastore/working_dirs/OVP_test_pynb36upd_20220717/s2/2018-04-16/31/U/FU/2018/4/19/0/qi/MSK_DETFOO_B8A.gml\n",
      "2022-07-28 16:30:31,731 - SIAC-V2.2.0 - INFO - getting angle for /datastore/working_dirs/OVP_test_pynb36upd_20220717/s2/2018-04-16/31/U/FU/2018/4/19/0/B09.jp2, /datastore/working_dirs/OVP_test_pynb36upd_20220717/s2/2018-04-16/31/U/FU/2018/4/19/0/angles/VAA_VZA_B09.tif, and /datastore/working_dirs/OVP_test_pynb36upd_20220717/s2/2018-04-16/31/U/FU/2018/4/19/0/qi/MSK_DETFOO_B09.gml\n",
      "2022-07-28 16:30:31,898 - SIAC-V2.2.0 - INFO - getting angle for /datastore/working_dirs/OVP_test_pynb36upd_20220717/s2/2018-04-16/31/U/FU/2018/4/19/0/B10.jp2, /datastore/working_dirs/OVP_test_pynb36upd_20220717/s2/2018-04-16/31/U/FU/2018/4/19/0/angles/VAA_VZA_B10.tif, and /datastore/working_dirs/OVP_test_pynb36upd_20220717/s2/2018-04-16/31/U/FU/2018/4/19/0/qi/MSK_DETFOO_B10.gml\n",
      "2022-07-28 16:30:32,065 - SIAC-V2.2.0 - INFO - getting angle for /datastore/working_dirs/OVP_test_pynb36upd_20220717/s2/2018-04-16/31/U/FU/2018/4/19/0/B11.jp2, /datastore/working_dirs/OVP_test_pynb36upd_20220717/s2/2018-04-16/31/U/FU/2018/4/19/0/angles/VAA_VZA_B11.tif, and /datastore/working_dirs/OVP_test_pynb36upd_20220717/s2/2018-04-16/31/U/FU/2018/4/19/0/qi/MSK_DETFOO_B11.gml\n",
      "2022-07-28 16:30:33,745 - SIAC-V2.2.0 - INFO - getting angle for /datastore/working_dirs/OVP_test_pynb36upd_20220717/s2/2018-04-16/31/U/FU/2018/4/19/0/B12.jp2, /datastore/working_dirs/OVP_test_pynb36upd_20220717/s2/2018-04-16/31/U/FU/2018/4/19/0/angles/VAA_VZA_B12.tif, and /datastore/working_dirs/OVP_test_pynb36upd_20220717/s2/2018-04-16/31/U/FU/2018/4/19/0/qi/MSK_DETFOO_B12.gml\n",
      "2022-07-28 16:30:35,437 - SIAC-V2.2.0 - INFO - Getting cloud mask.\n",
      "2022-07-28 16:30:37,711 - SIAC-V2.2.0 - INFO - Valid pixel percentage: 6.60\n",
      "2022-07-28 16:30:37,712 - SIAC-V2.2.0 - INFO - Clean pixel percentage: 6.59\n",
      "INFO:ComponentProgress:20\n",
      "INFO:ComponentProgress:20\n",
      "2022-07-28 16:30:37,845 - SIAC-V2.2.0 - INFO - Starting atmospheric corretion for S2B_OPER_MSI_L1C_TL_MPS__20180416T111231_A005797_T31UFU_N02.06\n",
      "2022-07-28 16:30:37,877 - SIAC-V2.2.0 - INFO - Set AOI.\n",
      "2022-07-28 16:30:37,919 - SIAC-V2.2.0 - INFO - Get corresponding bands.\n",
      "2022-07-28 16:30:37,920 - SIAC-V2.2.0 - INFO - Slice TOA bands based on AOI.\n",
      "2022-07-28 16:30:39,060 - SIAC-V2.2.0 - INFO - Parsing angles.\n",
      "2022-07-28 16:30:39,063 - SIAC-V2.2.0 - INFO - Mask bad pixels.\n",
      "2022-07-28 16:30:39,640 - SIAC-V2.2.0 - INFO - No valid value is found for retrieval of atmospheric parameters and priors are stored.\n",
      "2022-07-28 16:30:42,855 - SIAC-V2.2.0 - INFO - Mean values for prior AOT: 0.15 and TCWV: 1.39\n",
      "INFO:ComponentProgress:38\n",
      "INFO:ComponentProgress:38\n",
      "INFO:ComponentProgress:38\n",
      "2022-07-28 16:30:42,861 - SIAC-V2.2.0 - INFO - Finished retrieval and saving them into local files.\n",
      "2022-07-28 16:30:43,800 - SIAC-V2.2.0 - INFO - Set AOI.\n",
      "2022-07-28 16:30:43,801 - SIAC-V2.2.0 - INFO - Slice TOA bands based on AOI.\n",
      "2022-07-28 16:30:45,399 - SIAC-V2.2.0 - INFO - Parsing angles.\n",
      "2022-07-28 16:30:46,014 - SIAC-V2.2.0 - INFO - Parsing auxs.\n",
      "2022-07-28 16:30:46,030 - SIAC-V2.2.0 - INFO - Parsing atmo parameters.\n",
      "2022-07-28 16:30:49,740 - SIAC-V2.2.0 - INFO - Loading emus.\n",
      "2022-07-28 16:30:54,984 - SIAC-V2.2.0 - INFO - Get correction coefficients.\n",
      "2022-07-28 16:30:57,247 - SIAC-V2.2.0 - INFO - Doing corrections.\n",
      "2022-07-28 16:31:06,317 - SIAC-V2.2.0 - INFO - Composing RGB.\n",
      "2022-07-28 16:31:07,266 - SIAC-V2.2.0 - INFO - Done.\n",
      "INFO:ComponentProgress:40\n",
      "INFO:ComponentProgress:40\n",
      "INFO:ComponentProgress:40\n",
      "2022-07-28 16:31:07,275 - SIAC-V2.2.0 - INFO - Starting atmospheric corretion for S2B_OPER_MSI_L1C_TL_EPAE_20180416T131748_A005797_T31UFU_N02.06\n",
      "2022-07-28 16:31:07,291 - SIAC-V2.2.0 - INFO - Set AOI.\n",
      "2022-07-28 16:31:07,317 - SIAC-V2.2.0 - INFO - Get corresponding bands.\n",
      "2022-07-28 16:31:07,318 - SIAC-V2.2.0 - INFO - Slice TOA bands based on AOI.\n",
      "2022-07-28 16:31:08,471 - SIAC-V2.2.0 - INFO - Parsing angles.\n",
      "2022-07-28 16:31:08,474 - SIAC-V2.2.0 - INFO - Mask bad pixels.\n",
      "2022-07-28 16:31:08,899 - SIAC-V2.2.0 - INFO - No valid value is found for retrieval of atmospheric parameters and priors are stored.\n",
      "2022-07-28 16:31:14,578 - SIAC-V2.2.0 - INFO - Mean values for prior AOT: 0.15 and TCWV: 1.39\n",
      "INFO:ComponentProgress:58\n",
      "INFO:ComponentProgress:58\n",
      "INFO:ComponentProgress:58\n",
      "INFO:ComponentProgress:58\n",
      "2022-07-28 16:31:14,585 - SIAC-V2.2.0 - INFO - Finished retrieval and saving them into local files.\n",
      "2022-07-28 16:31:16,299 - SIAC-V2.2.0 - INFO - Set AOI.\n",
      "2022-07-28 16:31:16,302 - SIAC-V2.2.0 - INFO - Slice TOA bands based on AOI.\n",
      "2022-07-28 16:31:18,191 - SIAC-V2.2.0 - INFO - Parsing angles.\n",
      "2022-07-28 16:31:18,682 - SIAC-V2.2.0 - INFO - Parsing auxs.\n",
      "2022-07-28 16:31:18,697 - SIAC-V2.2.0 - INFO - Parsing atmo parameters.\n",
      "2022-07-28 16:31:24,518 - SIAC-V2.2.0 - INFO - Loading emus.\n",
      "2022-07-28 16:31:30,045 - SIAC-V2.2.0 - INFO - Get correction coefficients.\n",
      "2022-07-28 16:31:33,763 - SIAC-V2.2.0 - INFO - Doing corrections.\n",
      "2022-07-28 16:31:43,469 - SIAC-V2.2.0 - INFO - Composing RGB.\n",
      "2022-07-28 16:31:44,518 - SIAC-V2.2.0 - INFO - Done.\n",
      "INFO:ComponentProgress:60\n",
      "INFO:ComponentProgress:60\n",
      "INFO:ComponentProgress:60\n",
      "INFO:ComponentProgress:60\n",
      "2022-07-28 16:31:44,531 - SIAC-V2.2.0 - INFO - Starting atmospheric corretion for S2A_OPER_MSI_L1C_TL_MPS__20180418T125356_A014734_T31UFU_N02.06\n",
      "2022-07-28 16:31:44,547 - SIAC-V2.2.0 - INFO - Set AOI.\n",
      "2022-07-28 16:31:44,577 - SIAC-V2.2.0 - INFO - Get corresponding bands.\n",
      "2022-07-28 16:31:44,578 - SIAC-V2.2.0 - INFO - Slice TOA bands based on AOI.\n",
      "2022-07-28 16:31:45,822 - SIAC-V2.2.0 - INFO - Parsing angles.\n",
      "2022-07-28 16:31:45,825 - SIAC-V2.2.0 - INFO - Mask bad pixels.\n",
      "2022-07-28 16:31:46,280 - SIAC-V2.2.0 - INFO - Get simulated BOA.\n",
      "2022-07-28 16:32:19,078 - SIAC-V2.2.0 - INFO - Get PSF.\n",
      "2022-07-28 16:32:22,454 - SIAC-V2.2.0 - INFO - Solved PSF: 26.00, 34.00, 0, 18, 21, and R value is: 0.948.\n",
      "2022-07-28 16:32:22,461 - SIAC-V2.2.0 - INFO - Get simulated TOA reflectance.\n",
      "2022-07-28 16:32:26,310 - SIAC-V2.2.0 - INFO - Filtering data.\n",
      "2022-07-28 16:32:26,364 - SIAC-V2.2.0 - INFO - Loading emulators.\n",
      "2022-07-28 16:32:33,256 - SIAC-V2.2.0 - INFO - Reading priors and elevation.\n",
      "2022-07-28 16:32:41,421 - SIAC-V2.2.0 - INFO - Mean values for prior AOT: 0.16 and TCWV: 1.59\n",
      "2022-07-28 16:32:41,428 - MultiGrid solver - INFO - MultiGrid solver in process...\n",
      "2022-07-28 16:32:41,429 - MultiGrid solver - INFO - Total 4 level of grids are going to be used.\n",
      "INFO:ComponentProgress:68\n",
      "INFO:ComponentProgress:68\n",
      "INFO:ComponentProgress:68\n",
      "INFO:ComponentProgress:68\n",
      "INFO:ComponentProgress:68\n",
      "INFO:ComponentProgress:68\n",
      "2022-07-28 16:32:41,434 - MultiGrid solver - INFO - \u001b[94mOptimizing at grid level 1\u001b[0m\n"
     ]
    },
    {
     "name": "stdout",
     "output_type": "stream",
     "text": [
      "+++++++++++++++++++++++++++++++++++++++++++++++++++++++++++++++++++++++++++++++++++++++++++++++++++++++++\n"
     ]
    },
    {
     "name": "stderr",
     "output_type": "stream",
     "text": [
      "2022-07-28 16:32:42,656 - MultiGrid solver - INFO - \u001b[92mCONVERGENCE: REL_REDUCTION_OF_F_<=_FACTR*EPSMCH\u001b[0m\n",
      "2022-07-28 16:32:42,658 - MultiGrid solver - INFO - \u001b[92mIterations: 3\u001b[0m\n",
      "2022-07-28 16:32:42,659 - MultiGrid solver - INFO - \u001b[92mFunction calls: 19\u001b[0m\n",
      "INFO:ComponentProgress:70\n",
      "INFO:ComponentProgress:70\n",
      "INFO:ComponentProgress:70\n",
      "INFO:ComponentProgress:70\n",
      "INFO:ComponentProgress:70\n",
      "INFO:ComponentProgress:70\n",
      "2022-07-28 16:32:42,664 - MultiGrid solver - INFO - \u001b[94mOptimizing at grid level 2\u001b[0m\n"
     ]
    },
    {
     "name": "stdout",
     "output_type": "stream",
     "text": [
      "+++++++++++++++++++++++++++++++++++++++++++++++++++++++++++++++++++++++++++++++++++++++++++++++++++++++++\n"
     ]
    },
    {
     "name": "stderr",
     "output_type": "stream",
     "text": [
      "2022-07-28 16:32:45,081 - MultiGrid solver - INFO - \u001b[92mCONVERGENCE: REL_REDUCTION_OF_F_<=_FACTR*EPSMCH\u001b[0m\n",
      "2022-07-28 16:32:45,084 - MultiGrid solver - INFO - \u001b[92mIterations: 4\u001b[0m\n",
      "2022-07-28 16:32:45,084 - MultiGrid solver - INFO - \u001b[92mFunction calls: 35\u001b[0m\n",
      "INFO:ComponentProgress:73\n",
      "INFO:ComponentProgress:73\n",
      "INFO:ComponentProgress:73\n",
      "INFO:ComponentProgress:73\n",
      "INFO:ComponentProgress:73\n",
      "INFO:ComponentProgress:73\n",
      "2022-07-28 16:32:45,088 - MultiGrid solver - INFO - \u001b[94mOptimizing at grid level 3\u001b[0m\n"
     ]
    },
    {
     "name": "stdout",
     "output_type": "stream",
     "text": [
      "+++++++++++++++++++++++++++++++++++++++++++++++++++++++++++++++++++++++++++++++++++++++++++++++++++++++++\n"
     ]
    },
    {
     "name": "stderr",
     "output_type": "stream",
     "text": [
      "2022-07-28 16:32:47,084 - MultiGrid solver - INFO - \u001b[92mCONVERGENCE: REL_REDUCTION_OF_F_<=_FACTR*EPSMCH\u001b[0m\n",
      "2022-07-28 16:32:47,087 - MultiGrid solver - INFO - \u001b[92mIterations: 4\u001b[0m\n",
      "2022-07-28 16:32:47,088 - MultiGrid solver - INFO - \u001b[92mFunction calls: 21\u001b[0m\n",
      "INFO:ComponentProgress:75\n",
      "INFO:ComponentProgress:75\n",
      "INFO:ComponentProgress:75\n",
      "INFO:ComponentProgress:75\n",
      "INFO:ComponentProgress:75\n",
      "INFO:ComponentProgress:75\n",
      "2022-07-28 16:32:47,092 - MultiGrid solver - INFO - \u001b[94mOptimizing at grid level 4\u001b[0m\n"
     ]
    },
    {
     "name": "stdout",
     "output_type": "stream",
     "text": [
      "+++++++++++++++++++++++++++++++++++++++++++++++++++++++++++++++++++++++++++++++++++++++++++++++++++++++++\n"
     ]
    },
    {
     "name": "stderr",
     "output_type": "stream",
     "text": [
      "2022-07-28 16:32:49,847 - MultiGrid solver - INFO - \u001b[92mCONVERGENCE: REL_REDUCTION_OF_F_<=_FACTR*EPSMCH\u001b[0m\n",
      "2022-07-28 16:32:49,849 - MultiGrid solver - INFO - \u001b[92mIterations: 7\u001b[0m\n",
      "2022-07-28 16:32:49,850 - MultiGrid solver - INFO - \u001b[92mFunction calls: 20\u001b[0m\n",
      "INFO:ComponentProgress:78\n",
      "INFO:ComponentProgress:78\n",
      "INFO:ComponentProgress:78\n",
      "INFO:ComponentProgress:78\n",
      "INFO:ComponentProgress:78\n",
      "INFO:ComponentProgress:78\n",
      "2022-07-28 16:32:50,334 - SIAC-V2.2.0 - INFO - Finished retrieval and saving them into local files.\n",
      "2022-07-28 16:32:52,917 - SIAC-V2.2.0 - INFO - Set AOI.\n",
      "2022-07-28 16:32:52,921 - SIAC-V2.2.0 - INFO - Slice TOA bands based on AOI.\n",
      "2022-07-28 16:32:54,811 - SIAC-V2.2.0 - INFO - Parsing angles.\n",
      "2022-07-28 16:32:55,179 - SIAC-V2.2.0 - INFO - Parsing auxs.\n",
      "2022-07-28 16:32:55,194 - SIAC-V2.2.0 - INFO - Parsing atmo parameters.\n",
      "2022-07-28 16:33:03,635 - SIAC-V2.2.0 - INFO - Loading emus.\n",
      "2022-07-28 16:33:10,499 - SIAC-V2.2.0 - INFO - Get correction coefficients.\n",
      "2022-07-28 16:33:14,127 - SIAC-V2.2.0 - INFO - Doing corrections.\n",
      "2022-07-28 16:33:23,093 - SIAC-V2.2.0 - INFO - Composing RGB.\n",
      "2022-07-28 16:33:24,345 - SIAC-V2.2.0 - INFO - Done.\n",
      "INFO:ComponentProgress:80\n",
      "INFO:ComponentProgress:80\n",
      "INFO:ComponentProgress:80\n",
      "INFO:ComponentProgress:80\n",
      "INFO:ComponentProgress:80\n",
      "INFO:ComponentProgress:80\n",
      "2022-07-28 16:33:24,361 - SIAC-V2.2.0 - INFO - Starting atmospheric corretion for S2B_OPER_MSI_L1C_TL_EPAE_20180419T121006_A005840_T31UFU_N02.06\n",
      "2022-07-28 16:33:24,379 - SIAC-V2.2.0 - INFO - Set AOI.\n",
      "2022-07-28 16:33:24,408 - SIAC-V2.2.0 - INFO - Get corresponding bands.\n",
      "2022-07-28 16:33:24,409 - SIAC-V2.2.0 - INFO - Slice TOA bands based on AOI.\n",
      "2022-07-28 16:33:25,333 - SIAC-V2.2.0 - INFO - Parsing angles.\n",
      "2022-07-28 16:33:25,336 - SIAC-V2.2.0 - INFO - Mask bad pixels.\n",
      "2022-07-28 16:33:25,693 - SIAC-V2.2.0 - INFO - No valid value is found for retrieval of atmospheric parameters and priors are stored.\n",
      "2022-07-28 16:33:35,123 - SIAC-V2.2.0 - INFO - Mean values for prior AOT: 0.11 and TCWV: 1.48\n",
      "INFO:ComponentProgress:98\n",
      "INFO:ComponentProgress:98\n",
      "INFO:ComponentProgress:98\n",
      "INFO:ComponentProgress:98\n",
      "INFO:ComponentProgress:98\n",
      "INFO:ComponentProgress:98\n",
      "INFO:ComponentProgress:98\n",
      "2022-07-28 16:33:35,137 - SIAC-V2.2.0 - INFO - Finished retrieval and saving them into local files.\n",
      "2022-07-28 16:33:38,203 - SIAC-V2.2.0 - INFO - Set AOI.\n",
      "2022-07-28 16:33:38,204 - SIAC-V2.2.0 - INFO - Slice TOA bands based on AOI.\n",
      "2022-07-28 16:33:39,449 - SIAC-V2.2.0 - INFO - Parsing angles.\n",
      "2022-07-28 16:33:39,867 - SIAC-V2.2.0 - INFO - Parsing auxs.\n",
      "2022-07-28 16:33:39,881 - SIAC-V2.2.0 - INFO - Parsing atmo parameters.\n",
      "2022-07-28 16:33:49,342 - SIAC-V2.2.0 - INFO - Loading emus.\n",
      "2022-07-28 16:33:56,594 - SIAC-V2.2.0 - INFO - Get correction coefficients.\n",
      "2022-07-28 16:33:56,619 - SIAC-V2.2.0 - INFO - Doing corrections.\n",
      "2022-07-28 16:34:04,216 - SIAC-V2.2.0 - INFO - Composing RGB.\n",
      "2022-07-28 16:34:04,983 - SIAC-V2.2.0 - INFO - Done.\n"
     ]
    },
    {
     "name": "stdout",
     "output_type": "stream",
     "text": [
      "Maintenance\n"
     ]
    },
    {
     "name": "stderr",
     "output_type": "stream",
     "text": [
      "mv: will not overwrite just-created ‘/datastore/working_dirs/OVP_test_pynb36upd_20220717/sdrs/2018-04-16/31-ac/MSK_DETFOO_B01.gfs’ with ‘/datastore/working_dirs/OVP_test_pynb36upd_20220717/s2/2018-04-16/31/U/FU/2018/4/16/1/qi/MSK_DETFOO_B01.gfs’\n",
      "mv: will not overwrite just-created ‘/datastore/working_dirs/OVP_test_pynb36upd_20220717/sdrs/2018-04-16/31-ac/MSK_DETFOO_B02.gfs’ with ‘/datastore/working_dirs/OVP_test_pynb36upd_20220717/s2/2018-04-16/31/U/FU/2018/4/16/1/qi/MSK_DETFOO_B02.gfs’\n",
      "mv: will not overwrite just-created ‘/datastore/working_dirs/OVP_test_pynb36upd_20220717/sdrs/2018-04-16/31-ac/MSK_DETFOO_B03.gfs’ with ‘/datastore/working_dirs/OVP_test_pynb36upd_20220717/s2/2018-04-16/31/U/FU/2018/4/16/1/qi/MSK_DETFOO_B03.gfs’\n",
      "mv: will not overwrite just-created ‘/datastore/working_dirs/OVP_test_pynb36upd_20220717/sdrs/2018-04-16/31-ac/MSK_DETFOO_B04.gfs’ with ‘/datastore/working_dirs/OVP_test_pynb36upd_20220717/s2/2018-04-16/31/U/FU/2018/4/16/1/qi/MSK_DETFOO_B04.gfs’\n",
      "mv: will not overwrite just-created ‘/datastore/working_dirs/OVP_test_pynb36upd_20220717/sdrs/2018-04-16/31-ac/MSK_DETFOO_B05.gfs’ with ‘/datastore/working_dirs/OVP_test_pynb36upd_20220717/s2/2018-04-16/31/U/FU/2018/4/16/1/qi/MSK_DETFOO_B05.gfs’\n",
      "mv: will not overwrite just-created ‘/datastore/working_dirs/OVP_test_pynb36upd_20220717/sdrs/2018-04-16/31-ac/MSK_DETFOO_B06.gfs’ with ‘/datastore/working_dirs/OVP_test_pynb36upd_20220717/s2/2018-04-16/31/U/FU/2018/4/16/1/qi/MSK_DETFOO_B06.gfs’\n",
      "mv: will not overwrite just-created ‘/datastore/working_dirs/OVP_test_pynb36upd_20220717/sdrs/2018-04-16/31-ac/MSK_DETFOO_B07.gfs’ with ‘/datastore/working_dirs/OVP_test_pynb36upd_20220717/s2/2018-04-16/31/U/FU/2018/4/16/1/qi/MSK_DETFOO_B07.gfs’\n",
      "mv: will not overwrite just-created ‘/datastore/working_dirs/OVP_test_pynb36upd_20220717/sdrs/2018-04-16/31-ac/MSK_DETFOO_B08.gfs’ with ‘/datastore/working_dirs/OVP_test_pynb36upd_20220717/s2/2018-04-16/31/U/FU/2018/4/16/1/qi/MSK_DETFOO_B08.gfs’\n",
      "mv: will not overwrite just-created ‘/datastore/working_dirs/OVP_test_pynb36upd_20220717/sdrs/2018-04-16/31-ac/MSK_DETFOO_B8A.gfs’ with ‘/datastore/working_dirs/OVP_test_pynb36upd_20220717/s2/2018-04-16/31/U/FU/2018/4/16/1/qi/MSK_DETFOO_B8A.gfs’\n",
      "mv: will not overwrite just-created ‘/datastore/working_dirs/OVP_test_pynb36upd_20220717/sdrs/2018-04-16/31-ac/MSK_DETFOO_B09.gfs’ with ‘/datastore/working_dirs/OVP_test_pynb36upd_20220717/s2/2018-04-16/31/U/FU/2018/4/16/1/qi/MSK_DETFOO_B09.gfs’\n",
      "mv: will not overwrite just-created ‘/datastore/working_dirs/OVP_test_pynb36upd_20220717/sdrs/2018-04-16/31-ac/MSK_DETFOO_B10.gfs’ with ‘/datastore/working_dirs/OVP_test_pynb36upd_20220717/s2/2018-04-16/31/U/FU/2018/4/16/1/qi/MSK_DETFOO_B10.gfs’\n",
      "mv: will not overwrite just-created ‘/datastore/working_dirs/OVP_test_pynb36upd_20220717/sdrs/2018-04-16/31-ac/MSK_DETFOO_B11.gfs’ with ‘/datastore/working_dirs/OVP_test_pynb36upd_20220717/s2/2018-04-16/31/U/FU/2018/4/16/1/qi/MSK_DETFOO_B11.gfs’\n",
      "mv: will not overwrite just-created ‘/datastore/working_dirs/OVP_test_pynb36upd_20220717/sdrs/2018-04-16/31-ac/MSK_DETFOO_B12.gfs’ with ‘/datastore/working_dirs/OVP_test_pynb36upd_20220717/s2/2018-04-16/31/U/FU/2018/4/16/1/qi/MSK_DETFOO_B12.gfs’\n",
      "mv: will not overwrite just-created ‘/datastore/working_dirs/OVP_test_pynb36upd_20220717/sdrs/2018-04-16/31-ac/VAA_VZA_B03.tif’ with ‘/datastore/working_dirs/OVP_test_pynb36upd_20220717/s2/2018-04-16/31/U/FU/2018/4/16/1/angles/VAA_VZA_B03.tif’\n",
      "mv: will not overwrite just-created ‘/datastore/working_dirs/OVP_test_pynb36upd_20220717/sdrs/2018-04-16/31-ac/VAA_VZA_B04.tif’ with ‘/datastore/working_dirs/OVP_test_pynb36upd_20220717/s2/2018-04-16/31/U/FU/2018/4/16/1/angles/VAA_VZA_B04.tif’\n",
      "mv: will not overwrite just-created ‘/datastore/working_dirs/OVP_test_pynb36upd_20220717/sdrs/2018-04-16/31-ac/VAA_VZA_B05.tif’ with ‘/datastore/working_dirs/OVP_test_pynb36upd_20220717/s2/2018-04-16/31/U/FU/2018/4/16/1/angles/VAA_VZA_B05.tif’\n",
      "mv: will not overwrite just-created ‘/datastore/working_dirs/OVP_test_pynb36upd_20220717/sdrs/2018-04-16/31-ac/VAA_VZA_B06.tif’ with ‘/datastore/working_dirs/OVP_test_pynb36upd_20220717/s2/2018-04-16/31/U/FU/2018/4/16/1/angles/VAA_VZA_B06.tif’\n",
      "mv: will not overwrite just-created ‘/datastore/working_dirs/OVP_test_pynb36upd_20220717/sdrs/2018-04-16/31-ac/VAA_VZA_B07.tif’ with ‘/datastore/working_dirs/OVP_test_pynb36upd_20220717/s2/2018-04-16/31/U/FU/2018/4/16/1/angles/VAA_VZA_B07.tif’\n",
      "mv: will not overwrite just-created ‘/datastore/working_dirs/OVP_test_pynb36upd_20220717/sdrs/2018-04-16/31-ac/VAA_VZA_B08.tif’ with ‘/datastore/working_dirs/OVP_test_pynb36upd_20220717/s2/2018-04-16/31/U/FU/2018/4/16/1/angles/VAA_VZA_B08.tif’\n",
      "mv: will not overwrite just-created ‘/datastore/working_dirs/OVP_test_pynb36upd_20220717/sdrs/2018-04-16/31-ac/VAA_VZA_B8A.tif’ with ‘/datastore/working_dirs/OVP_test_pynb36upd_20220717/s2/2018-04-16/31/U/FU/2018/4/16/1/angles/VAA_VZA_B8A.tif’\n",
      "mv: will not overwrite just-created ‘/datastore/working_dirs/OVP_test_pynb36upd_20220717/sdrs/2018-04-16/31-ac/VAA_VZA_B09.tif’ with ‘/datastore/working_dirs/OVP_test_pynb36upd_20220717/s2/2018-04-16/31/U/FU/2018/4/16/1/angles/VAA_VZA_B09.tif’\n",
      "mv: will not overwrite just-created ‘/datastore/working_dirs/OVP_test_pynb36upd_20220717/sdrs/2018-04-16/31-ac/VAA_VZA_B10.tif’ with ‘/datastore/working_dirs/OVP_test_pynb36upd_20220717/s2/2018-04-16/31/U/FU/2018/4/16/1/angles/VAA_VZA_B10.tif’\n",
      "mv: will not overwrite just-created ‘/datastore/working_dirs/OVP_test_pynb36upd_20220717/sdrs/2018-04-16/31-ac/VAA_VZA_B11.tif’ with ‘/datastore/working_dirs/OVP_test_pynb36upd_20220717/s2/2018-04-16/31/U/FU/2018/4/16/1/angles/VAA_VZA_B11.tif’\n",
      "mv: will not overwrite just-created ‘/datastore/working_dirs/OVP_test_pynb36upd_20220717/sdrs/2018-04-16/31-ac/VAA_VZA_B12.tif’ with ‘/datastore/working_dirs/OVP_test_pynb36upd_20220717/s2/2018-04-16/31/U/FU/2018/4/16/1/angles/VAA_VZA_B12.tif’\n",
      "mv: will not overwrite just-created ‘/datastore/working_dirs/OVP_test_pynb36upd_20220717/sdrs/2018-04-16/31-ac/SAA_SZA.tif’ with ‘/datastore/working_dirs/OVP_test_pynb36upd_20220717/s2/2018-04-16/31/U/FU/2018/4/16/1/angles/SAA_SZA.tif’\n",
      "mv: will not overwrite just-created ‘/datastore/working_dirs/OVP_test_pynb36upd_20220717/sdrs/2018-04-16/31-ac/VAA_VZA_B01.tif’ with ‘/datastore/working_dirs/OVP_test_pynb36upd_20220717/s2/2018-04-16/31/U/FU/2018/4/16/1/angles/VAA_VZA_B01.tif’\n",
      "mv: will not overwrite just-created ‘/datastore/working_dirs/OVP_test_pynb36upd_20220717/sdrs/2018-04-16/31-ac/VAA_VZA_B02.tif’ with ‘/datastore/working_dirs/OVP_test_pynb36upd_20220717/s2/2018-04-16/31/U/FU/2018/4/16/1/angles/VAA_VZA_B02.tif’\n",
      "mv: will not overwrite just-created ‘/datastore/working_dirs/OVP_test_pynb36upd_20220717/sdrs/2018-04-16/31-ac/AOI.json’ with ‘/datastore/working_dirs/OVP_test_pynb36upd_20220717/s2/2018-04-16/31/U/FU/2018/4/16/1/AOI.json’\n",
      "mv: will not overwrite just-created ‘/datastore/working_dirs/OVP_test_pynb36upd_20220717/sdrs/2018-04-16/31-ac/B09_sur.tif’ with ‘/datastore/working_dirs/OVP_test_pynb36upd_20220717/s2/2018-04-16/31/U/FU/2018/4/16/1/B09_sur.tif’\n",
      "mv: will not overwrite just-created ‘/datastore/working_dirs/OVP_test_pynb36upd_20220717/sdrs/2018-04-16/31-ac/B09_sur_unc.tif’ with ‘/datastore/working_dirs/OVP_test_pynb36upd_20220717/s2/2018-04-16/31/U/FU/2018/4/16/1/B09_sur_unc.tif’\n",
      "mv: will not overwrite just-created ‘/datastore/working_dirs/OVP_test_pynb36upd_20220717/sdrs/2018-04-16/31-ac/B10_sur.tif’ with ‘/datastore/working_dirs/OVP_test_pynb36upd_20220717/s2/2018-04-16/31/U/FU/2018/4/16/1/B10_sur.tif’\n",
      "mv: will not overwrite just-created ‘/datastore/working_dirs/OVP_test_pynb36upd_20220717/sdrs/2018-04-16/31-ac/B10_sur_unc.tif’ with ‘/datastore/working_dirs/OVP_test_pynb36upd_20220717/s2/2018-04-16/31/U/FU/2018/4/16/1/B10_sur_unc.tif’\n",
      "mv: will not overwrite just-created ‘/datastore/working_dirs/OVP_test_pynb36upd_20220717/sdrs/2018-04-16/31-ac/B05_sur.tif’ with ‘/datastore/working_dirs/OVP_test_pynb36upd_20220717/s2/2018-04-16/31/U/FU/2018/4/16/1/B05_sur.tif’\n",
      "mv: will not overwrite just-created ‘/datastore/working_dirs/OVP_test_pynb36upd_20220717/sdrs/2018-04-16/31-ac/B05_sur_unc.tif’ with ‘/datastore/working_dirs/OVP_test_pynb36upd_20220717/s2/2018-04-16/31/U/FU/2018/4/16/1/B05_sur_unc.tif’\n",
      "mv: will not overwrite just-created ‘/datastore/working_dirs/OVP_test_pynb36upd_20220717/sdrs/2018-04-16/31-ac/B06_sur.tif’ with ‘/datastore/working_dirs/OVP_test_pynb36upd_20220717/s2/2018-04-16/31/U/FU/2018/4/16/1/B06_sur.tif’\n",
      "mv: will not overwrite just-created ‘/datastore/working_dirs/OVP_test_pynb36upd_20220717/sdrs/2018-04-16/31-ac/B06_sur_unc.tif’ with ‘/datastore/working_dirs/OVP_test_pynb36upd_20220717/s2/2018-04-16/31/U/FU/2018/4/16/1/B06_sur_unc.tif’\n",
      "mv: will not overwrite just-created ‘/datastore/working_dirs/OVP_test_pynb36upd_20220717/sdrs/2018-04-16/31-ac/B07_sur.tif’ with ‘/datastore/working_dirs/OVP_test_pynb36upd_20220717/s2/2018-04-16/31/U/FU/2018/4/16/1/B07_sur.tif’\n",
      "mv: will not overwrite just-created ‘/datastore/working_dirs/OVP_test_pynb36upd_20220717/sdrs/2018-04-16/31-ac/B07_sur_unc.tif’ with ‘/datastore/working_dirs/OVP_test_pynb36upd_20220717/s2/2018-04-16/31/U/FU/2018/4/16/1/B07_sur_unc.tif’\n",
      "mv: will not overwrite just-created ‘/datastore/working_dirs/OVP_test_pynb36upd_20220717/sdrs/2018-04-16/31-ac/B8A_sur.tif’ with ‘/datastore/working_dirs/OVP_test_pynb36upd_20220717/s2/2018-04-16/31/U/FU/2018/4/16/1/B8A_sur.tif’\n",
      "mv: will not overwrite just-created ‘/datastore/working_dirs/OVP_test_pynb36upd_20220717/sdrs/2018-04-16/31-ac/B8A_sur_unc.tif’ with ‘/datastore/working_dirs/OVP_test_pynb36upd_20220717/s2/2018-04-16/31/U/FU/2018/4/16/1/B8A_sur_unc.tif’\n",
      "mv: will not overwrite just-created ‘/datastore/working_dirs/OVP_test_pynb36upd_20220717/sdrs/2018-04-16/31-ac/B11_sur.tif’ with ‘/datastore/working_dirs/OVP_test_pynb36upd_20220717/s2/2018-04-16/31/U/FU/2018/4/16/1/B11_sur.tif’\n",
      "mv: will not overwrite just-created ‘/datastore/working_dirs/OVP_test_pynb36upd_20220717/sdrs/2018-04-16/31-ac/B11_sur_unc.tif’ with ‘/datastore/working_dirs/OVP_test_pynb36upd_20220717/s2/2018-04-16/31/U/FU/2018/4/16/1/B11_sur_unc.tif’\n",
      "mv: will not overwrite just-created ‘/datastore/working_dirs/OVP_test_pynb36upd_20220717/sdrs/2018-04-16/31-ac/B12_sur.tif’ with ‘/datastore/working_dirs/OVP_test_pynb36upd_20220717/s2/2018-04-16/31/U/FU/2018/4/16/1/B12_sur.tif’\n",
      "mv: will not overwrite just-created ‘/datastore/working_dirs/OVP_test_pynb36upd_20220717/sdrs/2018-04-16/31-ac/B12_sur_unc.tif’ with ‘/datastore/working_dirs/OVP_test_pynb36upd_20220717/s2/2018-04-16/31/U/FU/2018/4/16/1/B12_sur_unc.tif’\n",
      "mv: will not overwrite just-created ‘/datastore/working_dirs/OVP_test_pynb36upd_20220717/sdrs/2018-04-16/31-ac/B02_sur.tif’ with ‘/datastore/working_dirs/OVP_test_pynb36upd_20220717/s2/2018-04-16/31/U/FU/2018/4/16/1/B02_sur.tif’\n",
      "mv: will not overwrite just-created ‘/datastore/working_dirs/OVP_test_pynb36upd_20220717/sdrs/2018-04-16/31-ac/B02_sur_unc.tif’ with ‘/datastore/working_dirs/OVP_test_pynb36upd_20220717/s2/2018-04-16/31/U/FU/2018/4/16/1/B02_sur_unc.tif’\n",
      "mv: will not overwrite just-created ‘/datastore/working_dirs/OVP_test_pynb36upd_20220717/sdrs/2018-04-16/31-ac/B03_sur_unc.tif’ with ‘/datastore/working_dirs/OVP_test_pynb36upd_20220717/s2/2018-04-16/31/U/FU/2018/4/16/1/B03_sur_unc.tif’\n",
      "mv: will not overwrite just-created ‘/datastore/working_dirs/OVP_test_pynb36upd_20220717/sdrs/2018-04-16/31-ac/B04_sur_unc.tif’ with ‘/datastore/working_dirs/OVP_test_pynb36upd_20220717/s2/2018-04-16/31/U/FU/2018/4/16/1/B04_sur_unc.tif’\n",
      "mv: will not overwrite just-created ‘/datastore/working_dirs/OVP_test_pynb36upd_20220717/sdrs/2018-04-16/31-ac/BOA_RGB.tif’ with ‘/datastore/working_dirs/OVP_test_pynb36upd_20220717/s2/2018-04-16/31/U/FU/2018/4/16/1/BOA_RGB.tif’\n",
      "mv: will not overwrite just-created ‘/datastore/working_dirs/OVP_test_pynb36upd_20220717/sdrs/2018-04-16/31-ac/cloud.tif’ with ‘/datastore/working_dirs/OVP_test_pynb36upd_20220717/s2/2018-04-16/31/U/FU/2018/4/16/1/cloud.tif’\n",
      "mv: will not overwrite just-created ‘/datastore/working_dirs/OVP_test_pynb36upd_20220717/sdrs/2018-04-16/31-ac/aot.tif’ with ‘/datastore/working_dirs/OVP_test_pynb36upd_20220717/s2/2018-04-16/31/U/FU/2018/4/16/1/aot.tif’\n",
      "mv: will not overwrite just-created ‘/datastore/working_dirs/OVP_test_pynb36upd_20220717/sdrs/2018-04-16/31-ac/tco3_unc.tif’ with ‘/datastore/working_dirs/OVP_test_pynb36upd_20220717/s2/2018-04-16/31/U/FU/2018/4/16/1/tco3_unc.tif’\n",
      "mv: will not overwrite just-created ‘/datastore/working_dirs/OVP_test_pynb36upd_20220717/sdrs/2018-04-16/31-ac/tcwv_unc.tif’ with ‘/datastore/working_dirs/OVP_test_pynb36upd_20220717/s2/2018-04-16/31/U/FU/2018/4/16/1/tcwv_unc.tif’\n",
      "mv: will not overwrite just-created ‘/datastore/working_dirs/OVP_test_pynb36upd_20220717/sdrs/2018-04-16/31-ac/aot_unc.tif’ with ‘/datastore/working_dirs/OVP_test_pynb36upd_20220717/s2/2018-04-16/31/U/FU/2018/4/16/1/aot_unc.tif’\n",
      "mv: will not overwrite just-created ‘/datastore/working_dirs/OVP_test_pynb36upd_20220717/sdrs/2018-04-16/31-ac/B01_sur_unc.tif’ with ‘/datastore/working_dirs/OVP_test_pynb36upd_20220717/s2/2018-04-16/31/U/FU/2018/4/16/1/B01_sur_unc.tif’\n",
      "mv: will not overwrite just-created ‘/datastore/working_dirs/OVP_test_pynb36upd_20220717/sdrs/2018-04-16/31-ac/B03_sur.tif’ with ‘/datastore/working_dirs/OVP_test_pynb36upd_20220717/s2/2018-04-16/31/U/FU/2018/4/16/1/B03_sur.tif’\n",
      "mv: will not overwrite just-created ‘/datastore/working_dirs/OVP_test_pynb36upd_20220717/sdrs/2018-04-16/31-ac/B04_sur.tif’ with ‘/datastore/working_dirs/OVP_test_pynb36upd_20220717/s2/2018-04-16/31/U/FU/2018/4/16/1/B04_sur.tif’\n",
      "mv: will not overwrite just-created ‘/datastore/working_dirs/OVP_test_pynb36upd_20220717/sdrs/2018-04-16/31-ac/B08_sur.tif’ with ‘/datastore/working_dirs/OVP_test_pynb36upd_20220717/s2/2018-04-16/31/U/FU/2018/4/16/1/B08_sur.tif’\n",
      "mv: will not overwrite just-created ‘/datastore/working_dirs/OVP_test_pynb36upd_20220717/sdrs/2018-04-16/31-ac/B08_sur_unc.tif’ with ‘/datastore/working_dirs/OVP_test_pynb36upd_20220717/s2/2018-04-16/31/U/FU/2018/4/16/1/B08_sur_unc.tif’\n",
      "mv: will not overwrite just-created ‘/datastore/working_dirs/OVP_test_pynb36upd_20220717/sdrs/2018-04-16/31-ac/TOA_RGB.tif’ with ‘/datastore/working_dirs/OVP_test_pynb36upd_20220717/s2/2018-04-16/31/U/FU/2018/4/16/1/TOA_RGB.tif’\n",
      "mv: will not overwrite just-created ‘/datastore/working_dirs/OVP_test_pynb36upd_20220717/sdrs/2018-04-16/31-ac/SIAC_S2.log’ with ‘/datastore/working_dirs/OVP_test_pynb36upd_20220717/s2/2018-04-16/31/U/FU/2018/4/16/1/SIAC_S2.log’\n",
      "mv: will not overwrite just-created ‘/datastore/working_dirs/OVP_test_pynb36upd_20220717/sdrs/2018-04-16/31-ac/tcwv.tif’ with ‘/datastore/working_dirs/OVP_test_pynb36upd_20220717/s2/2018-04-16/31/U/FU/2018/4/16/1/tcwv.tif’\n",
      "mv: will not overwrite just-created ‘/datastore/working_dirs/OVP_test_pynb36upd_20220717/sdrs/2018-04-16/31-ac/tco3.tif’ with ‘/datastore/working_dirs/OVP_test_pynb36upd_20220717/s2/2018-04-16/31/U/FU/2018/4/16/1/tco3.tif’\n",
      "mv: will not overwrite just-created ‘/datastore/working_dirs/OVP_test_pynb36upd_20220717/sdrs/2018-04-16/31-ac/B01_sur.tif’ with ‘/datastore/working_dirs/OVP_test_pynb36upd_20220717/s2/2018-04-16/31/U/FU/2018/4/16/1/B01_sur.tif’\n",
      "mv: will not overwrite just-created ‘/datastore/working_dirs/OVP_test_pynb36upd_20220717/sdrs/2018-04-16/31-ac/MSK_DETFOO_B01.gfs’ with ‘/datastore/working_dirs/OVP_test_pynb36upd_20220717/s2/2018-04-16/31/U/FU/2018/4/18/0/qi/MSK_DETFOO_B01.gfs’\n",
      "mv: will not overwrite just-created ‘/datastore/working_dirs/OVP_test_pynb36upd_20220717/sdrs/2018-04-16/31-ac/MSK_DETFOO_B02.gfs’ with ‘/datastore/working_dirs/OVP_test_pynb36upd_20220717/s2/2018-04-16/31/U/FU/2018/4/18/0/qi/MSK_DETFOO_B02.gfs’\n",
      "mv: will not overwrite just-created ‘/datastore/working_dirs/OVP_test_pynb36upd_20220717/sdrs/2018-04-16/31-ac/MSK_DETFOO_B03.gfs’ with ‘/datastore/working_dirs/OVP_test_pynb36upd_20220717/s2/2018-04-16/31/U/FU/2018/4/18/0/qi/MSK_DETFOO_B03.gfs’\n",
      "mv: will not overwrite just-created ‘/datastore/working_dirs/OVP_test_pynb36upd_20220717/sdrs/2018-04-16/31-ac/MSK_DETFOO_B04.gfs’ with ‘/datastore/working_dirs/OVP_test_pynb36upd_20220717/s2/2018-04-16/31/U/FU/2018/4/18/0/qi/MSK_DETFOO_B04.gfs’\n",
      "mv: will not overwrite just-created ‘/datastore/working_dirs/OVP_test_pynb36upd_20220717/sdrs/2018-04-16/31-ac/MSK_DETFOO_B05.gfs’ with ‘/datastore/working_dirs/OVP_test_pynb36upd_20220717/s2/2018-04-16/31/U/FU/2018/4/18/0/qi/MSK_DETFOO_B05.gfs’\n",
      "mv: will not overwrite just-created ‘/datastore/working_dirs/OVP_test_pynb36upd_20220717/sdrs/2018-04-16/31-ac/MSK_DETFOO_B06.gfs’ with ‘/datastore/working_dirs/OVP_test_pynb36upd_20220717/s2/2018-04-16/31/U/FU/2018/4/18/0/qi/MSK_DETFOO_B06.gfs’\n",
      "mv: will not overwrite just-created ‘/datastore/working_dirs/OVP_test_pynb36upd_20220717/sdrs/2018-04-16/31-ac/MSK_DETFOO_B07.gfs’ with ‘/datastore/working_dirs/OVP_test_pynb36upd_20220717/s2/2018-04-16/31/U/FU/2018/4/18/0/qi/MSK_DETFOO_B07.gfs’\n",
      "mv: will not overwrite just-created ‘/datastore/working_dirs/OVP_test_pynb36upd_20220717/sdrs/2018-04-16/31-ac/MSK_DETFOO_B08.gfs’ with ‘/datastore/working_dirs/OVP_test_pynb36upd_20220717/s2/2018-04-16/31/U/FU/2018/4/18/0/qi/MSK_DETFOO_B08.gfs’\n",
      "mv: will not overwrite just-created ‘/datastore/working_dirs/OVP_test_pynb36upd_20220717/sdrs/2018-04-16/31-ac/MSK_DETFOO_B8A.gfs’ with ‘/datastore/working_dirs/OVP_test_pynb36upd_20220717/s2/2018-04-16/31/U/FU/2018/4/18/0/qi/MSK_DETFOO_B8A.gfs’\n",
      "mv: will not overwrite just-created ‘/datastore/working_dirs/OVP_test_pynb36upd_20220717/sdrs/2018-04-16/31-ac/MSK_DETFOO_B09.gfs’ with ‘/datastore/working_dirs/OVP_test_pynb36upd_20220717/s2/2018-04-16/31/U/FU/2018/4/18/0/qi/MSK_DETFOO_B09.gfs’\n",
      "mv: will not overwrite just-created ‘/datastore/working_dirs/OVP_test_pynb36upd_20220717/sdrs/2018-04-16/31-ac/MSK_DETFOO_B10.gfs’ with ‘/datastore/working_dirs/OVP_test_pynb36upd_20220717/s2/2018-04-16/31/U/FU/2018/4/18/0/qi/MSK_DETFOO_B10.gfs’\n",
      "mv: will not overwrite just-created ‘/datastore/working_dirs/OVP_test_pynb36upd_20220717/sdrs/2018-04-16/31-ac/MSK_DETFOO_B11.gfs’ with ‘/datastore/working_dirs/OVP_test_pynb36upd_20220717/s2/2018-04-16/31/U/FU/2018/4/18/0/qi/MSK_DETFOO_B11.gfs’\n",
      "mv: will not overwrite just-created ‘/datastore/working_dirs/OVP_test_pynb36upd_20220717/sdrs/2018-04-16/31-ac/MSK_DETFOO_B12.gfs’ with ‘/datastore/working_dirs/OVP_test_pynb36upd_20220717/s2/2018-04-16/31/U/FU/2018/4/18/0/qi/MSK_DETFOO_B12.gfs’\n",
      "mv: will not overwrite just-created ‘/datastore/working_dirs/OVP_test_pynb36upd_20220717/sdrs/2018-04-16/31-ac/VAA_VZA_B03.tif’ with ‘/datastore/working_dirs/OVP_test_pynb36upd_20220717/s2/2018-04-16/31/U/FU/2018/4/18/0/angles/VAA_VZA_B03.tif’\n",
      "mv: will not overwrite just-created ‘/datastore/working_dirs/OVP_test_pynb36upd_20220717/sdrs/2018-04-16/31-ac/VAA_VZA_B04.tif’ with ‘/datastore/working_dirs/OVP_test_pynb36upd_20220717/s2/2018-04-16/31/U/FU/2018/4/18/0/angles/VAA_VZA_B04.tif’\n",
      "mv: will not overwrite just-created ‘/datastore/working_dirs/OVP_test_pynb36upd_20220717/sdrs/2018-04-16/31-ac/VAA_VZA_B05.tif’ with ‘/datastore/working_dirs/OVP_test_pynb36upd_20220717/s2/2018-04-16/31/U/FU/2018/4/18/0/angles/VAA_VZA_B05.tif’\n",
      "mv: will not overwrite just-created ‘/datastore/working_dirs/OVP_test_pynb36upd_20220717/sdrs/2018-04-16/31-ac/VAA_VZA_B06.tif’ with ‘/datastore/working_dirs/OVP_test_pynb36upd_20220717/s2/2018-04-16/31/U/FU/2018/4/18/0/angles/VAA_VZA_B06.tif’\n",
      "mv: will not overwrite just-created ‘/datastore/working_dirs/OVP_test_pynb36upd_20220717/sdrs/2018-04-16/31-ac/VAA_VZA_B07.tif’ with ‘/datastore/working_dirs/OVP_test_pynb36upd_20220717/s2/2018-04-16/31/U/FU/2018/4/18/0/angles/VAA_VZA_B07.tif’\n",
      "mv: will not overwrite just-created ‘/datastore/working_dirs/OVP_test_pynb36upd_20220717/sdrs/2018-04-16/31-ac/VAA_VZA_B08.tif’ with ‘/datastore/working_dirs/OVP_test_pynb36upd_20220717/s2/2018-04-16/31/U/FU/2018/4/18/0/angles/VAA_VZA_B08.tif’\n",
      "mv: will not overwrite just-created ‘/datastore/working_dirs/OVP_test_pynb36upd_20220717/sdrs/2018-04-16/31-ac/VAA_VZA_B8A.tif’ with ‘/datastore/working_dirs/OVP_test_pynb36upd_20220717/s2/2018-04-16/31/U/FU/2018/4/18/0/angles/VAA_VZA_B8A.tif’\n",
      "mv: will not overwrite just-created ‘/datastore/working_dirs/OVP_test_pynb36upd_20220717/sdrs/2018-04-16/31-ac/VAA_VZA_B09.tif’ with ‘/datastore/working_dirs/OVP_test_pynb36upd_20220717/s2/2018-04-16/31/U/FU/2018/4/18/0/angles/VAA_VZA_B09.tif’\n",
      "mv: will not overwrite just-created ‘/datastore/working_dirs/OVP_test_pynb36upd_20220717/sdrs/2018-04-16/31-ac/VAA_VZA_B10.tif’ with ‘/datastore/working_dirs/OVP_test_pynb36upd_20220717/s2/2018-04-16/31/U/FU/2018/4/18/0/angles/VAA_VZA_B10.tif’\n",
      "mv: will not overwrite just-created ‘/datastore/working_dirs/OVP_test_pynb36upd_20220717/sdrs/2018-04-16/31-ac/VAA_VZA_B11.tif’ with ‘/datastore/working_dirs/OVP_test_pynb36upd_20220717/s2/2018-04-16/31/U/FU/2018/4/18/0/angles/VAA_VZA_B11.tif’\n",
      "mv: will not overwrite just-created ‘/datastore/working_dirs/OVP_test_pynb36upd_20220717/sdrs/2018-04-16/31-ac/VAA_VZA_B12.tif’ with ‘/datastore/working_dirs/OVP_test_pynb36upd_20220717/s2/2018-04-16/31/U/FU/2018/4/18/0/angles/VAA_VZA_B12.tif’\n",
      "mv: will not overwrite just-created ‘/datastore/working_dirs/OVP_test_pynb36upd_20220717/sdrs/2018-04-16/31-ac/SAA_SZA.tif’ with ‘/datastore/working_dirs/OVP_test_pynb36upd_20220717/s2/2018-04-16/31/U/FU/2018/4/18/0/angles/SAA_SZA.tif’\n",
      "mv: will not overwrite just-created ‘/datastore/working_dirs/OVP_test_pynb36upd_20220717/sdrs/2018-04-16/31-ac/VAA_VZA_B01.tif’ with ‘/datastore/working_dirs/OVP_test_pynb36upd_20220717/s2/2018-04-16/31/U/FU/2018/4/18/0/angles/VAA_VZA_B01.tif’\n",
      "mv: will not overwrite just-created ‘/datastore/working_dirs/OVP_test_pynb36upd_20220717/sdrs/2018-04-16/31-ac/VAA_VZA_B02.tif’ with ‘/datastore/working_dirs/OVP_test_pynb36upd_20220717/s2/2018-04-16/31/U/FU/2018/4/18/0/angles/VAA_VZA_B02.tif’\n",
      "mv: will not overwrite just-created ‘/datastore/working_dirs/OVP_test_pynb36upd_20220717/sdrs/2018-04-16/31-ac/AOI.json’ with ‘/datastore/working_dirs/OVP_test_pynb36upd_20220717/s2/2018-04-16/31/U/FU/2018/4/18/0/AOI.json’\n",
      "mv: will not overwrite just-created ‘/datastore/working_dirs/OVP_test_pynb36upd_20220717/sdrs/2018-04-16/31-ac/B06_sur_unc.tif’ with ‘/datastore/working_dirs/OVP_test_pynb36upd_20220717/s2/2018-04-16/31/U/FU/2018/4/18/0/B06_sur_unc.tif’\n",
      "mv: will not overwrite just-created ‘/datastore/working_dirs/OVP_test_pynb36upd_20220717/sdrs/2018-04-16/31-ac/B04_sur.tif’ with ‘/datastore/working_dirs/OVP_test_pynb36upd_20220717/s2/2018-04-16/31/U/FU/2018/4/18/0/B04_sur.tif’\n",
      "mv: will not overwrite just-created ‘/datastore/working_dirs/OVP_test_pynb36upd_20220717/sdrs/2018-04-16/31-ac/B04_sur_unc.tif’ with ‘/datastore/working_dirs/OVP_test_pynb36upd_20220717/s2/2018-04-16/31/U/FU/2018/4/18/0/B04_sur_unc.tif’\n",
      "mv: will not overwrite just-created ‘/datastore/working_dirs/OVP_test_pynb36upd_20220717/sdrs/2018-04-16/31-ac/B08_sur.tif’ with ‘/datastore/working_dirs/OVP_test_pynb36upd_20220717/s2/2018-04-16/31/U/FU/2018/4/18/0/B08_sur.tif’\n",
      "mv: will not overwrite just-created ‘/datastore/working_dirs/OVP_test_pynb36upd_20220717/sdrs/2018-04-16/31-ac/B08_sur_unc.tif’ with ‘/datastore/working_dirs/OVP_test_pynb36upd_20220717/s2/2018-04-16/31/U/FU/2018/4/18/0/B08_sur_unc.tif’\n",
      "mv: will not overwrite just-created ‘/datastore/working_dirs/OVP_test_pynb36upd_20220717/sdrs/2018-04-16/31-ac/TOA_RGB.tif’ with ‘/datastore/working_dirs/OVP_test_pynb36upd_20220717/s2/2018-04-16/31/U/FU/2018/4/18/0/TOA_RGB.tif’\n",
      "mv: will not overwrite just-created ‘/datastore/working_dirs/OVP_test_pynb36upd_20220717/sdrs/2018-04-16/31-ac/BOA_RGB.tif’ with ‘/datastore/working_dirs/OVP_test_pynb36upd_20220717/s2/2018-04-16/31/U/FU/2018/4/18/0/BOA_RGB.tif’\n",
      "mv: will not overwrite just-created ‘/datastore/working_dirs/OVP_test_pynb36upd_20220717/sdrs/2018-04-16/31-ac/SIAC_S2.log’ with ‘/datastore/working_dirs/OVP_test_pynb36upd_20220717/s2/2018-04-16/31/U/FU/2018/4/18/0/SIAC_S2.log’\n",
      "mv: will not overwrite just-created ‘/datastore/working_dirs/OVP_test_pynb36upd_20220717/sdrs/2018-04-16/31-ac/cloud.tif’ with ‘/datastore/working_dirs/OVP_test_pynb36upd_20220717/s2/2018-04-16/31/U/FU/2018/4/18/0/cloud.tif’\n",
      "mv: will not overwrite just-created ‘/datastore/working_dirs/OVP_test_pynb36upd_20220717/sdrs/2018-04-16/31-ac/aot_unc.tif’ with ‘/datastore/working_dirs/OVP_test_pynb36upd_20220717/s2/2018-04-16/31/U/FU/2018/4/18/0/aot_unc.tif’\n",
      "mv: will not overwrite just-created ‘/datastore/working_dirs/OVP_test_pynb36upd_20220717/sdrs/2018-04-16/31-ac/aot.tif’ with ‘/datastore/working_dirs/OVP_test_pynb36upd_20220717/s2/2018-04-16/31/U/FU/2018/4/18/0/aot.tif’\n",
      "mv: will not overwrite just-created ‘/datastore/working_dirs/OVP_test_pynb36upd_20220717/sdrs/2018-04-16/31-ac/tcwv_unc.tif’ with ‘/datastore/working_dirs/OVP_test_pynb36upd_20220717/s2/2018-04-16/31/U/FU/2018/4/18/0/tcwv_unc.tif’\n",
      "mv: will not overwrite just-created ‘/datastore/working_dirs/OVP_test_pynb36upd_20220717/sdrs/2018-04-16/31-ac/tcwv.tif’ with ‘/datastore/working_dirs/OVP_test_pynb36upd_20220717/s2/2018-04-16/31/U/FU/2018/4/18/0/tcwv.tif’\n",
      "mv: will not overwrite just-created ‘/datastore/working_dirs/OVP_test_pynb36upd_20220717/sdrs/2018-04-16/31-ac/tco3_unc.tif’ with ‘/datastore/working_dirs/OVP_test_pynb36upd_20220717/s2/2018-04-16/31/U/FU/2018/4/18/0/tco3_unc.tif’\n",
      "mv: will not overwrite just-created ‘/datastore/working_dirs/OVP_test_pynb36upd_20220717/sdrs/2018-04-16/31-ac/tco3.tif’ with ‘/datastore/working_dirs/OVP_test_pynb36upd_20220717/s2/2018-04-16/31/U/FU/2018/4/18/0/tco3.tif’\n",
      "mv: will not overwrite just-created ‘/datastore/working_dirs/OVP_test_pynb36upd_20220717/sdrs/2018-04-16/31-ac/B01_sur.tif’ with ‘/datastore/working_dirs/OVP_test_pynb36upd_20220717/s2/2018-04-16/31/U/FU/2018/4/18/0/B01_sur.tif’\n",
      "mv: will not overwrite just-created ‘/datastore/working_dirs/OVP_test_pynb36upd_20220717/sdrs/2018-04-16/31-ac/B01_sur_unc.tif’ with ‘/datastore/working_dirs/OVP_test_pynb36upd_20220717/s2/2018-04-16/31/U/FU/2018/4/18/0/B01_sur_unc.tif’\n",
      "mv: will not overwrite just-created ‘/datastore/working_dirs/OVP_test_pynb36upd_20220717/sdrs/2018-04-16/31-ac/B09_sur.tif’ with ‘/datastore/working_dirs/OVP_test_pynb36upd_20220717/s2/2018-04-16/31/U/FU/2018/4/18/0/B09_sur.tif’\n",
      "mv: will not overwrite just-created ‘/datastore/working_dirs/OVP_test_pynb36upd_20220717/sdrs/2018-04-16/31-ac/B09_sur_unc.tif’ with ‘/datastore/working_dirs/OVP_test_pynb36upd_20220717/s2/2018-04-16/31/U/FU/2018/4/18/0/B09_sur_unc.tif’\n",
      "mv: will not overwrite just-created ‘/datastore/working_dirs/OVP_test_pynb36upd_20220717/sdrs/2018-04-16/31-ac/B10_sur.tif’ with ‘/datastore/working_dirs/OVP_test_pynb36upd_20220717/s2/2018-04-16/31/U/FU/2018/4/18/0/B10_sur.tif’\n",
      "mv: will not overwrite just-created ‘/datastore/working_dirs/OVP_test_pynb36upd_20220717/sdrs/2018-04-16/31-ac/B10_sur_unc.tif’ with ‘/datastore/working_dirs/OVP_test_pynb36upd_20220717/s2/2018-04-16/31/U/FU/2018/4/18/0/B10_sur_unc.tif’\n",
      "mv: will not overwrite just-created ‘/datastore/working_dirs/OVP_test_pynb36upd_20220717/sdrs/2018-04-16/31-ac/B05_sur.tif’ with ‘/datastore/working_dirs/OVP_test_pynb36upd_20220717/s2/2018-04-16/31/U/FU/2018/4/18/0/B05_sur.tif’\n",
      "mv: will not overwrite just-created ‘/datastore/working_dirs/OVP_test_pynb36upd_20220717/sdrs/2018-04-16/31-ac/B05_sur_unc.tif’ with ‘/datastore/working_dirs/OVP_test_pynb36upd_20220717/s2/2018-04-16/31/U/FU/2018/4/18/0/B05_sur_unc.tif’\n",
      "mv: will not overwrite just-created ‘/datastore/working_dirs/OVP_test_pynb36upd_20220717/sdrs/2018-04-16/31-ac/B06_sur.tif’ with ‘/datastore/working_dirs/OVP_test_pynb36upd_20220717/s2/2018-04-16/31/U/FU/2018/4/18/0/B06_sur.tif’\n",
      "mv: will not overwrite just-created ‘/datastore/working_dirs/OVP_test_pynb36upd_20220717/sdrs/2018-04-16/31-ac/B07_sur.tif’ with ‘/datastore/working_dirs/OVP_test_pynb36upd_20220717/s2/2018-04-16/31/U/FU/2018/4/18/0/B07_sur.tif’\n",
      "mv: will not overwrite just-created ‘/datastore/working_dirs/OVP_test_pynb36upd_20220717/sdrs/2018-04-16/31-ac/B07_sur_unc.tif’ with ‘/datastore/working_dirs/OVP_test_pynb36upd_20220717/s2/2018-04-16/31/U/FU/2018/4/18/0/B07_sur_unc.tif’\n",
      "mv: will not overwrite just-created ‘/datastore/working_dirs/OVP_test_pynb36upd_20220717/sdrs/2018-04-16/31-ac/B8A_sur.tif’ with ‘/datastore/working_dirs/OVP_test_pynb36upd_20220717/s2/2018-04-16/31/U/FU/2018/4/18/0/B8A_sur.tif’\n",
      "mv: will not overwrite just-created ‘/datastore/working_dirs/OVP_test_pynb36upd_20220717/sdrs/2018-04-16/31-ac/B8A_sur_unc.tif’ with ‘/datastore/working_dirs/OVP_test_pynb36upd_20220717/s2/2018-04-16/31/U/FU/2018/4/18/0/B8A_sur_unc.tif’\n",
      "mv: will not overwrite just-created ‘/datastore/working_dirs/OVP_test_pynb36upd_20220717/sdrs/2018-04-16/31-ac/B11_sur.tif’ with ‘/datastore/working_dirs/OVP_test_pynb36upd_20220717/s2/2018-04-16/31/U/FU/2018/4/18/0/B11_sur.tif’\n",
      "mv: will not overwrite just-created ‘/datastore/working_dirs/OVP_test_pynb36upd_20220717/sdrs/2018-04-16/31-ac/B11_sur_unc.tif’ with ‘/datastore/working_dirs/OVP_test_pynb36upd_20220717/s2/2018-04-16/31/U/FU/2018/4/18/0/B11_sur_unc.tif’\n",
      "mv: will not overwrite just-created ‘/datastore/working_dirs/OVP_test_pynb36upd_20220717/sdrs/2018-04-16/31-ac/B12_sur.tif’ with ‘/datastore/working_dirs/OVP_test_pynb36upd_20220717/s2/2018-04-16/31/U/FU/2018/4/18/0/B12_sur.tif’\n",
      "mv: will not overwrite just-created ‘/datastore/working_dirs/OVP_test_pynb36upd_20220717/sdrs/2018-04-16/31-ac/B12_sur_unc.tif’ with ‘/datastore/working_dirs/OVP_test_pynb36upd_20220717/s2/2018-04-16/31/U/FU/2018/4/18/0/B12_sur_unc.tif’\n",
      "mv: will not overwrite just-created ‘/datastore/working_dirs/OVP_test_pynb36upd_20220717/sdrs/2018-04-16/31-ac/B02_sur.tif’ with ‘/datastore/working_dirs/OVP_test_pynb36upd_20220717/s2/2018-04-16/31/U/FU/2018/4/18/0/B02_sur.tif’\n",
      "mv: will not overwrite just-created ‘/datastore/working_dirs/OVP_test_pynb36upd_20220717/sdrs/2018-04-16/31-ac/B02_sur_unc.tif’ with ‘/datastore/working_dirs/OVP_test_pynb36upd_20220717/s2/2018-04-16/31/U/FU/2018/4/18/0/B02_sur_unc.tif’\n",
      "mv: will not overwrite just-created ‘/datastore/working_dirs/OVP_test_pynb36upd_20220717/sdrs/2018-04-16/31-ac/B03_sur.tif’ with ‘/datastore/working_dirs/OVP_test_pynb36upd_20220717/s2/2018-04-16/31/U/FU/2018/4/18/0/B03_sur.tif’\n",
      "mv: will not overwrite just-created ‘/datastore/working_dirs/OVP_test_pynb36upd_20220717/sdrs/2018-04-16/31-ac/B03_sur_unc.tif’ with ‘/datastore/working_dirs/OVP_test_pynb36upd_20220717/s2/2018-04-16/31/U/FU/2018/4/18/0/B03_sur_unc.tif’\n",
      "mv: will not overwrite just-created ‘/datastore/working_dirs/OVP_test_pynb36upd_20220717/sdrs/2018-04-16/31-ac/MSK_DETFOO_B01.gfs’ with ‘/datastore/working_dirs/OVP_test_pynb36upd_20220717/s2/2018-04-16/31/U/FU/2018/4/19/0/qi/MSK_DETFOO_B01.gfs’\n",
      "mv: will not overwrite just-created ‘/datastore/working_dirs/OVP_test_pynb36upd_20220717/sdrs/2018-04-16/31-ac/MSK_DETFOO_B02.gfs’ with ‘/datastore/working_dirs/OVP_test_pynb36upd_20220717/s2/2018-04-16/31/U/FU/2018/4/19/0/qi/MSK_DETFOO_B02.gfs’\n",
      "mv: will not overwrite just-created ‘/datastore/working_dirs/OVP_test_pynb36upd_20220717/sdrs/2018-04-16/31-ac/MSK_DETFOO_B03.gfs’ with ‘/datastore/working_dirs/OVP_test_pynb36upd_20220717/s2/2018-04-16/31/U/FU/2018/4/19/0/qi/MSK_DETFOO_B03.gfs’\n",
      "mv: will not overwrite just-created ‘/datastore/working_dirs/OVP_test_pynb36upd_20220717/sdrs/2018-04-16/31-ac/MSK_DETFOO_B04.gfs’ with ‘/datastore/working_dirs/OVP_test_pynb36upd_20220717/s2/2018-04-16/31/U/FU/2018/4/19/0/qi/MSK_DETFOO_B04.gfs’\n",
      "mv: will not overwrite just-created ‘/datastore/working_dirs/OVP_test_pynb36upd_20220717/sdrs/2018-04-16/31-ac/MSK_DETFOO_B05.gfs’ with ‘/datastore/working_dirs/OVP_test_pynb36upd_20220717/s2/2018-04-16/31/U/FU/2018/4/19/0/qi/MSK_DETFOO_B05.gfs’\n",
      "mv: will not overwrite just-created ‘/datastore/working_dirs/OVP_test_pynb36upd_20220717/sdrs/2018-04-16/31-ac/MSK_DETFOO_B06.gfs’ with ‘/datastore/working_dirs/OVP_test_pynb36upd_20220717/s2/2018-04-16/31/U/FU/2018/4/19/0/qi/MSK_DETFOO_B06.gfs’\n",
      "mv: will not overwrite just-created ‘/datastore/working_dirs/OVP_test_pynb36upd_20220717/sdrs/2018-04-16/31-ac/MSK_DETFOO_B07.gfs’ with ‘/datastore/working_dirs/OVP_test_pynb36upd_20220717/s2/2018-04-16/31/U/FU/2018/4/19/0/qi/MSK_DETFOO_B07.gfs’\n",
      "mv: will not overwrite just-created ‘/datastore/working_dirs/OVP_test_pynb36upd_20220717/sdrs/2018-04-16/31-ac/MSK_DETFOO_B08.gfs’ with ‘/datastore/working_dirs/OVP_test_pynb36upd_20220717/s2/2018-04-16/31/U/FU/2018/4/19/0/qi/MSK_DETFOO_B08.gfs’\n",
      "mv: will not overwrite just-created ‘/datastore/working_dirs/OVP_test_pynb36upd_20220717/sdrs/2018-04-16/31-ac/MSK_DETFOO_B8A.gfs’ with ‘/datastore/working_dirs/OVP_test_pynb36upd_20220717/s2/2018-04-16/31/U/FU/2018/4/19/0/qi/MSK_DETFOO_B8A.gfs’\n",
      "mv: will not overwrite just-created ‘/datastore/working_dirs/OVP_test_pynb36upd_20220717/sdrs/2018-04-16/31-ac/MSK_DETFOO_B09.gfs’ with ‘/datastore/working_dirs/OVP_test_pynb36upd_20220717/s2/2018-04-16/31/U/FU/2018/4/19/0/qi/MSK_DETFOO_B09.gfs’\n",
      "mv: will not overwrite just-created ‘/datastore/working_dirs/OVP_test_pynb36upd_20220717/sdrs/2018-04-16/31-ac/MSK_DETFOO_B10.gfs’ with ‘/datastore/working_dirs/OVP_test_pynb36upd_20220717/s2/2018-04-16/31/U/FU/2018/4/19/0/qi/MSK_DETFOO_B10.gfs’\n",
      "mv: will not overwrite just-created ‘/datastore/working_dirs/OVP_test_pynb36upd_20220717/sdrs/2018-04-16/31-ac/MSK_DETFOO_B11.gfs’ with ‘/datastore/working_dirs/OVP_test_pynb36upd_20220717/s2/2018-04-16/31/U/FU/2018/4/19/0/qi/MSK_DETFOO_B11.gfs’\n",
      "mv: will not overwrite just-created ‘/datastore/working_dirs/OVP_test_pynb36upd_20220717/sdrs/2018-04-16/31-ac/MSK_DETFOO_B12.gfs’ with ‘/datastore/working_dirs/OVP_test_pynb36upd_20220717/s2/2018-04-16/31/U/FU/2018/4/19/0/qi/MSK_DETFOO_B12.gfs’\n",
      "mv: will not overwrite just-created ‘/datastore/working_dirs/OVP_test_pynb36upd_20220717/sdrs/2018-04-16/31-ac/VAA_VZA_B03.tif’ with ‘/datastore/working_dirs/OVP_test_pynb36upd_20220717/s2/2018-04-16/31/U/FU/2018/4/19/0/angles/VAA_VZA_B03.tif’\n",
      "mv: will not overwrite just-created ‘/datastore/working_dirs/OVP_test_pynb36upd_20220717/sdrs/2018-04-16/31-ac/VAA_VZA_B04.tif’ with ‘/datastore/working_dirs/OVP_test_pynb36upd_20220717/s2/2018-04-16/31/U/FU/2018/4/19/0/angles/VAA_VZA_B04.tif’\n",
      "mv: will not overwrite just-created ‘/datastore/working_dirs/OVP_test_pynb36upd_20220717/sdrs/2018-04-16/31-ac/VAA_VZA_B05.tif’ with ‘/datastore/working_dirs/OVP_test_pynb36upd_20220717/s2/2018-04-16/31/U/FU/2018/4/19/0/angles/VAA_VZA_B05.tif’\n",
      "mv: will not overwrite just-created ‘/datastore/working_dirs/OVP_test_pynb36upd_20220717/sdrs/2018-04-16/31-ac/VAA_VZA_B06.tif’ with ‘/datastore/working_dirs/OVP_test_pynb36upd_20220717/s2/2018-04-16/31/U/FU/2018/4/19/0/angles/VAA_VZA_B06.tif’\n",
      "mv: will not overwrite just-created ‘/datastore/working_dirs/OVP_test_pynb36upd_20220717/sdrs/2018-04-16/31-ac/VAA_VZA_B07.tif’ with ‘/datastore/working_dirs/OVP_test_pynb36upd_20220717/s2/2018-04-16/31/U/FU/2018/4/19/0/angles/VAA_VZA_B07.tif’\n",
      "mv: will not overwrite just-created ‘/datastore/working_dirs/OVP_test_pynb36upd_20220717/sdrs/2018-04-16/31-ac/VAA_VZA_B08.tif’ with ‘/datastore/working_dirs/OVP_test_pynb36upd_20220717/s2/2018-04-16/31/U/FU/2018/4/19/0/angles/VAA_VZA_B08.tif’\n",
      "mv: will not overwrite just-created ‘/datastore/working_dirs/OVP_test_pynb36upd_20220717/sdrs/2018-04-16/31-ac/VAA_VZA_B8A.tif’ with ‘/datastore/working_dirs/OVP_test_pynb36upd_20220717/s2/2018-04-16/31/U/FU/2018/4/19/0/angles/VAA_VZA_B8A.tif’\n",
      "mv: will not overwrite just-created ‘/datastore/working_dirs/OVP_test_pynb36upd_20220717/sdrs/2018-04-16/31-ac/VAA_VZA_B09.tif’ with ‘/datastore/working_dirs/OVP_test_pynb36upd_20220717/s2/2018-04-16/31/U/FU/2018/4/19/0/angles/VAA_VZA_B09.tif’\n",
      "mv: will not overwrite just-created ‘/datastore/working_dirs/OVP_test_pynb36upd_20220717/sdrs/2018-04-16/31-ac/VAA_VZA_B10.tif’ with ‘/datastore/working_dirs/OVP_test_pynb36upd_20220717/s2/2018-04-16/31/U/FU/2018/4/19/0/angles/VAA_VZA_B10.tif’\n",
      "mv: will not overwrite just-created ‘/datastore/working_dirs/OVP_test_pynb36upd_20220717/sdrs/2018-04-16/31-ac/VAA_VZA_B11.tif’ with ‘/datastore/working_dirs/OVP_test_pynb36upd_20220717/s2/2018-04-16/31/U/FU/2018/4/19/0/angles/VAA_VZA_B11.tif’\n",
      "mv: will not overwrite just-created ‘/datastore/working_dirs/OVP_test_pynb36upd_20220717/sdrs/2018-04-16/31-ac/VAA_VZA_B12.tif’ with ‘/datastore/working_dirs/OVP_test_pynb36upd_20220717/s2/2018-04-16/31/U/FU/2018/4/19/0/angles/VAA_VZA_B12.tif’\n",
      "mv: will not overwrite just-created ‘/datastore/working_dirs/OVP_test_pynb36upd_20220717/sdrs/2018-04-16/31-ac/SAA_SZA.tif’ with ‘/datastore/working_dirs/OVP_test_pynb36upd_20220717/s2/2018-04-16/31/U/FU/2018/4/19/0/angles/SAA_SZA.tif’\n",
      "mv: will not overwrite just-created ‘/datastore/working_dirs/OVP_test_pynb36upd_20220717/sdrs/2018-04-16/31-ac/VAA_VZA_B01.tif’ with ‘/datastore/working_dirs/OVP_test_pynb36upd_20220717/s2/2018-04-16/31/U/FU/2018/4/19/0/angles/VAA_VZA_B01.tif’\n",
      "mv: will not overwrite just-created ‘/datastore/working_dirs/OVP_test_pynb36upd_20220717/sdrs/2018-04-16/31-ac/VAA_VZA_B02.tif’ with ‘/datastore/working_dirs/OVP_test_pynb36upd_20220717/s2/2018-04-16/31/U/FU/2018/4/19/0/angles/VAA_VZA_B02.tif’\n",
      "mv: will not overwrite just-created ‘/datastore/working_dirs/OVP_test_pynb36upd_20220717/sdrs/2018-04-16/31-ac/AOI.json’ with ‘/datastore/working_dirs/OVP_test_pynb36upd_20220717/s2/2018-04-16/31/U/FU/2018/4/19/0/AOI.json’\n",
      "mv: will not overwrite just-created ‘/datastore/working_dirs/OVP_test_pynb36upd_20220717/sdrs/2018-04-16/31-ac/cloud.tif’ with ‘/datastore/working_dirs/OVP_test_pynb36upd_20220717/s2/2018-04-16/31/U/FU/2018/4/19/0/cloud.tif’\n",
      "mv: will not overwrite just-created ‘/datastore/working_dirs/OVP_test_pynb36upd_20220717/sdrs/2018-04-16/31-ac/tco3.tif’ with ‘/datastore/working_dirs/OVP_test_pynb36upd_20220717/s2/2018-04-16/31/U/FU/2018/4/19/0/tco3.tif’\n",
      "mv: will not overwrite just-created ‘/datastore/working_dirs/OVP_test_pynb36upd_20220717/sdrs/2018-04-16/31-ac/tco3_unc.tif’ with ‘/datastore/working_dirs/OVP_test_pynb36upd_20220717/s2/2018-04-16/31/U/FU/2018/4/19/0/tco3_unc.tif’\n",
      "mv: will not overwrite just-created ‘/datastore/working_dirs/OVP_test_pynb36upd_20220717/sdrs/2018-04-16/31-ac/aot.tif’ with ‘/datastore/working_dirs/OVP_test_pynb36upd_20220717/s2/2018-04-16/31/U/FU/2018/4/19/0/aot.tif’\n",
      "mv: will not overwrite just-created ‘/datastore/working_dirs/OVP_test_pynb36upd_20220717/sdrs/2018-04-16/31-ac/tcwv_unc.tif’ with ‘/datastore/working_dirs/OVP_test_pynb36upd_20220717/s2/2018-04-16/31/U/FU/2018/4/19/0/tcwv_unc.tif’\n",
      "mv: will not overwrite just-created ‘/datastore/working_dirs/OVP_test_pynb36upd_20220717/sdrs/2018-04-16/31-ac/tcwv.tif’ with ‘/datastore/working_dirs/OVP_test_pynb36upd_20220717/s2/2018-04-16/31/U/FU/2018/4/19/0/tcwv.tif’\n",
      "mv: will not overwrite just-created ‘/datastore/working_dirs/OVP_test_pynb36upd_20220717/sdrs/2018-04-16/31-ac/B01_sur.tif’ with ‘/datastore/working_dirs/OVP_test_pynb36upd_20220717/s2/2018-04-16/31/U/FU/2018/4/19/0/B01_sur.tif’\n",
      "mv: will not overwrite just-created ‘/datastore/working_dirs/OVP_test_pynb36upd_20220717/sdrs/2018-04-16/31-ac/B01_sur_unc.tif’ with ‘/datastore/working_dirs/OVP_test_pynb36upd_20220717/s2/2018-04-16/31/U/FU/2018/4/19/0/B01_sur_unc.tif’\n",
      "mv: will not overwrite just-created ‘/datastore/working_dirs/OVP_test_pynb36upd_20220717/sdrs/2018-04-16/31-ac/B09_sur.tif’ with ‘/datastore/working_dirs/OVP_test_pynb36upd_20220717/s2/2018-04-16/31/U/FU/2018/4/19/0/B09_sur.tif’\n",
      "mv: will not overwrite just-created ‘/datastore/working_dirs/OVP_test_pynb36upd_20220717/sdrs/2018-04-16/31-ac/B10_sur.tif’ with ‘/datastore/working_dirs/OVP_test_pynb36upd_20220717/s2/2018-04-16/31/U/FU/2018/4/19/0/B10_sur.tif’\n",
      "mv: will not overwrite just-created ‘/datastore/working_dirs/OVP_test_pynb36upd_20220717/sdrs/2018-04-16/31-ac/B10_sur_unc.tif’ with ‘/datastore/working_dirs/OVP_test_pynb36upd_20220717/s2/2018-04-16/31/U/FU/2018/4/19/0/B10_sur_unc.tif’\n",
      "mv: will not overwrite just-created ‘/datastore/working_dirs/OVP_test_pynb36upd_20220717/sdrs/2018-04-16/31-ac/B05_sur.tif’ with ‘/datastore/working_dirs/OVP_test_pynb36upd_20220717/s2/2018-04-16/31/U/FU/2018/4/19/0/B05_sur.tif’\n",
      "mv: will not overwrite just-created ‘/datastore/working_dirs/OVP_test_pynb36upd_20220717/sdrs/2018-04-16/31-ac/B05_sur_unc.tif’ with ‘/datastore/working_dirs/OVP_test_pynb36upd_20220717/s2/2018-04-16/31/U/FU/2018/4/19/0/B05_sur_unc.tif’\n",
      "mv: will not overwrite just-created ‘/datastore/working_dirs/OVP_test_pynb36upd_20220717/sdrs/2018-04-16/31-ac/B06_sur_unc.tif’ with ‘/datastore/working_dirs/OVP_test_pynb36upd_20220717/s2/2018-04-16/31/U/FU/2018/4/19/0/B06_sur_unc.tif’\n",
      "mv: will not overwrite just-created ‘/datastore/working_dirs/OVP_test_pynb36upd_20220717/sdrs/2018-04-16/31-ac/B07_sur.tif’ with ‘/datastore/working_dirs/OVP_test_pynb36upd_20220717/s2/2018-04-16/31/U/FU/2018/4/19/0/B07_sur.tif’\n",
      "mv: will not overwrite just-created ‘/datastore/working_dirs/OVP_test_pynb36upd_20220717/sdrs/2018-04-16/31-ac/B07_sur_unc.tif’ with ‘/datastore/working_dirs/OVP_test_pynb36upd_20220717/s2/2018-04-16/31/U/FU/2018/4/19/0/B07_sur_unc.tif’\n",
      "mv: will not overwrite just-created ‘/datastore/working_dirs/OVP_test_pynb36upd_20220717/sdrs/2018-04-16/31-ac/B8A_sur.tif’ with ‘/datastore/working_dirs/OVP_test_pynb36upd_20220717/s2/2018-04-16/31/U/FU/2018/4/19/0/B8A_sur.tif’\n",
      "mv: will not overwrite just-created ‘/datastore/working_dirs/OVP_test_pynb36upd_20220717/sdrs/2018-04-16/31-ac/B8A_sur_unc.tif’ with ‘/datastore/working_dirs/OVP_test_pynb36upd_20220717/s2/2018-04-16/31/U/FU/2018/4/19/0/B8A_sur_unc.tif’\n",
      "mv: will not overwrite just-created ‘/datastore/working_dirs/OVP_test_pynb36upd_20220717/sdrs/2018-04-16/31-ac/B11_sur.tif’ with ‘/datastore/working_dirs/OVP_test_pynb36upd_20220717/s2/2018-04-16/31/U/FU/2018/4/19/0/B11_sur.tif’\n",
      "mv: will not overwrite just-created ‘/datastore/working_dirs/OVP_test_pynb36upd_20220717/sdrs/2018-04-16/31-ac/B11_sur_unc.tif’ with ‘/datastore/working_dirs/OVP_test_pynb36upd_20220717/s2/2018-04-16/31/U/FU/2018/4/19/0/B11_sur_unc.tif’\n",
      "mv: will not overwrite just-created ‘/datastore/working_dirs/OVP_test_pynb36upd_20220717/sdrs/2018-04-16/31-ac/B12_sur.tif’ with ‘/datastore/working_dirs/OVP_test_pynb36upd_20220717/s2/2018-04-16/31/U/FU/2018/4/19/0/B12_sur.tif’\n",
      "mv: will not overwrite just-created ‘/datastore/working_dirs/OVP_test_pynb36upd_20220717/sdrs/2018-04-16/31-ac/B12_sur_unc.tif’ with ‘/datastore/working_dirs/OVP_test_pynb36upd_20220717/s2/2018-04-16/31/U/FU/2018/4/19/0/B12_sur_unc.tif’\n",
      "mv: will not overwrite just-created ‘/datastore/working_dirs/OVP_test_pynb36upd_20220717/sdrs/2018-04-16/31-ac/B02_sur.tif’ with ‘/datastore/working_dirs/OVP_test_pynb36upd_20220717/s2/2018-04-16/31/U/FU/2018/4/19/0/B02_sur.tif’\n",
      "mv: will not overwrite just-created ‘/datastore/working_dirs/OVP_test_pynb36upd_20220717/sdrs/2018-04-16/31-ac/B02_sur_unc.tif’ with ‘/datastore/working_dirs/OVP_test_pynb36upd_20220717/s2/2018-04-16/31/U/FU/2018/4/19/0/B02_sur_unc.tif’\n",
      "mv: will not overwrite just-created ‘/datastore/working_dirs/OVP_test_pynb36upd_20220717/sdrs/2018-04-16/31-ac/B03_sur.tif’ with ‘/datastore/working_dirs/OVP_test_pynb36upd_20220717/s2/2018-04-16/31/U/FU/2018/4/19/0/B03_sur.tif’\n",
      "mv: will not overwrite just-created ‘/datastore/working_dirs/OVP_test_pynb36upd_20220717/sdrs/2018-04-16/31-ac/B03_sur_unc.tif’ with ‘/datastore/working_dirs/OVP_test_pynb36upd_20220717/s2/2018-04-16/31/U/FU/2018/4/19/0/B03_sur_unc.tif’\n",
      "mv: will not overwrite just-created ‘/datastore/working_dirs/OVP_test_pynb36upd_20220717/sdrs/2018-04-16/31-ac/B04_sur.tif’ with ‘/datastore/working_dirs/OVP_test_pynb36upd_20220717/s2/2018-04-16/31/U/FU/2018/4/19/0/B04_sur.tif’\n",
      "mv: will not overwrite just-created ‘/datastore/working_dirs/OVP_test_pynb36upd_20220717/sdrs/2018-04-16/31-ac/B04_sur_unc.tif’ with ‘/datastore/working_dirs/OVP_test_pynb36upd_20220717/s2/2018-04-16/31/U/FU/2018/4/19/0/B04_sur_unc.tif’\n",
      "mv: will not overwrite just-created ‘/datastore/working_dirs/OVP_test_pynb36upd_20220717/sdrs/2018-04-16/31-ac/B08_sur.tif’ with ‘/datastore/working_dirs/OVP_test_pynb36upd_20220717/s2/2018-04-16/31/U/FU/2018/4/19/0/B08_sur.tif’\n",
      "mv: will not overwrite just-created ‘/datastore/working_dirs/OVP_test_pynb36upd_20220717/sdrs/2018-04-16/31-ac/B08_sur_unc.tif’ with ‘/datastore/working_dirs/OVP_test_pynb36upd_20220717/s2/2018-04-16/31/U/FU/2018/4/19/0/B08_sur_unc.tif’\n",
      "mv: will not overwrite just-created ‘/datastore/working_dirs/OVP_test_pynb36upd_20220717/sdrs/2018-04-16/31-ac/TOA_RGB.tif’ with ‘/datastore/working_dirs/OVP_test_pynb36upd_20220717/s2/2018-04-16/31/U/FU/2018/4/19/0/TOA_RGB.tif’\n",
      "mv: will not overwrite just-created ‘/datastore/working_dirs/OVP_test_pynb36upd_20220717/sdrs/2018-04-16/31-ac/BOA_RGB.tif’ with ‘/datastore/working_dirs/OVP_test_pynb36upd_20220717/s2/2018-04-16/31/U/FU/2018/4/19/0/BOA_RGB.tif’\n",
      "mv: will not overwrite just-created ‘/datastore/working_dirs/OVP_test_pynb36upd_20220717/sdrs/2018-04-16/31-ac/SIAC_S2.log’ with ‘/datastore/working_dirs/OVP_test_pynb36upd_20220717/s2/2018-04-16/31/U/FU/2018/4/19/0/SIAC_S2.log’\n",
      "mv: will not overwrite just-created ‘/datastore/working_dirs/OVP_test_pynb36upd_20220717/sdrs/2018-04-16/31-ac/aot_unc.tif’ with ‘/datastore/working_dirs/OVP_test_pynb36upd_20220717/s2/2018-04-16/31/U/FU/2018/4/19/0/aot_unc.tif’\n",
      "mv: will not overwrite just-created ‘/datastore/working_dirs/OVP_test_pynb36upd_20220717/sdrs/2018-04-16/31-ac/B09_sur_unc.tif’ with ‘/datastore/working_dirs/OVP_test_pynb36upd_20220717/s2/2018-04-16/31/U/FU/2018/4/19/0/B09_sur_unc.tif’\n",
      "mv: will not overwrite just-created ‘/datastore/working_dirs/OVP_test_pynb36upd_20220717/sdrs/2018-04-16/31-ac/B06_sur.tif’ with ‘/datastore/working_dirs/OVP_test_pynb36upd_20220717/s2/2018-04-16/31/U/FU/2018/4/19/0/B06_sur.tif’\n",
      "cp: missing destination file operand after ‘/datastore/working_dirs/OVP_test_pynb36upd_20220717/sdrs/2018-04-16/31-ac//metadata.xml’\n",
      "Try 'cp --help' for more information.\n",
      "cp: missing destination file operand after ‘/datastore/working_dirs/OVP_test_pynb36upd_20220717/sdrs/2018-04-16/31-ac//MTD_MSIL1C.xml’\n",
      "Try 'cp --help' for more information.\n"
     ]
    },
    {
     "name": "stdout",
     "output_type": "stream",
     "text": [
      "Finished pre-processing S2 L1 data from 2018-04-16\n"
     ]
    },
    {
     "name": "stderr",
     "output_type": "stream",
     "text": [
      "cp: missing destination file operand after ‘/datastore/working_dirs/OVP_test_pynb36upd_20220717/sdrs/2018-04-16/31-ac//MTD_MSIL1C.xml’\n",
      "Try 'cp --help' for more information.\n"
     ]
    }
   ],
   "source": [
    "preprocess_s2(s2_l1c_directory_for_date, modis_directory_for_date, emulators_directory, cams_directory_for_date, \n",
    "          dem_directory, sdrs_directory_for_date, roi)"
   ]
  },
  {
   "cell_type": "code",
   "execution_count": 20,
   "metadata": {},
   "outputs": [
    {
     "ename": "NameError",
     "evalue": "name 'np' is not defined",
     "output_type": "error",
     "traceback": [
      "\u001b[0;31m---------------------------------------------------------------------------\u001b[0m",
      "\u001b[0;31mNameError\u001b[0m                                 Traceback (most recent call last)",
      "Input \u001b[0;32mIn [20]\u001b[0m, in \u001b[0;36m<cell line: 1>\u001b[0;34m()\u001b[0m\n\u001b[0;32m----> 1\u001b[0m to_inv \u001b[38;5;241m=\u001b[39m \u001b[43mnp\u001b[49m\u001b[38;5;241m.\u001b[39mnansum([sparse\u001b[38;5;241m.\u001b[39mdiags((\u001b[38;5;28mself\u001b[39m\u001b[38;5;241m.\u001b[39mobs_unc[\u001b[38;5;241m0\u001b[39m])\u001b[38;5;241m.\u001b[39mravel())\u001b[38;5;241m.\u001b[39mtoarray(), sparse\u001b[38;5;241m.\u001b[39mdiags((\u001b[38;5;28mself\u001b[39m\u001b[38;5;241m.\u001b[39mprior_uncs[\u001b[38;5;241m0\u001b[39m]\u001b[38;5;241m*\u001b[39m\u001b[38;5;241m*\u001b[39m\u001b[38;5;241m-\u001b[39m\u001b[38;5;241m2\u001b[39m)\u001b[38;5;241m.\u001b[39mravel())\u001b[38;5;241m.\u001b[39mtoarray(), \u001b[38;5;28mself\u001b[39m\u001b[38;5;241m.\u001b[39mgamma\u001b[38;5;241m*\u001b[39m\u001b[38;5;241m*\u001b[39m\u001b[38;5;241m2\u001b[39m \u001b[38;5;241m*\u001b[39m dtd\u001b[38;5;241m.\u001b[39mtoarray()], axis \u001b[38;5;241m=\u001b[39m \u001b[38;5;241m0\u001b[39m)\n\u001b[1;32m      2\u001b[0m to_inv \u001b[38;5;241m=\u001b[39m np\u001b[38;5;241m.\u001b[39mnansum([sparse\u001b[38;5;241m.\u001b[39mdiags((\u001b[38;5;28mself\u001b[39m\u001b[38;5;241m.\u001b[39mobs_unc[\u001b[38;5;241m1\u001b[39m])\u001b[38;5;241m.\u001b[39mravel())\u001b[38;5;241m.\u001b[39mtoarray(), sparse\u001b[38;5;241m.\u001b[39mdiags((\u001b[38;5;28mself\u001b[39m\u001b[38;5;241m.\u001b[39mprior_uncs[\u001b[38;5;241m1\u001b[39m]\u001b[38;5;241m*\u001b[39m\u001b[38;5;241m*\u001b[39m\u001b[38;5;241m-\u001b[39m\u001b[38;5;241m2\u001b[39m)\u001b[38;5;241m.\u001b[39mravel())\u001b[38;5;241m.\u001b[39mtoarray(), \u001b[38;5;28mself\u001b[39m\u001b[38;5;241m.\u001b[39mgamma\u001b[38;5;241m*\u001b[39m\u001b[38;5;241m*\u001b[39m\u001b[38;5;241m2\u001b[39m \u001b[38;5;241m*\u001b[39m dtd\u001b[38;5;241m.\u001b[39mtoarray()], axis \u001b[38;5;241m=\u001b[39m \u001b[38;5;241m0\u001b[39m)\n",
      "\u001b[0;31mNameError\u001b[0m: name 'np' is not defined"
     ]
    }
   ],
   "source": [
    "to_inv = np.nansum([sparse.diags((self.obs_unc[0]).ravel()).toarray(), sparse.diags((self.prior_uncs[0]**-2).ravel()).toarray(), self.gamma**2 * dtd.toarray()], axis = 0)\n",
    "to_inv = np.nansum([sparse.diags((self.obs_unc[1]).ravel()).toarray(), sparse.diags((self.prior_uncs[1]**-2).ravel()).toarray(), self.gamma**2 * dtd.toarray()], axis = 0)"
   ]
  },
  {
   "cell_type": "code",
   "execution_count": null,
   "metadata": {},
   "outputs": [],
   "source": [
    "import numpy as np\n",
    "from scipy import optimize, interpolate, sparse\n",
    "def compose_dtd(nx, ny):\n",
    "    ns = nx*ny\n",
    "    n = int(np.sqrt(ns))\n",
    "    d1 = 2 * np.ones(ns)\n",
    "    d1[ny-1::ny] = 1\n",
    "    d1[0::ny] = 1\n",
    "    d2 = np.ones(ns) * -1\n",
    "    d2[ny-1::ny] = 0\n",
    "    d3 = 2 * np.ones(ns)\n",
    "    d3[:ny] = 1\n",
    "    d3[ns-ny:] = 1\n",
    "    d4 = np.ones(ns) * -1\n",
    "    dtdx = sparse.spdiags([d1, d2[::-1], d2], [0, 1, -1], ns, ns)\n",
    "    dtdy = sparse.spdiags([d3, d4, d4], [0, ny, -ny], ns, ns)\n",
    "    try:\n",
    "        dtd = dtdx + dtdy\n",
    "    except:\n",
    "        dtd = sparse.csr_matrix( dtdx.toarray() + dtdy.toarray() )\n",
    "        \n",
    "    return dtd, dtdx, dtdy\n"
   ]
  },
  {
   "cell_type": "code",
   "execution_count": null,
   "metadata": {},
   "outputs": [],
   "source": [
    "nx=1\n",
    "ny=414\n",
    "II,II1,II2 = compose_dtd(nx,ny)"
   ]
  },
  {
   "cell_type": "code",
   "execution_count": null,
   "metadata": {},
   "outputs": [],
   "source": [
    "sparse.linalg.inv(sparse.csc_matrix(II.toarray())).diagonal()\n"
   ]
  },
  {
   "cell_type": "code",
   "execution_count": null,
   "metadata": {},
   "outputs": [],
   "source": []
  },
  {
   "cell_type": "code",
   "execution_count": null,
   "metadata": {},
   "outputs": [],
   "source": []
  },
  {
   "cell_type": "code",
   "execution_count": null,
   "metadata": {},
   "outputs": [],
   "source": [
    "2022-07-22 15:45:04,933 - MultiGrid solver - INFO - Total 4 level of grids are going to be used.\n",
    "INFO:ComponentProgress:68\n",
    "INFO:ComponentProgress:68\n",
    "INFO:ComponentProgress:68\n",
    "INFO:ComponentProgress:68\n",
    "INFO:ComponentProgress:68\n",
    "INFO:ComponentProgress:68\n",
    "2022-07-22 15:45:04,940 - MultiGrid solver - INFO - Optimizing at grid level 1\n",
    "\n",
    "+++++++++++++++++++++++++++++++++++++++++++++++++++++++++++++++++++++++++++++++++++++++++++++++++++++++++\n",
    "\n",
    "2022-07-22 15:45:06,465 - MultiGrid solver - INFO - b'CONVERGENCE: REL_REDUCTION_OF_F_<=_FACTR*EPSMCH'\n",
    "2022-07-22 15:45:06,469 - MultiGrid solver - INFO - Iterations: 3\n",
    "2022-07-22 15:45:06,469 - MultiGrid solver - INFO - Function calls: 21\n",
    "INFO:ComponentProgress:70\n",
    "INFO:ComponentProgress:70\n",
    "INFO:ComponentProgress:70\n",
    "INFO:ComponentProgress:70\n",
    "INFO:ComponentProgress:70\n",
    "INFO:ComponentProgress:70\n",
    "2022-07-22 15:45:06,472 - MultiGrid solver - INFO - Optimizing at grid level 2\n",
    "\n",
    "+++++++++++++++++++++++++++++++++++++++++++++++++++++++++++++++++++++++++++++++++++++++++++++++++++++++++\n",
    "\n",
    "2022-07-22 15:45:10,591 - MultiGrid solver - INFO - b'STOP: TOTAL NO. of f AND g EVALUATIONS EXCEEDS LIMIT'\n",
    "2022-07-22 15:45:10,594 - MultiGrid solver - INFO - Iterations: 6\n",
    "2022-07-22 15:45:10,595 - MultiGrid solver - INFO - Function calls: 80\n",
    "INFO:ComponentProgress:73\n",
    "INFO:ComponentProgress:73\n",
    "INFO:ComponentProgress:73\n",
    "INFO:ComponentProgress:73\n",
    "INFO:ComponentProgress:73\n",
    "INFO:ComponentProgress:73\n",
    "2022-07-22 15:45:10,599 - MultiGrid solver - INFO - Optimizing at grid level 3\n",
    "\n",
    "+++++++++++++++++++++++++++++++++++++++++++++++++++++++++++++++++++++++++++++++++++++++++++++++++++++++++\n",
    "\n",
    "2022-07-22 15:45:12,050 - MultiGrid solver - INFO - b'CONVERGENCE: REL_REDUCTION_OF_F_<=_FACTR*EPSMCH'\n",
    "2022-07-22 15:45:12,051 - MultiGrid solver - INFO - Iterations: 4\n",
    "2022-07-22 15:45:12,052 - MultiGrid solver - INFO - Function calls: 20\n",
    "INFO:ComponentProgress:75\n",
    "INFO:ComponentProgress:75\n",
    "INFO:ComponentProgress:75\n",
    "INFO:ComponentProgress:75\n",
    "INFO:ComponentProgress:75\n",
    "INFO:ComponentProgress:75\n",
    "2022-07-22 15:45:12,056 - MultiGrid solver - INFO - Optimizing at grid level 4\n",
    "\n",
    "+++++++++++++++++++++++++++++++++++++++++++++++++++++++++++++++++++++++++++++++++++++++++++++++++++++++++\n",
    "\n",
    "2022-07-22 15:45:16,761 - MultiGrid solver - INFO - b'CONVERGENCE: REL_REDUCTION_OF_F_<=_FACTR*EPSMCH'\n",
    "2022-07-22 15:45:16,763 - MultiGrid solver - INFO - Iterations: 8\n",
    "2022-07-22 15:45:16,764 - MultiGrid solver - INFO - Function calls: 43\n"
   ]
  },
  {
   "cell_type": "code",
   "execution_count": null,
   "metadata": {},
   "outputs": [],
   "source": [
    "i=2\n",
    "ret = rets[i]\n",
    "S2A_OPER_MSI_L1C_TL_MPS__20180418T125356_A014734_T31UFU_N02.06"
   ]
  },
  {
   "cell_type": "code",
   "execution_count": null,
   "metadata": {},
   "outputs": [],
   "source": [
    "# INFO:ComponentProgress:20\n",
    "# 2022-07-19 16:55:39,322 - SIAC-V2.2.0 - INFO - Starting atmospheric corretion for S2B_OPER_MSI_L1C_TL_MPS__20180416T111231_A005797_T31UFU_N02.06\n",
    "# 2022-07-19 16:55:41,979 - SIAC-V2.2.0 - INFO - Set AOI.\n",
    "# 2022-07-19 16:55:41,984 - SIAC-V2.2.0 - INFO - Get corresponding bands.\n",
    "# 2022-07-19 16:55:41,985 - SIAC-V2.2.0 - INFO - Slice TOA bands based on AOI.\n",
    "# 2022-07-19 16:55:43,212 - SIAC-V2.2.0 - INFO - Parsing angles.\n",
    "# 2022-07-19 16:55:43,215 - SIAC-V2.2.0 - INFO - Mask bad pixels.\n",
    "# ERROR 1: Passed object is neither of type string nor bytes\n",
    "# ERROR 1: Passed object is neither of type string nor bytes\n",
    "# 2022-07-19 16:55:43,780 - SIAC-V2.2.0 - INFO - No valid value is found for retrieval of atmospheric parameters and priors are stored.\n",
    "# ERROR 1: Passed object is neither of type string nor bytes"
   ]
  },
  {
   "cell_type": "markdown",
   "metadata": {},
   "source": [
    "fid = open('/home/jtimmer1/toas.pkl','wb')\n",
    "pkl.dump(toas[:,mask].T,fid)\n",
    "fid.close()"
   ]
  },
  {
   "cell_type": "markdown",
   "metadata": {},
   "source": [
    "# the Contributing team\n",
    "<img src=\"pics/Logos.png\">\n"
   ]
  }
 ],
 "metadata": {
  "kernelspec": {
   "display_name": "Python [conda env:multiply-preprocessing-39e]",
   "language": "python",
   "name": "conda-env-multiply-preprocessing-39e-py"
  },
  "language_info": {
   "codemirror_mode": {
    "name": "ipython",
    "version": 3
   },
   "file_extension": ".py",
   "mimetype": "text/x-python",
   "name": "python",
   "nbconvert_exporter": "python",
   "pygments_lexer": "ipython3",
   "version": "3.9.7"
  }
 },
 "nbformat": 4,
 "nbformat_minor": 2
}
